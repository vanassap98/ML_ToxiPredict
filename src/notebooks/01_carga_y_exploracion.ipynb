{
 "cells": [
  {
   "cell_type": "markdown",
   "id": "ff5e1b50",
   "metadata": {},
   "source": [
    "## Justificación del enfoque `t-F2F`\n",
    "\n",
    "El benchmark ADORE propone diversos retos para evaluar la capacidad predictiva de modelos de toxicidad en organismos acuáticos. Este proyecto se centra en el *Challenge 2*, cuyo objetivo es predecir la toxicidad aguda de compuestos químicos **dentro del mismo grupo taxonómico**.\n",
    "\n",
    "Para ello se emplea el dataset `t-F2F_mortality.csv`, que representa la tarea `Fish-to-Fish` con el prefijo `t-` indicando que el conjunto de datos está **restringido a un grupo taxonómico específico**, en este caso, los peces. \n",
    "\n",
    "Esta estrategia permite entrenar y evaluar modelos de forma más robusta, evitando sesgos derivados de mezclar organismos con fisiologías o exposiciones muy distintas (como algas y crustáceos), y asegurando mayor validez ecológica y regulatoria."
   ]
  },
  {
   "cell_type": "markdown",
   "id": "c434ad60",
   "metadata": {},
   "source": [
    "#  BLOQUE 1 – Carga y exploración de datos"
   ]
  },
  {
   "cell_type": "markdown",
   "id": "eec52d86",
   "metadata": {},
   "source": [
    "Según la documentación oficial del benchmark ADORE, los datos han sido preprocesados, curados y estandarizados para asegurar su calidad.\n",
    "No obstante, se incluyen valores ausentes en algunas columnas, ya que el dataset también está diseñado para facilitar otras líneas de investigación futuras no abordadas en los retos definidos.\n",
    "\n",
    "Por tanto, no es necesario realizar un proceso de limpieza clásico. Aun así, se realiza una inspección inicial de tipos y valores para asegurar consistencia interna."
   ]
  },
  {
   "cell_type": "code",
   "execution_count": 1,
   "id": "ff26602e",
   "metadata": {},
   "outputs": [],
   "source": [
    "# Librerías\n",
    "import matplotlib.pyplot as plt\n",
    "import numpy as np\n",
    "import pandas as pd\n",
    "import os\n",
    "import seaborn as sns\n",
    "\n",
    "from collections import Counter\n",
    "from collections import defaultdict"
   ]
  },
  {
   "cell_type": "code",
   "execution_count": 2,
   "id": "13f33665",
   "metadata": {},
   "outputs": [
    {
     "data": {
      "application/vnd.microsoft.datawrangler.viewer.v0+json": {
       "columns": [
        {
         "name": "index",
         "rawType": "int64",
         "type": "integer"
        },
        {
         "name": "test_id",
         "rawType": "int64",
         "type": "integer"
        },
        {
         "name": "reference_number",
         "rawType": "int64",
         "type": "integer"
        },
        {
         "name": "test_cas",
         "rawType": "object",
         "type": "string"
        },
        {
         "name": "test_location",
         "rawType": "object",
         "type": "string"
        },
        {
         "name": "test_exposure_type",
         "rawType": "object",
         "type": "string"
        },
        {
         "name": "test_control_type",
         "rawType": "object",
         "type": "string"
        },
        {
         "name": "test_media_type",
         "rawType": "object",
         "type": "string"
        },
        {
         "name": "test_application_freq_unit",
         "rawType": "object",
         "type": "string"
        },
        {
         "name": "test_organism_lifestage",
         "rawType": "object",
         "type": "string"
        },
        {
         "name": "result_id",
         "rawType": "int64",
         "type": "integer"
        },
        {
         "name": "result_effect",
         "rawType": "object",
         "type": "string"
        },
        {
         "name": "result_endpoint",
         "rawType": "object",
         "type": "string"
        },
        {
         "name": "result_obs_duration_mean",
         "rawType": "float64",
         "type": "float"
        },
        {
         "name": "result_conc1_type",
         "rawType": "object",
         "type": "string"
        },
        {
         "name": "result_conc1_mean_op",
         "rawType": "object",
         "type": "unknown"
        },
        {
         "name": "result_conc1_mean",
         "rawType": "float64",
         "type": "float"
        },
        {
         "name": "result_conc1_mean_mol",
         "rawType": "float64",
         "type": "float"
        },
        {
         "name": "media_ph_mean",
         "rawType": "float64",
         "type": "float"
        },
        {
         "name": "media_temperature_mean",
         "rawType": "float64",
         "type": "float"
        },
        {
         "name": "tax_all",
         "rawType": "object",
         "type": "string"
        },
        {
         "name": "tax_name",
         "rawType": "object",
         "type": "string"
        },
        {
         "name": "tax_class",
         "rawType": "object",
         "type": "string"
        },
        {
         "name": "tax_order",
         "rawType": "object",
         "type": "string"
        },
        {
         "name": "tax_family",
         "rawType": "object",
         "type": "string"
        },
        {
         "name": "tax_genus",
         "rawType": "object",
         "type": "string"
        },
        {
         "name": "tax_species",
         "rawType": "object",
         "type": "string"
        },
        {
         "name": "tax_gs",
         "rawType": "object",
         "type": "string"
        },
        {
         "name": "species_number",
         "rawType": "object",
         "type": "string"
        },
        {
         "name": "tax_group",
         "rawType": "object",
         "type": "string"
        },
        {
         "name": "tax_pdm_available",
         "rawType": "bool",
         "type": "boolean"
        },
        {
         "name": "tax_eco_climate",
         "rawType": "object",
         "type": "string"
        },
        {
         "name": "tax_eco_ecozone",
         "rawType": "object",
         "type": "string"
        },
        {
         "name": "tax_eco_food",
         "rawType": "object",
         "type": "string"
        },
        {
         "name": "tax_eco_migrate5",
         "rawType": "object",
         "type": "string"
        },
        {
         "name": "tax_eco_migrate2",
         "rawType": "object",
         "type": "string"
        },
        {
         "name": "tax_ps_ampv",
         "rawType": "float64",
         "type": "float"
        },
        {
         "name": "tax_ps_ampkap",
         "rawType": "float64",
         "type": "float"
        },
        {
         "name": "tax_ps_amppm",
         "rawType": "float64",
         "type": "float"
        },
        {
         "name": "tax_lh_amd",
         "rawType": "float64",
         "type": "float"
        },
        {
         "name": "tax_lh_lbcm",
         "rawType": "float64",
         "type": "float"
        },
        {
         "name": "tax_lh_lpcm",
         "rawType": "float64",
         "type": "float"
        },
        {
         "name": "tax_lh_licm",
         "rawType": "float64",
         "type": "float"
        },
        {
         "name": "tax_lh_ri#/d",
         "rawType": "float64",
         "type": "float"
        },
        {
         "name": "result_conc1_mean_binary",
         "rawType": "int64",
         "type": "integer"
        },
        {
         "name": "result_conc1_mean_log",
         "rawType": "float64",
         "type": "float"
        },
        {
         "name": "result_conc1_mean_mol_log",
         "rawType": "float64",
         "type": "float"
        },
        {
         "name": "chem_dtxsid",
         "rawType": "object",
         "type": "string"
        },
        {
         "name": "chem_name",
         "rawType": "object",
         "type": "string"
        },
        {
         "name": "test_cas_name",
         "rawType": "object",
         "type": "string"
        },
        {
         "name": "chem_sf",
         "rawType": "object",
         "type": "string"
        },
        {
         "name": "chem_mw",
         "rawType": "float64",
         "type": "float"
        },
        {
         "name": "chem_mp",
         "rawType": "float64",
         "type": "float"
        },
        {
         "name": "chem_ws",
         "rawType": "float64",
         "type": "float"
        },
        {
         "name": "chem_ws_binary",
         "rawType": "bool",
         "type": "boolean"
        },
        {
         "name": "chem_dtxcid",
         "rawType": "object",
         "type": "string"
        },
        {
         "name": "chem_inchi",
         "rawType": "object",
         "type": "string"
        },
        {
         "name": "chem_inchikey",
         "rawType": "object",
         "type": "string"
        },
        {
         "name": "chem_pcp_cid",
         "rawType": "float64",
         "type": "float"
        },
        {
         "name": "chem_pcp_inchikey",
         "rawType": "object",
         "type": "string"
        },
        {
         "name": "chem_pcp_inchi",
         "rawType": "object",
         "type": "string"
        },
        {
         "name": "chem_pcp_iupac_name",
         "rawType": "object",
         "type": "string"
        },
        {
         "name": "chem_pcp_can_smiles",
         "rawType": "object",
         "type": "string"
        },
        {
         "name": "chem_pcp_fp",
         "rawType": "object",
         "type": "string"
        },
        {
         "name": "chem_pcp_heavy_atom_count",
         "rawType": "float64",
         "type": "float"
        },
        {
         "name": "chem_rdkit_clogp",
         "rawType": "float64",
         "type": "float"
        },
        {
         "name": "chem_pcp_bonds_count",
         "rawType": "int64",
         "type": "integer"
        },
        {
         "name": "chem_pcp_doublebonds_count",
         "rawType": "int64",
         "type": "integer"
        },
        {
         "name": "chem_pcp_triplebonds_count",
         "rawType": "int64",
         "type": "integer"
        },
        {
         "name": "chem_rings_count",
         "rawType": "float64",
         "type": "float"
        },
        {
         "name": "chem_OH_count",
         "rawType": "float64",
         "type": "float"
        },
        {
         "name": "chem_mol2vec_allowed",
         "rawType": "bool",
         "type": "boolean"
        },
        {
         "name": "chem_rdkit_can_smiles",
         "rawType": "object",
         "type": "string"
        },
        {
         "name": "chem_pka_median",
         "rawType": "float64",
         "type": "float"
        },
        {
         "name": "chem_MACCS_fp",
         "rawType": "object",
         "type": "string"
        },
        {
         "name": "chem_Morgan_fp",
         "rawType": "object",
         "type": "string"
        },
        {
         "name": "chem_ToxPrint_fp",
         "rawType": "object",
         "type": "string"
        },
        {
         "name": "chem_mol2vec000",
         "rawType": "float64",
         "type": "float"
        },
        {
         "name": "chem_mol2vec001",
         "rawType": "float64",
         "type": "float"
        },
        {
         "name": "chem_mol2vec002",
         "rawType": "float64",
         "type": "float"
        },
        {
         "name": "chem_mol2vec003",
         "rawType": "float64",
         "type": "float"
        },
        {
         "name": "chem_mol2vec004",
         "rawType": "float64",
         "type": "float"
        },
        {
         "name": "chem_mol2vec005",
         "rawType": "float64",
         "type": "float"
        },
        {
         "name": "chem_mol2vec006",
         "rawType": "float64",
         "type": "float"
        },
        {
         "name": "chem_mol2vec007",
         "rawType": "float64",
         "type": "float"
        },
        {
         "name": "chem_mol2vec008",
         "rawType": "float64",
         "type": "float"
        },
        {
         "name": "chem_mol2vec009",
         "rawType": "float64",
         "type": "float"
        },
        {
         "name": "chem_mol2vec010",
         "rawType": "float64",
         "type": "float"
        },
        {
         "name": "chem_mol2vec011",
         "rawType": "float64",
         "type": "float"
        },
        {
         "name": "chem_mol2vec012",
         "rawType": "float64",
         "type": "float"
        },
        {
         "name": "chem_mol2vec013",
         "rawType": "float64",
         "type": "float"
        },
        {
         "name": "chem_mol2vec014",
         "rawType": "float64",
         "type": "float"
        },
        {
         "name": "chem_mol2vec015",
         "rawType": "float64",
         "type": "float"
        },
        {
         "name": "chem_mol2vec016",
         "rawType": "float64",
         "type": "float"
        },
        {
         "name": "chem_mol2vec017",
         "rawType": "float64",
         "type": "float"
        },
        {
         "name": "chem_mol2vec018",
         "rawType": "float64",
         "type": "float"
        },
        {
         "name": "chem_mol2vec019",
         "rawType": "float64",
         "type": "float"
        },
        {
         "name": "chem_mol2vec020",
         "rawType": "float64",
         "type": "float"
        },
        {
         "name": "chem_mol2vec021",
         "rawType": "float64",
         "type": "float"
        },
        {
         "name": "chem_mol2vec022",
         "rawType": "float64",
         "type": "float"
        },
        {
         "name": "chem_mol2vec023",
         "rawType": "float64",
         "type": "float"
        },
        {
         "name": "chem_mol2vec024",
         "rawType": "float64",
         "type": "float"
        },
        {
         "name": "chem_mol2vec025",
         "rawType": "float64",
         "type": "float"
        },
        {
         "name": "chem_mol2vec026",
         "rawType": "float64",
         "type": "float"
        },
        {
         "name": "chem_mol2vec027",
         "rawType": "float64",
         "type": "float"
        },
        {
         "name": "chem_mol2vec028",
         "rawType": "float64",
         "type": "float"
        },
        {
         "name": "chem_mol2vec029",
         "rawType": "float64",
         "type": "float"
        },
        {
         "name": "chem_mol2vec030",
         "rawType": "float64",
         "type": "float"
        },
        {
         "name": "chem_mol2vec031",
         "rawType": "float64",
         "type": "float"
        },
        {
         "name": "chem_mol2vec032",
         "rawType": "float64",
         "type": "float"
        },
        {
         "name": "chem_mol2vec033",
         "rawType": "float64",
         "type": "float"
        },
        {
         "name": "chem_mol2vec034",
         "rawType": "float64",
         "type": "float"
        },
        {
         "name": "chem_mol2vec035",
         "rawType": "float64",
         "type": "float"
        },
        {
         "name": "chem_mol2vec036",
         "rawType": "float64",
         "type": "float"
        },
        {
         "name": "chem_mol2vec037",
         "rawType": "float64",
         "type": "float"
        },
        {
         "name": "chem_mol2vec038",
         "rawType": "float64",
         "type": "float"
        },
        {
         "name": "chem_mol2vec039",
         "rawType": "float64",
         "type": "float"
        },
        {
         "name": "chem_mol2vec040",
         "rawType": "float64",
         "type": "float"
        },
        {
         "name": "chem_mol2vec041",
         "rawType": "float64",
         "type": "float"
        },
        {
         "name": "chem_mol2vec042",
         "rawType": "float64",
         "type": "float"
        },
        {
         "name": "chem_mol2vec043",
         "rawType": "float64",
         "type": "float"
        },
        {
         "name": "chem_mol2vec044",
         "rawType": "float64",
         "type": "float"
        },
        {
         "name": "chem_mol2vec045",
         "rawType": "float64",
         "type": "float"
        },
        {
         "name": "chem_mol2vec046",
         "rawType": "float64",
         "type": "float"
        },
        {
         "name": "chem_mol2vec047",
         "rawType": "float64",
         "type": "float"
        },
        {
         "name": "chem_mol2vec048",
         "rawType": "float64",
         "type": "float"
        },
        {
         "name": "chem_mol2vec049",
         "rawType": "float64",
         "type": "float"
        },
        {
         "name": "chem_mol2vec050",
         "rawType": "float64",
         "type": "float"
        },
        {
         "name": "chem_mol2vec051",
         "rawType": "float64",
         "type": "float"
        },
        {
         "name": "chem_mol2vec052",
         "rawType": "float64",
         "type": "float"
        },
        {
         "name": "chem_mol2vec053",
         "rawType": "float64",
         "type": "float"
        },
        {
         "name": "chem_mol2vec054",
         "rawType": "float64",
         "type": "float"
        },
        {
         "name": "chem_mol2vec055",
         "rawType": "float64",
         "type": "float"
        },
        {
         "name": "chem_mol2vec056",
         "rawType": "float64",
         "type": "float"
        },
        {
         "name": "chem_mol2vec057",
         "rawType": "float64",
         "type": "float"
        },
        {
         "name": "chem_mol2vec058",
         "rawType": "float64",
         "type": "float"
        },
        {
         "name": "chem_mol2vec059",
         "rawType": "float64",
         "type": "float"
        },
        {
         "name": "chem_mol2vec060",
         "rawType": "float64",
         "type": "float"
        },
        {
         "name": "chem_mol2vec061",
         "rawType": "float64",
         "type": "float"
        },
        {
         "name": "chem_mol2vec062",
         "rawType": "float64",
         "type": "float"
        },
        {
         "name": "chem_mol2vec063",
         "rawType": "float64",
         "type": "float"
        },
        {
         "name": "chem_mol2vec064",
         "rawType": "float64",
         "type": "float"
        },
        {
         "name": "chem_mol2vec065",
         "rawType": "float64",
         "type": "float"
        },
        {
         "name": "chem_mol2vec066",
         "rawType": "float64",
         "type": "float"
        },
        {
         "name": "chem_mol2vec067",
         "rawType": "float64",
         "type": "float"
        },
        {
         "name": "chem_mol2vec068",
         "rawType": "float64",
         "type": "float"
        },
        {
         "name": "chem_mol2vec069",
         "rawType": "float64",
         "type": "float"
        },
        {
         "name": "chem_mol2vec070",
         "rawType": "float64",
         "type": "float"
        },
        {
         "name": "chem_mol2vec071",
         "rawType": "float64",
         "type": "float"
        },
        {
         "name": "chem_mol2vec072",
         "rawType": "float64",
         "type": "float"
        },
        {
         "name": "chem_mol2vec073",
         "rawType": "float64",
         "type": "float"
        },
        {
         "name": "chem_mol2vec074",
         "rawType": "float64",
         "type": "float"
        },
        {
         "name": "chem_mol2vec075",
         "rawType": "float64",
         "type": "float"
        },
        {
         "name": "chem_mol2vec076",
         "rawType": "float64",
         "type": "float"
        },
        {
         "name": "chem_mol2vec077",
         "rawType": "float64",
         "type": "float"
        },
        {
         "name": "chem_mol2vec078",
         "rawType": "float64",
         "type": "float"
        },
        {
         "name": "chem_mol2vec079",
         "rawType": "float64",
         "type": "float"
        },
        {
         "name": "chem_mol2vec080",
         "rawType": "float64",
         "type": "float"
        },
        {
         "name": "chem_mol2vec081",
         "rawType": "float64",
         "type": "float"
        },
        {
         "name": "chem_mol2vec082",
         "rawType": "float64",
         "type": "float"
        },
        {
         "name": "chem_mol2vec083",
         "rawType": "float64",
         "type": "float"
        },
        {
         "name": "chem_mol2vec084",
         "rawType": "float64",
         "type": "float"
        },
        {
         "name": "chem_mol2vec085",
         "rawType": "float64",
         "type": "float"
        },
        {
         "name": "chem_mol2vec086",
         "rawType": "float64",
         "type": "float"
        },
        {
         "name": "chem_mol2vec087",
         "rawType": "float64",
         "type": "float"
        },
        {
         "name": "chem_mol2vec088",
         "rawType": "float64",
         "type": "float"
        },
        {
         "name": "chem_mol2vec089",
         "rawType": "float64",
         "type": "float"
        },
        {
         "name": "chem_mol2vec090",
         "rawType": "float64",
         "type": "float"
        },
        {
         "name": "chem_mol2vec091",
         "rawType": "float64",
         "type": "float"
        },
        {
         "name": "chem_mol2vec092",
         "rawType": "float64",
         "type": "float"
        },
        {
         "name": "chem_mol2vec093",
         "rawType": "float64",
         "type": "float"
        },
        {
         "name": "chem_mol2vec094",
         "rawType": "float64",
         "type": "float"
        },
        {
         "name": "chem_mol2vec095",
         "rawType": "float64",
         "type": "float"
        },
        {
         "name": "chem_mol2vec096",
         "rawType": "float64",
         "type": "float"
        },
        {
         "name": "chem_mol2vec097",
         "rawType": "float64",
         "type": "float"
        },
        {
         "name": "chem_mol2vec098",
         "rawType": "float64",
         "type": "float"
        },
        {
         "name": "chem_mol2vec099",
         "rawType": "float64",
         "type": "float"
        },
        {
         "name": "chem_mol2vec100",
         "rawType": "float64",
         "type": "float"
        },
        {
         "name": "chem_mol2vec101",
         "rawType": "float64",
         "type": "float"
        },
        {
         "name": "chem_mol2vec102",
         "rawType": "float64",
         "type": "float"
        },
        {
         "name": "chem_mol2vec103",
         "rawType": "float64",
         "type": "float"
        },
        {
         "name": "chem_mol2vec104",
         "rawType": "float64",
         "type": "float"
        },
        {
         "name": "chem_mol2vec105",
         "rawType": "float64",
         "type": "float"
        },
        {
         "name": "chem_mol2vec106",
         "rawType": "float64",
         "type": "float"
        },
        {
         "name": "chem_mol2vec107",
         "rawType": "float64",
         "type": "float"
        },
        {
         "name": "chem_mol2vec108",
         "rawType": "float64",
         "type": "float"
        },
        {
         "name": "chem_mol2vec109",
         "rawType": "float64",
         "type": "float"
        },
        {
         "name": "chem_mol2vec110",
         "rawType": "float64",
         "type": "float"
        },
        {
         "name": "chem_mol2vec111",
         "rawType": "float64",
         "type": "float"
        },
        {
         "name": "chem_mol2vec112",
         "rawType": "float64",
         "type": "float"
        },
        {
         "name": "chem_mol2vec113",
         "rawType": "float64",
         "type": "float"
        },
        {
         "name": "chem_mol2vec114",
         "rawType": "float64",
         "type": "float"
        },
        {
         "name": "chem_mol2vec115",
         "rawType": "float64",
         "type": "float"
        },
        {
         "name": "chem_mol2vec116",
         "rawType": "float64",
         "type": "float"
        },
        {
         "name": "chem_mol2vec117",
         "rawType": "float64",
         "type": "float"
        },
        {
         "name": "chem_mol2vec118",
         "rawType": "float64",
         "type": "float"
        },
        {
         "name": "chem_mol2vec119",
         "rawType": "float64",
         "type": "float"
        },
        {
         "name": "chem_mol2vec120",
         "rawType": "float64",
         "type": "float"
        },
        {
         "name": "chem_mol2vec121",
         "rawType": "float64",
         "type": "float"
        },
        {
         "name": "chem_mol2vec122",
         "rawType": "float64",
         "type": "float"
        },
        {
         "name": "chem_mol2vec123",
         "rawType": "float64",
         "type": "float"
        },
        {
         "name": "chem_mol2vec124",
         "rawType": "float64",
         "type": "float"
        },
        {
         "name": "chem_mol2vec125",
         "rawType": "float64",
         "type": "float"
        },
        {
         "name": "chem_mol2vec126",
         "rawType": "float64",
         "type": "float"
        },
        {
         "name": "chem_mol2vec127",
         "rawType": "float64",
         "type": "float"
        },
        {
         "name": "chem_mol2vec128",
         "rawType": "float64",
         "type": "float"
        },
        {
         "name": "chem_mol2vec129",
         "rawType": "float64",
         "type": "float"
        },
        {
         "name": "chem_mol2vec130",
         "rawType": "float64",
         "type": "float"
        },
        {
         "name": "chem_mol2vec131",
         "rawType": "float64",
         "type": "float"
        },
        {
         "name": "chem_mol2vec132",
         "rawType": "float64",
         "type": "float"
        },
        {
         "name": "chem_mol2vec133",
         "rawType": "float64",
         "type": "float"
        },
        {
         "name": "chem_mol2vec134",
         "rawType": "float64",
         "type": "float"
        },
        {
         "name": "chem_mol2vec135",
         "rawType": "float64",
         "type": "float"
        },
        {
         "name": "chem_mol2vec136",
         "rawType": "float64",
         "type": "float"
        },
        {
         "name": "chem_mol2vec137",
         "rawType": "float64",
         "type": "float"
        },
        {
         "name": "chem_mol2vec138",
         "rawType": "float64",
         "type": "float"
        },
        {
         "name": "chem_mol2vec139",
         "rawType": "float64",
         "type": "float"
        },
        {
         "name": "chem_mol2vec140",
         "rawType": "float64",
         "type": "float"
        },
        {
         "name": "chem_mol2vec141",
         "rawType": "float64",
         "type": "float"
        },
        {
         "name": "chem_mol2vec142",
         "rawType": "float64",
         "type": "float"
        },
        {
         "name": "chem_mol2vec143",
         "rawType": "float64",
         "type": "float"
        },
        {
         "name": "chem_mol2vec144",
         "rawType": "float64",
         "type": "float"
        },
        {
         "name": "chem_mol2vec145",
         "rawType": "float64",
         "type": "float"
        },
        {
         "name": "chem_mol2vec146",
         "rawType": "float64",
         "type": "float"
        },
        {
         "name": "chem_mol2vec147",
         "rawType": "float64",
         "type": "float"
        },
        {
         "name": "chem_mol2vec148",
         "rawType": "float64",
         "type": "float"
        },
        {
         "name": "chem_mol2vec149",
         "rawType": "float64",
         "type": "float"
        },
        {
         "name": "chem_mol2vec150",
         "rawType": "float64",
         "type": "float"
        },
        {
         "name": "chem_mol2vec151",
         "rawType": "float64",
         "type": "float"
        },
        {
         "name": "chem_mol2vec152",
         "rawType": "float64",
         "type": "float"
        },
        {
         "name": "chem_mol2vec153",
         "rawType": "float64",
         "type": "float"
        },
        {
         "name": "chem_mol2vec154",
         "rawType": "float64",
         "type": "float"
        },
        {
         "name": "chem_mol2vec155",
         "rawType": "float64",
         "type": "float"
        },
        {
         "name": "chem_mol2vec156",
         "rawType": "float64",
         "type": "float"
        },
        {
         "name": "chem_mol2vec157",
         "rawType": "float64",
         "type": "float"
        },
        {
         "name": "chem_mol2vec158",
         "rawType": "float64",
         "type": "float"
        },
        {
         "name": "chem_mol2vec159",
         "rawType": "float64",
         "type": "float"
        },
        {
         "name": "chem_mol2vec160",
         "rawType": "float64",
         "type": "float"
        },
        {
         "name": "chem_mol2vec161",
         "rawType": "float64",
         "type": "float"
        },
        {
         "name": "chem_mol2vec162",
         "rawType": "float64",
         "type": "float"
        },
        {
         "name": "chem_mol2vec163",
         "rawType": "float64",
         "type": "float"
        },
        {
         "name": "chem_mol2vec164",
         "rawType": "float64",
         "type": "float"
        },
        {
         "name": "chem_mol2vec165",
         "rawType": "float64",
         "type": "float"
        },
        {
         "name": "chem_mol2vec166",
         "rawType": "float64",
         "type": "float"
        },
        {
         "name": "chem_mol2vec167",
         "rawType": "float64",
         "type": "float"
        },
        {
         "name": "chem_mol2vec168",
         "rawType": "float64",
         "type": "float"
        },
        {
         "name": "chem_mol2vec169",
         "rawType": "float64",
         "type": "float"
        },
        {
         "name": "chem_mol2vec170",
         "rawType": "float64",
         "type": "float"
        },
        {
         "name": "chem_mol2vec171",
         "rawType": "float64",
         "type": "float"
        },
        {
         "name": "chem_mol2vec172",
         "rawType": "float64",
         "type": "float"
        },
        {
         "name": "chem_mol2vec173",
         "rawType": "float64",
         "type": "float"
        },
        {
         "name": "chem_mol2vec174",
         "rawType": "float64",
         "type": "float"
        },
        {
         "name": "chem_mol2vec175",
         "rawType": "float64",
         "type": "float"
        },
        {
         "name": "chem_mol2vec176",
         "rawType": "float64",
         "type": "float"
        },
        {
         "name": "chem_mol2vec177",
         "rawType": "float64",
         "type": "float"
        },
        {
         "name": "chem_mol2vec178",
         "rawType": "float64",
         "type": "float"
        },
        {
         "name": "chem_mol2vec179",
         "rawType": "float64",
         "type": "float"
        },
        {
         "name": "chem_mol2vec180",
         "rawType": "float64",
         "type": "float"
        },
        {
         "name": "chem_mol2vec181",
         "rawType": "float64",
         "type": "float"
        },
        {
         "name": "chem_mol2vec182",
         "rawType": "float64",
         "type": "float"
        },
        {
         "name": "chem_mol2vec183",
         "rawType": "float64",
         "type": "float"
        },
        {
         "name": "chem_mol2vec184",
         "rawType": "float64",
         "type": "float"
        },
        {
         "name": "chem_mol2vec185",
         "rawType": "float64",
         "type": "float"
        },
        {
         "name": "chem_mol2vec186",
         "rawType": "float64",
         "type": "float"
        },
        {
         "name": "chem_mol2vec187",
         "rawType": "float64",
         "type": "float"
        },
        {
         "name": "chem_mol2vec188",
         "rawType": "float64",
         "type": "float"
        },
        {
         "name": "chem_mol2vec189",
         "rawType": "float64",
         "type": "float"
        },
        {
         "name": "chem_mol2vec190",
         "rawType": "float64",
         "type": "float"
        },
        {
         "name": "chem_mol2vec191",
         "rawType": "float64",
         "type": "float"
        },
        {
         "name": "chem_mol2vec192",
         "rawType": "float64",
         "type": "float"
        },
        {
         "name": "chem_mol2vec193",
         "rawType": "float64",
         "type": "float"
        },
        {
         "name": "chem_mol2vec194",
         "rawType": "float64",
         "type": "float"
        },
        {
         "name": "chem_mol2vec195",
         "rawType": "float64",
         "type": "float"
        },
        {
         "name": "chem_mol2vec196",
         "rawType": "float64",
         "type": "float"
        },
        {
         "name": "chem_mol2vec197",
         "rawType": "float64",
         "type": "float"
        },
        {
         "name": "chem_mol2vec198",
         "rawType": "float64",
         "type": "float"
        },
        {
         "name": "chem_mol2vec199",
         "rawType": "float64",
         "type": "float"
        },
        {
         "name": "chem_mol2vec200",
         "rawType": "float64",
         "type": "float"
        },
        {
         "name": "chem_mol2vec201",
         "rawType": "float64",
         "type": "float"
        },
        {
         "name": "chem_mol2vec202",
         "rawType": "float64",
         "type": "float"
        },
        {
         "name": "chem_mol2vec203",
         "rawType": "float64",
         "type": "float"
        },
        {
         "name": "chem_mol2vec204",
         "rawType": "float64",
         "type": "float"
        },
        {
         "name": "chem_mol2vec205",
         "rawType": "float64",
         "type": "float"
        },
        {
         "name": "chem_mol2vec206",
         "rawType": "float64",
         "type": "float"
        },
        {
         "name": "chem_mol2vec207",
         "rawType": "float64",
         "type": "float"
        },
        {
         "name": "chem_mol2vec208",
         "rawType": "float64",
         "type": "float"
        },
        {
         "name": "chem_mol2vec209",
         "rawType": "float64",
         "type": "float"
        },
        {
         "name": "chem_mol2vec210",
         "rawType": "float64",
         "type": "float"
        },
        {
         "name": "chem_mol2vec211",
         "rawType": "float64",
         "type": "float"
        },
        {
         "name": "chem_mol2vec212",
         "rawType": "float64",
         "type": "float"
        },
        {
         "name": "chem_mol2vec213",
         "rawType": "float64",
         "type": "float"
        },
        {
         "name": "chem_mol2vec214",
         "rawType": "float64",
         "type": "float"
        },
        {
         "name": "chem_mol2vec215",
         "rawType": "float64",
         "type": "float"
        },
        {
         "name": "chem_mol2vec216",
         "rawType": "float64",
         "type": "float"
        },
        {
         "name": "chem_mol2vec217",
         "rawType": "float64",
         "type": "float"
        },
        {
         "name": "chem_mol2vec218",
         "rawType": "float64",
         "type": "float"
        },
        {
         "name": "chem_mol2vec219",
         "rawType": "float64",
         "type": "float"
        },
        {
         "name": "chem_mol2vec220",
         "rawType": "float64",
         "type": "float"
        },
        {
         "name": "chem_mol2vec221",
         "rawType": "float64",
         "type": "float"
        },
        {
         "name": "chem_mol2vec222",
         "rawType": "float64",
         "type": "float"
        },
        {
         "name": "chem_mol2vec223",
         "rawType": "float64",
         "type": "float"
        },
        {
         "name": "chem_mol2vec224",
         "rawType": "float64",
         "type": "float"
        },
        {
         "name": "chem_mol2vec225",
         "rawType": "float64",
         "type": "float"
        },
        {
         "name": "chem_mol2vec226",
         "rawType": "float64",
         "type": "float"
        },
        {
         "name": "chem_mol2vec227",
         "rawType": "float64",
         "type": "float"
        },
        {
         "name": "chem_mol2vec228",
         "rawType": "float64",
         "type": "float"
        },
        {
         "name": "chem_mol2vec229",
         "rawType": "float64",
         "type": "float"
        },
        {
         "name": "chem_mol2vec230",
         "rawType": "float64",
         "type": "float"
        },
        {
         "name": "chem_mol2vec231",
         "rawType": "float64",
         "type": "float"
        },
        {
         "name": "chem_mol2vec232",
         "rawType": "float64",
         "type": "float"
        },
        {
         "name": "chem_mol2vec233",
         "rawType": "float64",
         "type": "float"
        },
        {
         "name": "chem_mol2vec234",
         "rawType": "float64",
         "type": "float"
        },
        {
         "name": "chem_mol2vec235",
         "rawType": "float64",
         "type": "float"
        },
        {
         "name": "chem_mol2vec236",
         "rawType": "float64",
         "type": "float"
        },
        {
         "name": "chem_mol2vec237",
         "rawType": "float64",
         "type": "float"
        },
        {
         "name": "chem_mol2vec238",
         "rawType": "float64",
         "type": "float"
        },
        {
         "name": "chem_mol2vec239",
         "rawType": "float64",
         "type": "float"
        },
        {
         "name": "chem_mol2vec240",
         "rawType": "float64",
         "type": "float"
        },
        {
         "name": "chem_mol2vec241",
         "rawType": "float64",
         "type": "float"
        },
        {
         "name": "chem_mol2vec242",
         "rawType": "float64",
         "type": "float"
        },
        {
         "name": "chem_mol2vec243",
         "rawType": "float64",
         "type": "float"
        },
        {
         "name": "chem_mol2vec244",
         "rawType": "float64",
         "type": "float"
        },
        {
         "name": "chem_mol2vec245",
         "rawType": "float64",
         "type": "float"
        },
        {
         "name": "chem_mol2vec246",
         "rawType": "float64",
         "type": "float"
        },
        {
         "name": "chem_mol2vec247",
         "rawType": "float64",
         "type": "float"
        },
        {
         "name": "chem_mol2vec248",
         "rawType": "float64",
         "type": "float"
        },
        {
         "name": "chem_mol2vec249",
         "rawType": "float64",
         "type": "float"
        },
        {
         "name": "chem_mol2vec250",
         "rawType": "float64",
         "type": "float"
        },
        {
         "name": "chem_mol2vec251",
         "rawType": "float64",
         "type": "float"
        },
        {
         "name": "chem_mol2vec252",
         "rawType": "float64",
         "type": "float"
        },
        {
         "name": "chem_mol2vec253",
         "rawType": "float64",
         "type": "float"
        },
        {
         "name": "chem_mol2vec254",
         "rawType": "float64",
         "type": "float"
        },
        {
         "name": "chem_mol2vec255",
         "rawType": "float64",
         "type": "float"
        },
        {
         "name": "chem_mol2vec256",
         "rawType": "float64",
         "type": "float"
        },
        {
         "name": "chem_mol2vec257",
         "rawType": "float64",
         "type": "float"
        },
        {
         "name": "chem_mol2vec258",
         "rawType": "float64",
         "type": "float"
        },
        {
         "name": "chem_mol2vec259",
         "rawType": "float64",
         "type": "float"
        },
        {
         "name": "chem_mol2vec260",
         "rawType": "float64",
         "type": "float"
        },
        {
         "name": "chem_mol2vec261",
         "rawType": "float64",
         "type": "float"
        },
        {
         "name": "chem_mol2vec262",
         "rawType": "float64",
         "type": "float"
        },
        {
         "name": "chem_mol2vec263",
         "rawType": "float64",
         "type": "float"
        },
        {
         "name": "chem_mol2vec264",
         "rawType": "float64",
         "type": "float"
        },
        {
         "name": "chem_mol2vec265",
         "rawType": "float64",
         "type": "float"
        },
        {
         "name": "chem_mol2vec266",
         "rawType": "float64",
         "type": "float"
        },
        {
         "name": "chem_mol2vec267",
         "rawType": "float64",
         "type": "float"
        },
        {
         "name": "chem_mol2vec268",
         "rawType": "float64",
         "type": "float"
        },
        {
         "name": "chem_mol2vec269",
         "rawType": "float64",
         "type": "float"
        },
        {
         "name": "chem_mol2vec270",
         "rawType": "float64",
         "type": "float"
        },
        {
         "name": "chem_mol2vec271",
         "rawType": "float64",
         "type": "float"
        },
        {
         "name": "chem_mol2vec272",
         "rawType": "float64",
         "type": "float"
        },
        {
         "name": "chem_mol2vec273",
         "rawType": "float64",
         "type": "float"
        },
        {
         "name": "chem_mol2vec274",
         "rawType": "float64",
         "type": "float"
        },
        {
         "name": "chem_mol2vec275",
         "rawType": "float64",
         "type": "float"
        },
        {
         "name": "chem_mol2vec276",
         "rawType": "float64",
         "type": "float"
        },
        {
         "name": "chem_mol2vec277",
         "rawType": "float64",
         "type": "float"
        },
        {
         "name": "chem_mol2vec278",
         "rawType": "float64",
         "type": "float"
        },
        {
         "name": "chem_mol2vec279",
         "rawType": "float64",
         "type": "float"
        },
        {
         "name": "chem_mol2vec280",
         "rawType": "float64",
         "type": "float"
        },
        {
         "name": "chem_mol2vec281",
         "rawType": "float64",
         "type": "float"
        },
        {
         "name": "chem_mol2vec282",
         "rawType": "float64",
         "type": "float"
        },
        {
         "name": "chem_mol2vec283",
         "rawType": "float64",
         "type": "float"
        },
        {
         "name": "chem_mol2vec284",
         "rawType": "float64",
         "type": "float"
        },
        {
         "name": "chem_mol2vec285",
         "rawType": "float64",
         "type": "float"
        },
        {
         "name": "chem_mol2vec286",
         "rawType": "float64",
         "type": "float"
        },
        {
         "name": "chem_mol2vec287",
         "rawType": "float64",
         "type": "float"
        },
        {
         "name": "chem_mol2vec288",
         "rawType": "float64",
         "type": "float"
        },
        {
         "name": "chem_mol2vec289",
         "rawType": "float64",
         "type": "float"
        },
        {
         "name": "chem_mol2vec290",
         "rawType": "float64",
         "type": "float"
        },
        {
         "name": "chem_mol2vec291",
         "rawType": "float64",
         "type": "float"
        },
        {
         "name": "chem_mol2vec292",
         "rawType": "float64",
         "type": "float"
        },
        {
         "name": "chem_mol2vec293",
         "rawType": "float64",
         "type": "float"
        },
        {
         "name": "chem_mol2vec294",
         "rawType": "float64",
         "type": "float"
        },
        {
         "name": "chem_mol2vec295",
         "rawType": "float64",
         "type": "float"
        },
        {
         "name": "chem_mol2vec296",
         "rawType": "float64",
         "type": "float"
        },
        {
         "name": "chem_mol2vec297",
         "rawType": "float64",
         "type": "float"
        },
        {
         "name": "chem_mol2vec298",
         "rawType": "float64",
         "type": "float"
        },
        {
         "name": "chem_mol2vec299",
         "rawType": "float64",
         "type": "float"
        },
        {
         "name": "chem_mordred_ABC",
         "rawType": "float64",
         "type": "float"
        },
        {
         "name": "chem_mordred_ABCGG",
         "rawType": "float64",
         "type": "float"
        },
        {
         "name": "chem_mordred_nAcid",
         "rawType": "int64",
         "type": "integer"
        },
        {
         "name": "chem_mordred_nBase",
         "rawType": "int64",
         "type": "integer"
        },
        {
         "name": "chem_mordred_nAromAtom",
         "rawType": "int64",
         "type": "integer"
        },
        {
         "name": "chem_mordred_nAromBond",
         "rawType": "int64",
         "type": "integer"
        },
        {
         "name": "chem_mordred_nAtom",
         "rawType": "int64",
         "type": "integer"
        },
        {
         "name": "chem_mordred_nHeavyAtom",
         "rawType": "int64",
         "type": "integer"
        },
        {
         "name": "chem_mordred_nSpiro",
         "rawType": "int64",
         "type": "integer"
        },
        {
         "name": "chem_mordred_nBridgehead",
         "rawType": "int64",
         "type": "integer"
        },
        {
         "name": "chem_mordred_nHetero",
         "rawType": "int64",
         "type": "integer"
        },
        {
         "name": "chem_mordred_nH",
         "rawType": "int64",
         "type": "integer"
        },
        {
         "name": "chem_mordred_nB",
         "rawType": "int64",
         "type": "integer"
        },
        {
         "name": "chem_mordred_nC",
         "rawType": "int64",
         "type": "integer"
        },
        {
         "name": "chem_mordred_nN",
         "rawType": "int64",
         "type": "integer"
        },
        {
         "name": "chem_mordred_nO",
         "rawType": "int64",
         "type": "integer"
        },
        {
         "name": "chem_mordred_nS",
         "rawType": "int64",
         "type": "integer"
        },
        {
         "name": "chem_mordred_nP",
         "rawType": "int64",
         "type": "integer"
        },
        {
         "name": "chem_mordred_nF",
         "rawType": "int64",
         "type": "integer"
        },
        {
         "name": "chem_mordred_nCl",
         "rawType": "int64",
         "type": "integer"
        },
        {
         "name": "chem_mordred_nBr",
         "rawType": "int64",
         "type": "integer"
        },
        {
         "name": "chem_mordred_nI",
         "rawType": "int64",
         "type": "integer"
        },
        {
         "name": "chem_mordred_nX",
         "rawType": "int64",
         "type": "integer"
        },
        {
         "name": "chem_mordred_ATS0dv",
         "rawType": "float64",
         "type": "float"
        },
        {
         "name": "chem_mordred_ATS1dv",
         "rawType": "float64",
         "type": "float"
        },
        {
         "name": "chem_mordred_ATS2dv",
         "rawType": "float64",
         "type": "float"
        },
        {
         "name": "chem_mordred_ATS3dv",
         "rawType": "float64",
         "type": "float"
        },
        {
         "name": "chem_mordred_ATS4dv",
         "rawType": "float64",
         "type": "float"
        },
        {
         "name": "chem_mordred_ATS5dv",
         "rawType": "float64",
         "type": "float"
        },
        {
         "name": "chem_mordred_ATS6dv",
         "rawType": "float64",
         "type": "float"
        },
        {
         "name": "chem_mordred_ATS7dv",
         "rawType": "float64",
         "type": "float"
        },
        {
         "name": "chem_mordred_ATS8dv",
         "rawType": "float64",
         "type": "float"
        },
        {
         "name": "chem_mordred_ATS0d",
         "rawType": "float64",
         "type": "float"
        },
        {
         "name": "chem_mordred_ATS1d",
         "rawType": "float64",
         "type": "float"
        },
        {
         "name": "chem_mordred_ATS2d",
         "rawType": "float64",
         "type": "float"
        },
        {
         "name": "chem_mordred_ATS3d",
         "rawType": "float64",
         "type": "float"
        },
        {
         "name": "chem_mordred_ATS4d",
         "rawType": "float64",
         "type": "float"
        },
        {
         "name": "chem_mordred_ATS5d",
         "rawType": "float64",
         "type": "float"
        },
        {
         "name": "chem_mordred_ATS6d",
         "rawType": "float64",
         "type": "float"
        },
        {
         "name": "chem_mordred_ATS7d",
         "rawType": "float64",
         "type": "float"
        },
        {
         "name": "chem_mordred_ATS8d",
         "rawType": "float64",
         "type": "float"
        },
        {
         "name": "chem_mordred_ATS0Z",
         "rawType": "float64",
         "type": "float"
        },
        {
         "name": "chem_mordred_ATS1Z",
         "rawType": "float64",
         "type": "float"
        },
        {
         "name": "chem_mordred_ATS2Z",
         "rawType": "float64",
         "type": "float"
        },
        {
         "name": "chem_mordred_ATS3Z",
         "rawType": "float64",
         "type": "float"
        },
        {
         "name": "chem_mordred_ATS4Z",
         "rawType": "float64",
         "type": "float"
        },
        {
         "name": "chem_mordred_ATS5Z",
         "rawType": "float64",
         "type": "float"
        },
        {
         "name": "chem_mordred_ATS6Z",
         "rawType": "float64",
         "type": "float"
        },
        {
         "name": "chem_mordred_ATS7Z",
         "rawType": "float64",
         "type": "float"
        },
        {
         "name": "chem_mordred_ATS8Z",
         "rawType": "float64",
         "type": "float"
        },
        {
         "name": "chem_mordred_ATS0m",
         "rawType": "float64",
         "type": "float"
        },
        {
         "name": "chem_mordred_ATS1m",
         "rawType": "float64",
         "type": "float"
        },
        {
         "name": "chem_mordred_ATS2m",
         "rawType": "float64",
         "type": "float"
        },
        {
         "name": "chem_mordred_ATS3m",
         "rawType": "float64",
         "type": "float"
        },
        {
         "name": "chem_mordred_ATS4m",
         "rawType": "float64",
         "type": "float"
        },
        {
         "name": "chem_mordred_ATS5m",
         "rawType": "float64",
         "type": "float"
        },
        {
         "name": "chem_mordred_ATS6m",
         "rawType": "float64",
         "type": "float"
        },
        {
         "name": "chem_mordred_ATS7m",
         "rawType": "float64",
         "type": "float"
        },
        {
         "name": "chem_mordred_ATS8m",
         "rawType": "float64",
         "type": "float"
        },
        {
         "name": "chem_mordred_ATS0v",
         "rawType": "float64",
         "type": "float"
        },
        {
         "name": "chem_mordred_ATS1v",
         "rawType": "float64",
         "type": "float"
        },
        {
         "name": "chem_mordred_ATS2v",
         "rawType": "float64",
         "type": "float"
        },
        {
         "name": "chem_mordred_ATS3v",
         "rawType": "float64",
         "type": "float"
        },
        {
         "name": "chem_mordred_ATS4v",
         "rawType": "float64",
         "type": "float"
        },
        {
         "name": "chem_mordred_ATS5v",
         "rawType": "float64",
         "type": "float"
        },
        {
         "name": "chem_mordred_ATS6v",
         "rawType": "float64",
         "type": "float"
        },
        {
         "name": "chem_mordred_ATS7v",
         "rawType": "float64",
         "type": "float"
        },
        {
         "name": "chem_mordred_ATS8v",
         "rawType": "float64",
         "type": "float"
        },
        {
         "name": "chem_mordred_ATS0pe",
         "rawType": "float64",
         "type": "float"
        },
        {
         "name": "chem_mordred_ATS1pe",
         "rawType": "float64",
         "type": "float"
        },
        {
         "name": "chem_mordred_ATS2pe",
         "rawType": "float64",
         "type": "float"
        },
        {
         "name": "chem_mordred_ATS3pe",
         "rawType": "float64",
         "type": "float"
        },
        {
         "name": "chem_mordred_ATS4pe",
         "rawType": "float64",
         "type": "float"
        },
        {
         "name": "chem_mordred_ATS5pe",
         "rawType": "float64",
         "type": "float"
        },
        {
         "name": "chem_mordred_ATS6pe",
         "rawType": "float64",
         "type": "float"
        },
        {
         "name": "chem_mordred_ATS7pe",
         "rawType": "float64",
         "type": "float"
        },
        {
         "name": "chem_mordred_ATS8pe",
         "rawType": "float64",
         "type": "float"
        },
        {
         "name": "chem_mordred_ATS0p",
         "rawType": "float64",
         "type": "float"
        },
        {
         "name": "chem_mordred_ATS1p",
         "rawType": "float64",
         "type": "float"
        },
        {
         "name": "chem_mordred_ATS2p",
         "rawType": "float64",
         "type": "float"
        },
        {
         "name": "chem_mordred_ATS3p",
         "rawType": "float64",
         "type": "float"
        },
        {
         "name": "chem_mordred_ATS4p",
         "rawType": "float64",
         "type": "float"
        },
        {
         "name": "chem_mordred_ATS5p",
         "rawType": "float64",
         "type": "float"
        },
        {
         "name": "chem_mordred_ATS6p",
         "rawType": "float64",
         "type": "float"
        },
        {
         "name": "chem_mordred_ATS7p",
         "rawType": "float64",
         "type": "float"
        },
        {
         "name": "chem_mordred_ATS8p",
         "rawType": "float64",
         "type": "float"
        },
        {
         "name": "chem_mordred_ATS0i",
         "rawType": "float64",
         "type": "float"
        },
        {
         "name": "chem_mordred_ATS1i",
         "rawType": "float64",
         "type": "float"
        },
        {
         "name": "chem_mordred_ATS2i",
         "rawType": "float64",
         "type": "float"
        },
        {
         "name": "chem_mordred_ATS3i",
         "rawType": "float64",
         "type": "float"
        },
        {
         "name": "chem_mordred_ATS4i",
         "rawType": "float64",
         "type": "float"
        },
        {
         "name": "chem_mordred_ATS5i",
         "rawType": "float64",
         "type": "float"
        },
        {
         "name": "chem_mordred_ATS6i",
         "rawType": "float64",
         "type": "float"
        },
        {
         "name": "chem_mordred_ATS7i",
         "rawType": "float64",
         "type": "float"
        },
        {
         "name": "chem_mordred_ATS8i",
         "rawType": "float64",
         "type": "float"
        },
        {
         "name": "chem_mordred_AATS0dv",
         "rawType": "float64",
         "type": "float"
        },
        {
         "name": "chem_mordred_AATS0d",
         "rawType": "float64",
         "type": "float"
        },
        {
         "name": "chem_mordred_AATS0Z",
         "rawType": "float64",
         "type": "float"
        },
        {
         "name": "chem_mordred_AATS0m",
         "rawType": "float64",
         "type": "float"
        },
        {
         "name": "chem_mordred_AATS0v",
         "rawType": "float64",
         "type": "float"
        },
        {
         "name": "chem_mordred_AATS0pe",
         "rawType": "float64",
         "type": "float"
        },
        {
         "name": "chem_mordred_AATS0p",
         "rawType": "float64",
         "type": "float"
        },
        {
         "name": "chem_mordred_AATS0i",
         "rawType": "float64",
         "type": "float"
        },
        {
         "name": "chem_mordred_ATSC0dv",
         "rawType": "float64",
         "type": "float"
        },
        {
         "name": "chem_mordred_ATSC1dv",
         "rawType": "float64",
         "type": "float"
        },
        {
         "name": "chem_mordred_ATSC2dv",
         "rawType": "float64",
         "type": "float"
        },
        {
         "name": "chem_mordred_ATSC3dv",
         "rawType": "float64",
         "type": "float"
        },
        {
         "name": "chem_mordred_ATSC4dv",
         "rawType": "float64",
         "type": "float"
        },
        {
         "name": "chem_mordred_ATSC5dv",
         "rawType": "float64",
         "type": "float"
        },
        {
         "name": "chem_mordred_ATSC6dv",
         "rawType": "float64",
         "type": "float"
        },
        {
         "name": "chem_mordred_ATSC7dv",
         "rawType": "float64",
         "type": "float"
        },
        {
         "name": "chem_mordred_ATSC8dv",
         "rawType": "float64",
         "type": "float"
        },
        {
         "name": "chem_mordred_ATSC0d",
         "rawType": "float64",
         "type": "float"
        },
        {
         "name": "chem_mordred_ATSC1d",
         "rawType": "float64",
         "type": "float"
        },
        {
         "name": "chem_mordred_ATSC2d",
         "rawType": "float64",
         "type": "float"
        },
        {
         "name": "chem_mordred_ATSC3d",
         "rawType": "float64",
         "type": "float"
        },
        {
         "name": "chem_mordred_ATSC4d",
         "rawType": "float64",
         "type": "float"
        },
        {
         "name": "chem_mordred_ATSC5d",
         "rawType": "float64",
         "type": "float"
        },
        {
         "name": "chem_mordred_ATSC6d",
         "rawType": "float64",
         "type": "float"
        },
        {
         "name": "chem_mordred_ATSC7d",
         "rawType": "float64",
         "type": "float"
        },
        {
         "name": "chem_mordred_ATSC8d",
         "rawType": "float64",
         "type": "float"
        },
        {
         "name": "chem_mordred_ATSC0Z",
         "rawType": "float64",
         "type": "float"
        },
        {
         "name": "chem_mordred_ATSC1Z",
         "rawType": "float64",
         "type": "float"
        },
        {
         "name": "chem_mordred_ATSC2Z",
         "rawType": "float64",
         "type": "float"
        },
        {
         "name": "chem_mordred_ATSC3Z",
         "rawType": "float64",
         "type": "float"
        },
        {
         "name": "chem_mordred_ATSC4Z",
         "rawType": "float64",
         "type": "float"
        },
        {
         "name": "chem_mordred_ATSC5Z",
         "rawType": "float64",
         "type": "float"
        },
        {
         "name": "chem_mordred_ATSC6Z",
         "rawType": "float64",
         "type": "float"
        },
        {
         "name": "chem_mordred_ATSC7Z",
         "rawType": "float64",
         "type": "float"
        },
        {
         "name": "chem_mordred_ATSC8Z",
         "rawType": "float64",
         "type": "float"
        },
        {
         "name": "chem_mordred_ATSC0m",
         "rawType": "float64",
         "type": "float"
        },
        {
         "name": "chem_mordred_ATSC1m",
         "rawType": "float64",
         "type": "float"
        },
        {
         "name": "chem_mordred_ATSC2m",
         "rawType": "float64",
         "type": "float"
        },
        {
         "name": "chem_mordred_ATSC3m",
         "rawType": "float64",
         "type": "float"
        },
        {
         "name": "chem_mordred_ATSC4m",
         "rawType": "float64",
         "type": "float"
        },
        {
         "name": "chem_mordred_ATSC5m",
         "rawType": "float64",
         "type": "float"
        },
        {
         "name": "chem_mordred_ATSC6m",
         "rawType": "float64",
         "type": "float"
        },
        {
         "name": "chem_mordred_ATSC7m",
         "rawType": "float64",
         "type": "float"
        },
        {
         "name": "chem_mordred_ATSC8m",
         "rawType": "float64",
         "type": "float"
        },
        {
         "name": "chem_mordred_ATSC0v",
         "rawType": "float64",
         "type": "float"
        },
        {
         "name": "chem_mordred_ATSC1v",
         "rawType": "float64",
         "type": "float"
        },
        {
         "name": "chem_mordred_ATSC2v",
         "rawType": "float64",
         "type": "float"
        },
        {
         "name": "chem_mordred_ATSC3v",
         "rawType": "float64",
         "type": "float"
        },
        {
         "name": "chem_mordred_ATSC4v",
         "rawType": "float64",
         "type": "float"
        },
        {
         "name": "chem_mordred_ATSC5v",
         "rawType": "float64",
         "type": "float"
        },
        {
         "name": "chem_mordred_ATSC6v",
         "rawType": "float64",
         "type": "float"
        },
        {
         "name": "chem_mordred_ATSC7v",
         "rawType": "float64",
         "type": "float"
        },
        {
         "name": "chem_mordred_ATSC8v",
         "rawType": "float64",
         "type": "float"
        },
        {
         "name": "chem_mordred_ATSC0pe",
         "rawType": "float64",
         "type": "float"
        },
        {
         "name": "chem_mordred_ATSC1pe",
         "rawType": "float64",
         "type": "float"
        },
        {
         "name": "chem_mordred_ATSC2pe",
         "rawType": "float64",
         "type": "float"
        },
        {
         "name": "chem_mordred_ATSC3pe",
         "rawType": "float64",
         "type": "float"
        },
        {
         "name": "chem_mordred_ATSC4pe",
         "rawType": "float64",
         "type": "float"
        },
        {
         "name": "chem_mordred_ATSC5pe",
         "rawType": "float64",
         "type": "float"
        },
        {
         "name": "chem_mordred_ATSC6pe",
         "rawType": "float64",
         "type": "float"
        },
        {
         "name": "chem_mordred_ATSC7pe",
         "rawType": "float64",
         "type": "float"
        },
        {
         "name": "chem_mordred_ATSC8pe",
         "rawType": "float64",
         "type": "float"
        },
        {
         "name": "chem_mordred_ATSC0p",
         "rawType": "float64",
         "type": "float"
        },
        {
         "name": "chem_mordred_ATSC1p",
         "rawType": "float64",
         "type": "float"
        },
        {
         "name": "chem_mordred_ATSC2p",
         "rawType": "float64",
         "type": "float"
        },
        {
         "name": "chem_mordred_ATSC3p",
         "rawType": "float64",
         "type": "float"
        },
        {
         "name": "chem_mordred_ATSC4p",
         "rawType": "float64",
         "type": "float"
        },
        {
         "name": "chem_mordred_ATSC5p",
         "rawType": "float64",
         "type": "float"
        },
        {
         "name": "chem_mordred_ATSC6p",
         "rawType": "float64",
         "type": "float"
        },
        {
         "name": "chem_mordred_ATSC7p",
         "rawType": "float64",
         "type": "float"
        },
        {
         "name": "chem_mordred_ATSC8p",
         "rawType": "float64",
         "type": "float"
        },
        {
         "name": "chem_mordred_ATSC0i",
         "rawType": "float64",
         "type": "float"
        },
        {
         "name": "chem_mordred_ATSC1i",
         "rawType": "float64",
         "type": "float"
        },
        {
         "name": "chem_mordred_ATSC2i",
         "rawType": "float64",
         "type": "float"
        },
        {
         "name": "chem_mordred_ATSC3i",
         "rawType": "float64",
         "type": "float"
        },
        {
         "name": "chem_mordred_ATSC4i",
         "rawType": "float64",
         "type": "float"
        },
        {
         "name": "chem_mordred_ATSC5i",
         "rawType": "float64",
         "type": "float"
        },
        {
         "name": "chem_mordred_ATSC6i",
         "rawType": "float64",
         "type": "float"
        },
        {
         "name": "chem_mordred_ATSC7i",
         "rawType": "float64",
         "type": "float"
        },
        {
         "name": "chem_mordred_ATSC8i",
         "rawType": "float64",
         "type": "float"
        },
        {
         "name": "chem_mordred_AATSC0dv",
         "rawType": "float64",
         "type": "float"
        },
        {
         "name": "chem_mordred_AATSC0d",
         "rawType": "float64",
         "type": "float"
        },
        {
         "name": "chem_mordred_AATSC0Z",
         "rawType": "float64",
         "type": "float"
        },
        {
         "name": "chem_mordred_AATSC0m",
         "rawType": "float64",
         "type": "float"
        },
        {
         "name": "chem_mordred_AATSC0v",
         "rawType": "float64",
         "type": "float"
        },
        {
         "name": "chem_mordred_AATSC0pe",
         "rawType": "float64",
         "type": "float"
        },
        {
         "name": "chem_mordred_AATSC0p",
         "rawType": "float64",
         "type": "float"
        },
        {
         "name": "chem_mordred_AATSC0i",
         "rawType": "float64",
         "type": "float"
        },
        {
         "name": "chem_mordred_BalabanJ",
         "rawType": "float64",
         "type": "float"
        },
        {
         "name": "chem_mordred_BertzCT",
         "rawType": "float64",
         "type": "float"
        },
        {
         "name": "chem_mordred_nBonds",
         "rawType": "int64",
         "type": "integer"
        },
        {
         "name": "chem_mordred_nBondsO",
         "rawType": "int64",
         "type": "integer"
        },
        {
         "name": "chem_mordred_nBondsS",
         "rawType": "int64",
         "type": "integer"
        },
        {
         "name": "chem_mordred_nBondsD",
         "rawType": "int64",
         "type": "integer"
        },
        {
         "name": "chem_mordred_nBondsT",
         "rawType": "int64",
         "type": "integer"
        },
        {
         "name": "chem_mordred_nBondsA",
         "rawType": "int64",
         "type": "integer"
        },
        {
         "name": "chem_mordred_nBondsM",
         "rawType": "int64",
         "type": "integer"
        },
        {
         "name": "chem_mordred_nBondsKS",
         "rawType": "int64",
         "type": "integer"
        },
        {
         "name": "chem_mordred_nBondsKD",
         "rawType": "int64",
         "type": "integer"
        },
        {
         "name": "chem_mordred_C1SP1",
         "rawType": "int64",
         "type": "integer"
        },
        {
         "name": "chem_mordred_C2SP1",
         "rawType": "int64",
         "type": "integer"
        },
        {
         "name": "chem_mordred_C1SP2",
         "rawType": "int64",
         "type": "integer"
        },
        {
         "name": "chem_mordred_C2SP2",
         "rawType": "int64",
         "type": "integer"
        },
        {
         "name": "chem_mordred_C3SP2",
         "rawType": "int64",
         "type": "integer"
        },
        {
         "name": "chem_mordred_C1SP3",
         "rawType": "int64",
         "type": "integer"
        },
        {
         "name": "chem_mordred_C2SP3",
         "rawType": "int64",
         "type": "integer"
        },
        {
         "name": "chem_mordred_C3SP3",
         "rawType": "int64",
         "type": "integer"
        },
        {
         "name": "chem_mordred_C4SP3",
         "rawType": "int64",
         "type": "integer"
        },
        {
         "name": "chem_mordred_FCSP3",
         "rawType": "float64",
         "type": "float"
        },
        {
         "name": "chem_mordred_Xch-3d",
         "rawType": "float64",
         "type": "float"
        },
        {
         "name": "chem_mordred_Xch-4d",
         "rawType": "float64",
         "type": "float"
        },
        {
         "name": "chem_mordred_Xch-5d",
         "rawType": "float64",
         "type": "float"
        },
        {
         "name": "chem_mordred_Xch-6d",
         "rawType": "float64",
         "type": "float"
        },
        {
         "name": "chem_mordred_Xch-7d",
         "rawType": "float64",
         "type": "float"
        },
        {
         "name": "chem_mordred_Xch-3dv",
         "rawType": "float64",
         "type": "float"
        },
        {
         "name": "chem_mordred_Xch-4dv",
         "rawType": "float64",
         "type": "float"
        },
        {
         "name": "chem_mordred_Xch-5dv",
         "rawType": "float64",
         "type": "float"
        },
        {
         "name": "chem_mordred_Xch-6dv",
         "rawType": "float64",
         "type": "float"
        },
        {
         "name": "chem_mordred_Xch-7dv",
         "rawType": "float64",
         "type": "float"
        },
        {
         "name": "chem_mordred_Xc-3d",
         "rawType": "float64",
         "type": "float"
        },
        {
         "name": "chem_mordred_Xc-4d",
         "rawType": "float64",
         "type": "float"
        },
        {
         "name": "chem_mordred_Xc-5d",
         "rawType": "float64",
         "type": "float"
        },
        {
         "name": "chem_mordred_Xc-6d",
         "rawType": "float64",
         "type": "float"
        },
        {
         "name": "chem_mordred_Xc-3dv",
         "rawType": "float64",
         "type": "float"
        },
        {
         "name": "chem_mordred_Xc-4dv",
         "rawType": "float64",
         "type": "float"
        },
        {
         "name": "chem_mordred_Xc-5dv",
         "rawType": "float64",
         "type": "float"
        },
        {
         "name": "chem_mordred_Xc-6dv",
         "rawType": "float64",
         "type": "float"
        },
        {
         "name": "chem_mordred_Xpc-4d",
         "rawType": "float64",
         "type": "float"
        },
        {
         "name": "chem_mordred_Xpc-5d",
         "rawType": "float64",
         "type": "float"
        },
        {
         "name": "chem_mordred_Xpc-6d",
         "rawType": "float64",
         "type": "float"
        },
        {
         "name": "chem_mordred_Xpc-4dv",
         "rawType": "float64",
         "type": "float"
        },
        {
         "name": "chem_mordred_Xpc-5dv",
         "rawType": "float64",
         "type": "float"
        },
        {
         "name": "chem_mordred_Xpc-6dv",
         "rawType": "float64",
         "type": "float"
        },
        {
         "name": "chem_mordred_Xp-1d",
         "rawType": "float64",
         "type": "float"
        },
        {
         "name": "chem_mordred_Xp-2d",
         "rawType": "float64",
         "type": "float"
        },
        {
         "name": "chem_mordred_Xp-3d",
         "rawType": "float64",
         "type": "float"
        },
        {
         "name": "chem_mordred_Xp-4d",
         "rawType": "float64",
         "type": "float"
        },
        {
         "name": "chem_mordred_Xp-5d",
         "rawType": "float64",
         "type": "float"
        },
        {
         "name": "chem_mordred_Xp-6d",
         "rawType": "float64",
         "type": "float"
        },
        {
         "name": "chem_mordred_Xp-7d",
         "rawType": "float64",
         "type": "float"
        },
        {
         "name": "chem_mordred_Xp-1dv",
         "rawType": "float64",
         "type": "float"
        },
        {
         "name": "chem_mordred_Xp-2dv",
         "rawType": "float64",
         "type": "float"
        },
        {
         "name": "chem_mordred_Xp-3dv",
         "rawType": "float64",
         "type": "float"
        },
        {
         "name": "chem_mordred_Xp-4dv",
         "rawType": "float64",
         "type": "float"
        },
        {
         "name": "chem_mordred_Xp-5dv",
         "rawType": "float64",
         "type": "float"
        },
        {
         "name": "chem_mordred_Xp-6dv",
         "rawType": "float64",
         "type": "float"
        },
        {
         "name": "chem_mordred_Xp-7dv",
         "rawType": "float64",
         "type": "float"
        },
        {
         "name": "chem_mordred_SZ",
         "rawType": "float64",
         "type": "float"
        },
        {
         "name": "chem_mordred_Sm",
         "rawType": "float64",
         "type": "float"
        },
        {
         "name": "chem_mordred_Sv",
         "rawType": "float64",
         "type": "float"
        },
        {
         "name": "chem_mordred_Spe",
         "rawType": "float64",
         "type": "float"
        },
        {
         "name": "chem_mordred_Sp",
         "rawType": "float64",
         "type": "float"
        },
        {
         "name": "chem_mordred_Si",
         "rawType": "float64",
         "type": "float"
        },
        {
         "name": "chem_mordred_MZ",
         "rawType": "float64",
         "type": "float"
        },
        {
         "name": "chem_mordred_Mm",
         "rawType": "float64",
         "type": "float"
        },
        {
         "name": "chem_mordred_Mv",
         "rawType": "float64",
         "type": "float"
        },
        {
         "name": "chem_mordred_Mpe",
         "rawType": "float64",
         "type": "float"
        },
        {
         "name": "chem_mordred_Mp",
         "rawType": "float64",
         "type": "float"
        },
        {
         "name": "chem_mordred_Mi",
         "rawType": "float64",
         "type": "float"
        },
        {
         "name": "chem_mordred_NsLi",
         "rawType": "int64",
         "type": "integer"
        },
        {
         "name": "chem_mordred_NssBe",
         "rawType": "int64",
         "type": "integer"
        },
        {
         "name": "chem_mordred_NssssBe",
         "rawType": "int64",
         "type": "integer"
        },
        {
         "name": "chem_mordred_NssBH",
         "rawType": "int64",
         "type": "integer"
        },
        {
         "name": "chem_mordred_NsssB",
         "rawType": "int64",
         "type": "integer"
        },
        {
         "name": "chem_mordred_NssssB",
         "rawType": "int64",
         "type": "integer"
        },
        {
         "name": "chem_mordred_NsCH3",
         "rawType": "int64",
         "type": "integer"
        },
        {
         "name": "chem_mordred_NdCH2",
         "rawType": "int64",
         "type": "integer"
        },
        {
         "name": "chem_mordred_NssCH2",
         "rawType": "int64",
         "type": "integer"
        },
        {
         "name": "chem_mordred_NtCH",
         "rawType": "int64",
         "type": "integer"
        },
        {
         "name": "chem_mordred_NdsCH",
         "rawType": "int64",
         "type": "integer"
        },
        {
         "name": "chem_mordred_NaaCH",
         "rawType": "int64",
         "type": "integer"
        },
        {
         "name": "chem_mordred_NsssCH",
         "rawType": "int64",
         "type": "integer"
        },
        {
         "name": "chem_mordred_NddC",
         "rawType": "int64",
         "type": "integer"
        },
        {
         "name": "chem_mordred_NtsC",
         "rawType": "int64",
         "type": "integer"
        },
        {
         "name": "chem_mordred_NdssC",
         "rawType": "int64",
         "type": "integer"
        },
        {
         "name": "chem_mordred_NaasC",
         "rawType": "int64",
         "type": "integer"
        },
        {
         "name": "chem_mordred_NaaaC",
         "rawType": "int64",
         "type": "integer"
        },
        {
         "name": "chem_mordred_NssssC",
         "rawType": "int64",
         "type": "integer"
        },
        {
         "name": "chem_mordred_NsNH3",
         "rawType": "int64",
         "type": "integer"
        },
        {
         "name": "chem_mordred_NsNH2",
         "rawType": "int64",
         "type": "integer"
        },
        {
         "name": "chem_mordred_NssNH2",
         "rawType": "int64",
         "type": "integer"
        },
        {
         "name": "chem_mordred_NdNH",
         "rawType": "int64",
         "type": "integer"
        },
        {
         "name": "chem_mordred_NssNH",
         "rawType": "int64",
         "type": "integer"
        },
        {
         "name": "chem_mordred_NaaNH",
         "rawType": "int64",
         "type": "integer"
        },
        {
         "name": "chem_mordred_NtN",
         "rawType": "int64",
         "type": "integer"
        },
        {
         "name": "chem_mordred_NsssNH",
         "rawType": "int64",
         "type": "integer"
        },
        {
         "name": "chem_mordred_NdsN",
         "rawType": "int64",
         "type": "integer"
        },
        {
         "name": "chem_mordred_NaaN",
         "rawType": "int64",
         "type": "integer"
        },
        {
         "name": "chem_mordred_NsssN",
         "rawType": "int64",
         "type": "integer"
        },
        {
         "name": "chem_mordred_NddsN",
         "rawType": "int64",
         "type": "integer"
        },
        {
         "name": "chem_mordred_NaasN",
         "rawType": "int64",
         "type": "integer"
        },
        {
         "name": "chem_mordred_NssssN",
         "rawType": "int64",
         "type": "integer"
        },
        {
         "name": "chem_mordred_NsOH",
         "rawType": "int64",
         "type": "integer"
        },
        {
         "name": "chem_mordred_NdO",
         "rawType": "int64",
         "type": "integer"
        },
        {
         "name": "chem_mordred_NssO",
         "rawType": "int64",
         "type": "integer"
        },
        {
         "name": "chem_mordred_NaaO",
         "rawType": "int64",
         "type": "integer"
        },
        {
         "name": "chem_mordred_NsF",
         "rawType": "int64",
         "type": "integer"
        },
        {
         "name": "chem_mordred_NsSiH3",
         "rawType": "int64",
         "type": "integer"
        },
        {
         "name": "chem_mordred_NssSiH2",
         "rawType": "int64",
         "type": "integer"
        },
        {
         "name": "chem_mordred_NsssSiH",
         "rawType": "int64",
         "type": "integer"
        },
        {
         "name": "chem_mordred_NssssSi",
         "rawType": "int64",
         "type": "integer"
        },
        {
         "name": "chem_mordred_NsPH2",
         "rawType": "int64",
         "type": "integer"
        },
        {
         "name": "chem_mordred_NssPH",
         "rawType": "int64",
         "type": "integer"
        },
        {
         "name": "chem_mordred_NsssP",
         "rawType": "int64",
         "type": "integer"
        },
        {
         "name": "chem_mordred_NdsssP",
         "rawType": "int64",
         "type": "integer"
        },
        {
         "name": "chem_mordred_NsssssP",
         "rawType": "int64",
         "type": "integer"
        },
        {
         "name": "chem_mordred_NsSH",
         "rawType": "int64",
         "type": "integer"
        },
        {
         "name": "chem_mordred_NdS",
         "rawType": "int64",
         "type": "integer"
        },
        {
         "name": "chem_mordred_NssS",
         "rawType": "int64",
         "type": "integer"
        },
        {
         "name": "chem_mordred_NaaS",
         "rawType": "int64",
         "type": "integer"
        },
        {
         "name": "chem_mordred_NdssS",
         "rawType": "int64",
         "type": "integer"
        },
        {
         "name": "chem_mordred_NddssS",
         "rawType": "int64",
         "type": "integer"
        },
        {
         "name": "chem_mordred_NsCl",
         "rawType": "int64",
         "type": "integer"
        },
        {
         "name": "chem_mordred_NsGeH3",
         "rawType": "int64",
         "type": "integer"
        },
        {
         "name": "chem_mordred_NssGeH2",
         "rawType": "int64",
         "type": "integer"
        },
        {
         "name": "chem_mordred_NsssGeH",
         "rawType": "int64",
         "type": "integer"
        },
        {
         "name": "chem_mordred_NssssGe",
         "rawType": "int64",
         "type": "integer"
        },
        {
         "name": "chem_mordred_NsAsH2",
         "rawType": "int64",
         "type": "integer"
        },
        {
         "name": "chem_mordred_NssAsH",
         "rawType": "int64",
         "type": "integer"
        },
        {
         "name": "chem_mordred_NsssAs",
         "rawType": "int64",
         "type": "integer"
        },
        {
         "name": "chem_mordred_NsssdAs",
         "rawType": "int64",
         "type": "integer"
        },
        {
         "name": "chem_mordred_NsssssAs",
         "rawType": "int64",
         "type": "integer"
        },
        {
         "name": "chem_mordred_NsSeH",
         "rawType": "int64",
         "type": "integer"
        },
        {
         "name": "chem_mordred_NdSe",
         "rawType": "int64",
         "type": "integer"
        },
        {
         "name": "chem_mordred_NssSe",
         "rawType": "int64",
         "type": "integer"
        },
        {
         "name": "chem_mordred_NaaSe",
         "rawType": "int64",
         "type": "integer"
        },
        {
         "name": "chem_mordred_NdssSe",
         "rawType": "int64",
         "type": "integer"
        },
        {
         "name": "chem_mordred_NddssSe",
         "rawType": "int64",
         "type": "integer"
        },
        {
         "name": "chem_mordred_NsBr",
         "rawType": "int64",
         "type": "integer"
        },
        {
         "name": "chem_mordred_NsSnH3",
         "rawType": "int64",
         "type": "integer"
        },
        {
         "name": "chem_mordred_NssSnH2",
         "rawType": "int64",
         "type": "integer"
        },
        {
         "name": "chem_mordred_NsssSnH",
         "rawType": "int64",
         "type": "integer"
        },
        {
         "name": "chem_mordred_NssssSn",
         "rawType": "int64",
         "type": "integer"
        },
        {
         "name": "chem_mordred_NsI",
         "rawType": "int64",
         "type": "integer"
        },
        {
         "name": "chem_mordred_NsPbH3",
         "rawType": "int64",
         "type": "integer"
        },
        {
         "name": "chem_mordred_NssPbH2",
         "rawType": "int64",
         "type": "integer"
        },
        {
         "name": "chem_mordred_NsssPbH",
         "rawType": "int64",
         "type": "integer"
        },
        {
         "name": "chem_mordred_NssssPb",
         "rawType": "int64",
         "type": "integer"
        },
        {
         "name": "chem_mordred_SsLi",
         "rawType": "int64",
         "type": "integer"
        },
        {
         "name": "chem_mordred_SssBe",
         "rawType": "int64",
         "type": "integer"
        },
        {
         "name": "chem_mordred_SssssBe",
         "rawType": "int64",
         "type": "integer"
        },
        {
         "name": "chem_mordred_SssBH",
         "rawType": "int64",
         "type": "integer"
        },
        {
         "name": "chem_mordred_SsssB",
         "rawType": "float64",
         "type": "float"
        },
        {
         "name": "chem_mordred_SssssB",
         "rawType": "float64",
         "type": "float"
        },
        {
         "name": "chem_mordred_SsCH3",
         "rawType": "float64",
         "type": "float"
        },
        {
         "name": "chem_mordred_SdCH2",
         "rawType": "float64",
         "type": "float"
        },
        {
         "name": "chem_mordred_SssCH2",
         "rawType": "float64",
         "type": "float"
        },
        {
         "name": "chem_mordred_StCH",
         "rawType": "float64",
         "type": "float"
        },
        {
         "name": "chem_mordred_SdsCH",
         "rawType": "float64",
         "type": "float"
        },
        {
         "name": "chem_mordred_SaaCH",
         "rawType": "float64",
         "type": "float"
        },
        {
         "name": "chem_mordred_SsssCH",
         "rawType": "float64",
         "type": "float"
        },
        {
         "name": "chem_mordred_SddC",
         "rawType": "float64",
         "type": "float"
        },
        {
         "name": "chem_mordred_StsC",
         "rawType": "float64",
         "type": "float"
        },
        {
         "name": "chem_mordred_SdssC",
         "rawType": "float64",
         "type": "float"
        },
        {
         "name": "chem_mordred_SaasC",
         "rawType": "float64",
         "type": "float"
        },
        {
         "name": "chem_mordred_SaaaC",
         "rawType": "float64",
         "type": "float"
        },
        {
         "name": "chem_mordred_SssssC",
         "rawType": "float64",
         "type": "float"
        },
        {
         "name": "chem_mordred_SsNH3",
         "rawType": "float64",
         "type": "float"
        },
        {
         "name": "chem_mordred_SsNH2",
         "rawType": "float64",
         "type": "float"
        },
        {
         "name": "chem_mordred_SssNH2",
         "rawType": "float64",
         "type": "float"
        },
        {
         "name": "chem_mordred_SdNH",
         "rawType": "float64",
         "type": "float"
        },
        {
         "name": "chem_mordred_SssNH",
         "rawType": "float64",
         "type": "float"
        },
        {
         "name": "chem_mordred_SaaNH",
         "rawType": "float64",
         "type": "float"
        },
        {
         "name": "chem_mordred_StN",
         "rawType": "float64",
         "type": "float"
        },
        {
         "name": "chem_mordred_SsssNH",
         "rawType": "float64",
         "type": "float"
        },
        {
         "name": "chem_mordred_SdsN",
         "rawType": "float64",
         "type": "float"
        },
        {
         "name": "chem_mordred_SaaN",
         "rawType": "float64",
         "type": "float"
        },
        {
         "name": "chem_mordred_SsssN",
         "rawType": "float64",
         "type": "float"
        },
        {
         "name": "chem_mordred_SddsN",
         "rawType": "float64",
         "type": "float"
        },
        {
         "name": "chem_mordred_SaasN",
         "rawType": "float64",
         "type": "float"
        },
        {
         "name": "chem_mordred_SssssN",
         "rawType": "float64",
         "type": "float"
        },
        {
         "name": "chem_mordred_SsOH",
         "rawType": "float64",
         "type": "float"
        },
        {
         "name": "chem_mordred_SdO",
         "rawType": "float64",
         "type": "float"
        },
        {
         "name": "chem_mordred_SssO",
         "rawType": "float64",
         "type": "float"
        },
        {
         "name": "chem_mordred_SaaO",
         "rawType": "float64",
         "type": "float"
        },
        {
         "name": "chem_mordred_SsF",
         "rawType": "float64",
         "type": "float"
        },
        {
         "name": "chem_mordred_SsSiH3",
         "rawType": "int64",
         "type": "integer"
        },
        {
         "name": "chem_mordred_SssSiH2",
         "rawType": "int64",
         "type": "integer"
        },
        {
         "name": "chem_mordred_SsssSiH",
         "rawType": "float64",
         "type": "float"
        },
        {
         "name": "chem_mordred_SssssSi",
         "rawType": "float64",
         "type": "float"
        },
        {
         "name": "chem_mordred_SsPH2",
         "rawType": "int64",
         "type": "integer"
        },
        {
         "name": "chem_mordred_SssPH",
         "rawType": "int64",
         "type": "integer"
        },
        {
         "name": "chem_mordred_SsssP",
         "rawType": "float64",
         "type": "float"
        },
        {
         "name": "chem_mordred_SdsssP",
         "rawType": "float64",
         "type": "float"
        },
        {
         "name": "chem_mordred_SsssssP",
         "rawType": "int64",
         "type": "integer"
        },
        {
         "name": "chem_mordred_SsSH",
         "rawType": "float64",
         "type": "float"
        },
        {
         "name": "chem_mordred_SdS",
         "rawType": "float64",
         "type": "float"
        },
        {
         "name": "chem_mordred_SssS",
         "rawType": "float64",
         "type": "float"
        },
        {
         "name": "chem_mordred_SaaS",
         "rawType": "float64",
         "type": "float"
        },
        {
         "name": "chem_mordred_SdssS",
         "rawType": "float64",
         "type": "float"
        },
        {
         "name": "chem_mordred_SddssS",
         "rawType": "float64",
         "type": "float"
        },
        {
         "name": "chem_mordred_SsCl",
         "rawType": "float64",
         "type": "float"
        },
        {
         "name": "chem_mordred_SsGeH3",
         "rawType": "int64",
         "type": "integer"
        },
        {
         "name": "chem_mordred_SssGeH2",
         "rawType": "int64",
         "type": "integer"
        },
        {
         "name": "chem_mordred_SsssGeH",
         "rawType": "int64",
         "type": "integer"
        },
        {
         "name": "chem_mordred_SssssGe",
         "rawType": "int64",
         "type": "integer"
        },
        {
         "name": "chem_mordred_SsAsH2",
         "rawType": "int64",
         "type": "integer"
        },
        {
         "name": "chem_mordred_SssAsH",
         "rawType": "int64",
         "type": "integer"
        },
        {
         "name": "chem_mordred_SsssAs",
         "rawType": "float64",
         "type": "float"
        },
        {
         "name": "chem_mordred_SsssdAs",
         "rawType": "float64",
         "type": "float"
        },
        {
         "name": "chem_mordred_SsssssAs",
         "rawType": "int64",
         "type": "integer"
        },
        {
         "name": "chem_mordred_SsSeH",
         "rawType": "int64",
         "type": "integer"
        },
        {
         "name": "chem_mordred_SdSe",
         "rawType": "int64",
         "type": "integer"
        },
        {
         "name": "chem_mordred_SssSe",
         "rawType": "float64",
         "type": "float"
        },
        {
         "name": "chem_mordred_SaaSe",
         "rawType": "int64",
         "type": "integer"
        },
        {
         "name": "chem_mordred_SdssSe",
         "rawType": "float64",
         "type": "float"
        },
        {
         "name": "chem_mordred_SddssSe",
         "rawType": "float64",
         "type": "float"
        },
        {
         "name": "chem_mordred_SsBr",
         "rawType": "float64",
         "type": "float"
        },
        {
         "name": "chem_mordred_SsSnH3",
         "rawType": "int64",
         "type": "integer"
        },
        {
         "name": "chem_mordred_SssSnH2",
         "rawType": "int64",
         "type": "integer"
        },
        {
         "name": "chem_mordred_SsssSnH",
         "rawType": "int64",
         "type": "integer"
        },
        {
         "name": "chem_mordred_SssssSn",
         "rawType": "int64",
         "type": "integer"
        },
        {
         "name": "chem_mordred_SsI",
         "rawType": "float64",
         "type": "float"
        },
        {
         "name": "chem_mordred_SsPbH3",
         "rawType": "int64",
         "type": "integer"
        },
        {
         "name": "chem_mordred_SssPbH2",
         "rawType": "int64",
         "type": "integer"
        },
        {
         "name": "chem_mordred_SsssPbH",
         "rawType": "int64",
         "type": "integer"
        },
        {
         "name": "chem_mordred_SssssPb",
         "rawType": "int64",
         "type": "integer"
        },
        {
         "name": "chem_mordred_ECIndex",
         "rawType": "int64",
         "type": "integer"
        },
        {
         "name": "chem_mordred_fragCpx",
         "rawType": "float64",
         "type": "float"
        },
        {
         "name": "chem_mordred_fMF",
         "rawType": "float64",
         "type": "float"
        },
        {
         "name": "chem_mordred_nHBAcc",
         "rawType": "int64",
         "type": "integer"
        },
        {
         "name": "chem_mordred_nHBDon",
         "rawType": "int64",
         "type": "integer"
        },
        {
         "name": "chem_mordred_IC0",
         "rawType": "float64",
         "type": "float"
        },
        {
         "name": "chem_mordred_IC1",
         "rawType": "float64",
         "type": "float"
        },
        {
         "name": "chem_mordred_IC2",
         "rawType": "float64",
         "type": "float"
        },
        {
         "name": "chem_mordred_IC3",
         "rawType": "float64",
         "type": "float"
        },
        {
         "name": "chem_mordred_IC4",
         "rawType": "float64",
         "type": "float"
        },
        {
         "name": "chem_mordred_IC5",
         "rawType": "float64",
         "type": "float"
        },
        {
         "name": "chem_mordred_TIC0",
         "rawType": "float64",
         "type": "float"
        },
        {
         "name": "chem_mordred_TIC1",
         "rawType": "float64",
         "type": "float"
        },
        {
         "name": "chem_mordred_TIC2",
         "rawType": "float64",
         "type": "float"
        },
        {
         "name": "chem_mordred_TIC3",
         "rawType": "float64",
         "type": "float"
        },
        {
         "name": "chem_mordred_TIC4",
         "rawType": "float64",
         "type": "float"
        },
        {
         "name": "chem_mordred_TIC5",
         "rawType": "float64",
         "type": "float"
        },
        {
         "name": "chem_mordred_CIC0",
         "rawType": "float64",
         "type": "float"
        },
        {
         "name": "chem_mordred_CIC1",
         "rawType": "float64",
         "type": "float"
        },
        {
         "name": "chem_mordred_CIC2",
         "rawType": "float64",
         "type": "float"
        },
        {
         "name": "chem_mordred_CIC3",
         "rawType": "float64",
         "type": "float"
        },
        {
         "name": "chem_mordred_CIC4",
         "rawType": "float64",
         "type": "float"
        },
        {
         "name": "chem_mordred_CIC5",
         "rawType": "float64",
         "type": "float"
        },
        {
         "name": "chem_mordred_MIC0",
         "rawType": "float64",
         "type": "float"
        },
        {
         "name": "chem_mordred_MIC1",
         "rawType": "float64",
         "type": "float"
        },
        {
         "name": "chem_mordred_MIC2",
         "rawType": "float64",
         "type": "float"
        },
        {
         "name": "chem_mordred_MIC3",
         "rawType": "float64",
         "type": "float"
        },
        {
         "name": "chem_mordred_MIC4",
         "rawType": "float64",
         "type": "float"
        },
        {
         "name": "chem_mordred_MIC5",
         "rawType": "float64",
         "type": "float"
        },
        {
         "name": "chem_mordred_ZMIC0",
         "rawType": "float64",
         "type": "float"
        },
        {
         "name": "chem_mordred_ZMIC1",
         "rawType": "float64",
         "type": "float"
        },
        {
         "name": "chem_mordred_ZMIC2",
         "rawType": "float64",
         "type": "float"
        },
        {
         "name": "chem_mordred_ZMIC3",
         "rawType": "float64",
         "type": "float"
        },
        {
         "name": "chem_mordred_ZMIC4",
         "rawType": "float64",
         "type": "float"
        },
        {
         "name": "chem_mordred_ZMIC5",
         "rawType": "float64",
         "type": "float"
        },
        {
         "name": "chem_mordred_FilterItLogS",
         "rawType": "float64",
         "type": "float"
        },
        {
         "name": "chem_mordred_VMcGowan",
         "rawType": "float64",
         "type": "float"
        },
        {
         "name": "chem_mordred_LabuteASA",
         "rawType": "float64",
         "type": "float"
        },
        {
         "name": "chem_mordred_PEOE_VSA1",
         "rawType": "float64",
         "type": "float"
        },
        {
         "name": "chem_mordred_PEOE_VSA2",
         "rawType": "float64",
         "type": "float"
        },
        {
         "name": "chem_mordred_PEOE_VSA3",
         "rawType": "float64",
         "type": "float"
        },
        {
         "name": "chem_mordred_PEOE_VSA4",
         "rawType": "float64",
         "type": "float"
        },
        {
         "name": "chem_mordred_PEOE_VSA5",
         "rawType": "float64",
         "type": "float"
        },
        {
         "name": "chem_mordred_PEOE_VSA6",
         "rawType": "float64",
         "type": "float"
        },
        {
         "name": "chem_mordred_PEOE_VSA7",
         "rawType": "float64",
         "type": "float"
        },
        {
         "name": "chem_mordred_PEOE_VSA8",
         "rawType": "float64",
         "type": "float"
        },
        {
         "name": "chem_mordred_PEOE_VSA9",
         "rawType": "float64",
         "type": "float"
        },
        {
         "name": "chem_mordred_PEOE_VSA10",
         "rawType": "float64",
         "type": "float"
        },
        {
         "name": "chem_mordred_PEOE_VSA11",
         "rawType": "float64",
         "type": "float"
        },
        {
         "name": "chem_mordred_PEOE_VSA12",
         "rawType": "float64",
         "type": "float"
        },
        {
         "name": "chem_mordred_PEOE_VSA13",
         "rawType": "float64",
         "type": "float"
        },
        {
         "name": "chem_mordred_SMR_VSA1",
         "rawType": "float64",
         "type": "float"
        },
        {
         "name": "chem_mordred_SMR_VSA2",
         "rawType": "float64",
         "type": "float"
        },
        {
         "name": "chem_mordred_SMR_VSA3",
         "rawType": "float64",
         "type": "float"
        },
        {
         "name": "chem_mordred_SMR_VSA4",
         "rawType": "float64",
         "type": "float"
        },
        {
         "name": "chem_mordred_SMR_VSA5",
         "rawType": "float64",
         "type": "float"
        },
        {
         "name": "chem_mordred_SMR_VSA6",
         "rawType": "float64",
         "type": "float"
        },
        {
         "name": "chem_mordred_SMR_VSA7",
         "rawType": "float64",
         "type": "float"
        },
        {
         "name": "chem_mordred_SMR_VSA8",
         "rawType": "float64",
         "type": "float"
        },
        {
         "name": "chem_mordred_SMR_VSA9",
         "rawType": "float64",
         "type": "float"
        },
        {
         "name": "chem_mordred_SlogP_VSA1",
         "rawType": "float64",
         "type": "float"
        },
        {
         "name": "chem_mordred_SlogP_VSA2",
         "rawType": "float64",
         "type": "float"
        },
        {
         "name": "chem_mordred_SlogP_VSA3",
         "rawType": "float64",
         "type": "float"
        },
        {
         "name": "chem_mordred_SlogP_VSA4",
         "rawType": "float64",
         "type": "float"
        },
        {
         "name": "chem_mordred_SlogP_VSA5",
         "rawType": "float64",
         "type": "float"
        },
        {
         "name": "chem_mordred_SlogP_VSA6",
         "rawType": "float64",
         "type": "float"
        },
        {
         "name": "chem_mordred_SlogP_VSA7",
         "rawType": "float64",
         "type": "float"
        },
        {
         "name": "chem_mordred_SlogP_VSA8",
         "rawType": "float64",
         "type": "float"
        },
        {
         "name": "chem_mordred_SlogP_VSA9",
         "rawType": "float64",
         "type": "float"
        },
        {
         "name": "chem_mordred_SlogP_VSA10",
         "rawType": "float64",
         "type": "float"
        },
        {
         "name": "chem_mordred_SlogP_VSA11",
         "rawType": "float64",
         "type": "float"
        },
        {
         "name": "chem_mordred_EState_VSA1",
         "rawType": "float64",
         "type": "float"
        },
        {
         "name": "chem_mordred_EState_VSA2",
         "rawType": "float64",
         "type": "float"
        },
        {
         "name": "chem_mordred_EState_VSA3",
         "rawType": "float64",
         "type": "float"
        },
        {
         "name": "chem_mordred_EState_VSA4",
         "rawType": "float64",
         "type": "float"
        },
        {
         "name": "chem_mordred_EState_VSA5",
         "rawType": "float64",
         "type": "float"
        },
        {
         "name": "chem_mordred_EState_VSA6",
         "rawType": "float64",
         "type": "float"
        },
        {
         "name": "chem_mordred_EState_VSA7",
         "rawType": "float64",
         "type": "float"
        },
        {
         "name": "chem_mordred_EState_VSA8",
         "rawType": "float64",
         "type": "float"
        },
        {
         "name": "chem_mordred_EState_VSA9",
         "rawType": "float64",
         "type": "float"
        },
        {
         "name": "chem_mordred_EState_VSA10",
         "rawType": "float64",
         "type": "float"
        },
        {
         "name": "chem_mordred_VSA_EState1",
         "rawType": "float64",
         "type": "float"
        },
        {
         "name": "chem_mordred_VSA_EState2",
         "rawType": "float64",
         "type": "float"
        },
        {
         "name": "chem_mordred_VSA_EState3",
         "rawType": "float64",
         "type": "float"
        },
        {
         "name": "chem_mordred_VSA_EState4",
         "rawType": "float64",
         "type": "float"
        },
        {
         "name": "chem_mordred_VSA_EState5",
         "rawType": "float64",
         "type": "float"
        },
        {
         "name": "chem_mordred_VSA_EState6",
         "rawType": "float64",
         "type": "float"
        },
        {
         "name": "chem_mordred_VSA_EState7",
         "rawType": "float64",
         "type": "float"
        },
        {
         "name": "chem_mordred_VSA_EState8",
         "rawType": "float64",
         "type": "float"
        },
        {
         "name": "chem_mordred_VSA_EState9",
         "rawType": "float64",
         "type": "float"
        },
        {
         "name": "chem_mordred_MPC2",
         "rawType": "int64",
         "type": "integer"
        },
        {
         "name": "chem_mordred_MPC3",
         "rawType": "int64",
         "type": "integer"
        },
        {
         "name": "chem_mordred_MPC4",
         "rawType": "int64",
         "type": "integer"
        },
        {
         "name": "chem_mordred_MPC5",
         "rawType": "int64",
         "type": "integer"
        },
        {
         "name": "chem_mordred_MPC6",
         "rawType": "int64",
         "type": "integer"
        },
        {
         "name": "chem_mordred_MPC7",
         "rawType": "int64",
         "type": "integer"
        },
        {
         "name": "chem_mordred_MPC8",
         "rawType": "int64",
         "type": "integer"
        },
        {
         "name": "chem_mordred_MPC9",
         "rawType": "int64",
         "type": "integer"
        },
        {
         "name": "chem_mordred_MPC10",
         "rawType": "int64",
         "type": "integer"
        },
        {
         "name": "chem_mordred_TMPC10",
         "rawType": "int64",
         "type": "integer"
        },
        {
         "name": "chem_mordred_piPC1",
         "rawType": "float64",
         "type": "float"
        },
        {
         "name": "chem_mordred_piPC2",
         "rawType": "float64",
         "type": "float"
        },
        {
         "name": "chem_mordred_piPC3",
         "rawType": "float64",
         "type": "float"
        },
        {
         "name": "chem_mordred_piPC4",
         "rawType": "float64",
         "type": "float"
        },
        {
         "name": "chem_mordred_piPC5",
         "rawType": "float64",
         "type": "float"
        },
        {
         "name": "chem_mordred_piPC6",
         "rawType": "float64",
         "type": "float"
        },
        {
         "name": "chem_mordred_piPC7",
         "rawType": "float64",
         "type": "float"
        },
        {
         "name": "chem_mordred_piPC8",
         "rawType": "float64",
         "type": "float"
        },
        {
         "name": "chem_mordred_piPC9",
         "rawType": "float64",
         "type": "float"
        },
        {
         "name": "chem_mordred_piPC10",
         "rawType": "float64",
         "type": "float"
        },
        {
         "name": "chem_mordred_TpiPC10",
         "rawType": "float64",
         "type": "float"
        },
        {
         "name": "chem_mordred_apol",
         "rawType": "float64",
         "type": "float"
        },
        {
         "name": "chem_mordred_bpol",
         "rawType": "float64",
         "type": "float"
        },
        {
         "name": "chem_mordred_nRing",
         "rawType": "int64",
         "type": "integer"
        },
        {
         "name": "chem_mordred_n3Ring",
         "rawType": "int64",
         "type": "integer"
        },
        {
         "name": "chem_mordred_n4Ring",
         "rawType": "int64",
         "type": "integer"
        },
        {
         "name": "chem_mordred_n5Ring",
         "rawType": "int64",
         "type": "integer"
        },
        {
         "name": "chem_mordred_n6Ring",
         "rawType": "int64",
         "type": "integer"
        },
        {
         "name": "chem_mordred_n7Ring",
         "rawType": "int64",
         "type": "integer"
        },
        {
         "name": "chem_mordred_n8Ring",
         "rawType": "int64",
         "type": "integer"
        },
        {
         "name": "chem_mordred_n9Ring",
         "rawType": "int64",
         "type": "integer"
        },
        {
         "name": "chem_mordred_n10Ring",
         "rawType": "int64",
         "type": "integer"
        },
        {
         "name": "chem_mordred_n11Ring",
         "rawType": "int64",
         "type": "integer"
        },
        {
         "name": "chem_mordred_n12Ring",
         "rawType": "int64",
         "type": "integer"
        },
        {
         "name": "chem_mordred_nG12Ring",
         "rawType": "int64",
         "type": "integer"
        },
        {
         "name": "chem_mordred_nHRing",
         "rawType": "int64",
         "type": "integer"
        },
        {
         "name": "chem_mordred_n3HRing",
         "rawType": "int64",
         "type": "integer"
        },
        {
         "name": "chem_mordred_n4HRing",
         "rawType": "int64",
         "type": "integer"
        },
        {
         "name": "chem_mordred_n5HRing",
         "rawType": "int64",
         "type": "integer"
        },
        {
         "name": "chem_mordred_n6HRing",
         "rawType": "int64",
         "type": "integer"
        },
        {
         "name": "chem_mordred_n7HRing",
         "rawType": "int64",
         "type": "integer"
        },
        {
         "name": "chem_mordred_n8HRing",
         "rawType": "int64",
         "type": "integer"
        },
        {
         "name": "chem_mordred_n9HRing",
         "rawType": "int64",
         "type": "integer"
        },
        {
         "name": "chem_mordred_n10HRing",
         "rawType": "int64",
         "type": "integer"
        },
        {
         "name": "chem_mordred_n11HRing",
         "rawType": "int64",
         "type": "integer"
        },
        {
         "name": "chem_mordred_n12HRing",
         "rawType": "int64",
         "type": "integer"
        },
        {
         "name": "chem_mordred_nG12HRing",
         "rawType": "int64",
         "type": "integer"
        },
        {
         "name": "chem_mordred_naRing",
         "rawType": "int64",
         "type": "integer"
        },
        {
         "name": "chem_mordred_n3aRing",
         "rawType": "int64",
         "type": "integer"
        },
        {
         "name": "chem_mordred_n4aRing",
         "rawType": "int64",
         "type": "integer"
        },
        {
         "name": "chem_mordred_n5aRing",
         "rawType": "int64",
         "type": "integer"
        },
        {
         "name": "chem_mordred_n6aRing",
         "rawType": "int64",
         "type": "integer"
        },
        {
         "name": "chem_mordred_n7aRing",
         "rawType": "int64",
         "type": "integer"
        },
        {
         "name": "chem_mordred_n8aRing",
         "rawType": "int64",
         "type": "integer"
        },
        {
         "name": "chem_mordred_n9aRing",
         "rawType": "int64",
         "type": "integer"
        },
        {
         "name": "chem_mordred_n10aRing",
         "rawType": "int64",
         "type": "integer"
        },
        {
         "name": "chem_mordred_n11aRing",
         "rawType": "int64",
         "type": "integer"
        },
        {
         "name": "chem_mordred_n12aRing",
         "rawType": "int64",
         "type": "integer"
        },
        {
         "name": "chem_mordred_nG12aRing",
         "rawType": "int64",
         "type": "integer"
        },
        {
         "name": "chem_mordred_naHRing",
         "rawType": "int64",
         "type": "integer"
        },
        {
         "name": "chem_mordred_n3aHRing",
         "rawType": "int64",
         "type": "integer"
        },
        {
         "name": "chem_mordred_n4aHRing",
         "rawType": "int64",
         "type": "integer"
        },
        {
         "name": "chem_mordred_n5aHRing",
         "rawType": "int64",
         "type": "integer"
        },
        {
         "name": "chem_mordred_n6aHRing",
         "rawType": "int64",
         "type": "integer"
        },
        {
         "name": "chem_mordred_n7aHRing",
         "rawType": "int64",
         "type": "integer"
        },
        {
         "name": "chem_mordred_n8aHRing",
         "rawType": "int64",
         "type": "integer"
        },
        {
         "name": "chem_mordred_n9aHRing",
         "rawType": "int64",
         "type": "integer"
        },
        {
         "name": "chem_mordred_n10aHRing",
         "rawType": "int64",
         "type": "integer"
        },
        {
         "name": "chem_mordred_n11aHRing",
         "rawType": "int64",
         "type": "integer"
        },
        {
         "name": "chem_mordred_n12aHRing",
         "rawType": "int64",
         "type": "integer"
        },
        {
         "name": "chem_mordred_nG12aHRing",
         "rawType": "int64",
         "type": "integer"
        },
        {
         "name": "chem_mordred_nARing",
         "rawType": "int64",
         "type": "integer"
        },
        {
         "name": "chem_mordred_n3ARing",
         "rawType": "int64",
         "type": "integer"
        },
        {
         "name": "chem_mordred_n4ARing",
         "rawType": "int64",
         "type": "integer"
        },
        {
         "name": "chem_mordred_n5ARing",
         "rawType": "int64",
         "type": "integer"
        },
        {
         "name": "chem_mordred_n6ARing",
         "rawType": "int64",
         "type": "integer"
        },
        {
         "name": "chem_mordred_n7ARing",
         "rawType": "int64",
         "type": "integer"
        },
        {
         "name": "chem_mordred_n8ARing",
         "rawType": "int64",
         "type": "integer"
        },
        {
         "name": "chem_mordred_n9ARing",
         "rawType": "int64",
         "type": "integer"
        },
        {
         "name": "chem_mordred_n10ARing",
         "rawType": "int64",
         "type": "integer"
        },
        {
         "name": "chem_mordred_n11ARing",
         "rawType": "int64",
         "type": "integer"
        },
        {
         "name": "chem_mordred_n12ARing",
         "rawType": "int64",
         "type": "integer"
        },
        {
         "name": "chem_mordred_nG12ARing",
         "rawType": "int64",
         "type": "integer"
        },
        {
         "name": "chem_mordred_nAHRing",
         "rawType": "int64",
         "type": "integer"
        },
        {
         "name": "chem_mordred_n3AHRing",
         "rawType": "int64",
         "type": "integer"
        },
        {
         "name": "chem_mordred_n4AHRing",
         "rawType": "int64",
         "type": "integer"
        },
        {
         "name": "chem_mordred_n5AHRing",
         "rawType": "int64",
         "type": "integer"
        },
        {
         "name": "chem_mordred_n6AHRing",
         "rawType": "int64",
         "type": "integer"
        },
        {
         "name": "chem_mordred_n7AHRing",
         "rawType": "int64",
         "type": "integer"
        },
        {
         "name": "chem_mordred_n8AHRing",
         "rawType": "int64",
         "type": "integer"
        },
        {
         "name": "chem_mordred_n9AHRing",
         "rawType": "int64",
         "type": "integer"
        },
        {
         "name": "chem_mordred_n10AHRing",
         "rawType": "int64",
         "type": "integer"
        },
        {
         "name": "chem_mordred_n11AHRing",
         "rawType": "int64",
         "type": "integer"
        },
        {
         "name": "chem_mordred_n12AHRing",
         "rawType": "int64",
         "type": "integer"
        },
        {
         "name": "chem_mordred_nG12AHRing",
         "rawType": "int64",
         "type": "integer"
        },
        {
         "name": "chem_mordred_nFRing",
         "rawType": "int64",
         "type": "integer"
        },
        {
         "name": "chem_mordred_n4FRing",
         "rawType": "int64",
         "type": "integer"
        },
        {
         "name": "chem_mordred_n5FRing",
         "rawType": "int64",
         "type": "integer"
        },
        {
         "name": "chem_mordred_n6FRing",
         "rawType": "int64",
         "type": "integer"
        },
        {
         "name": "chem_mordred_n7FRing",
         "rawType": "int64",
         "type": "integer"
        },
        {
         "name": "chem_mordred_n8FRing",
         "rawType": "int64",
         "type": "integer"
        },
        {
         "name": "chem_mordred_n9FRing",
         "rawType": "int64",
         "type": "integer"
        },
        {
         "name": "chem_mordred_n10FRing",
         "rawType": "int64",
         "type": "integer"
        },
        {
         "name": "chem_mordred_n11FRing",
         "rawType": "int64",
         "type": "integer"
        },
        {
         "name": "chem_mordred_n12FRing",
         "rawType": "int64",
         "type": "integer"
        },
        {
         "name": "chem_mordred_nG12FRing",
         "rawType": "int64",
         "type": "integer"
        },
        {
         "name": "chem_mordred_nFHRing",
         "rawType": "int64",
         "type": "integer"
        },
        {
         "name": "chem_mordred_n4FHRing",
         "rawType": "int64",
         "type": "integer"
        },
        {
         "name": "chem_mordred_n5FHRing",
         "rawType": "int64",
         "type": "integer"
        },
        {
         "name": "chem_mordred_n6FHRing",
         "rawType": "int64",
         "type": "integer"
        },
        {
         "name": "chem_mordred_n7FHRing",
         "rawType": "int64",
         "type": "integer"
        },
        {
         "name": "chem_mordred_n8FHRing",
         "rawType": "int64",
         "type": "integer"
        },
        {
         "name": "chem_mordred_n9FHRing",
         "rawType": "int64",
         "type": "integer"
        },
        {
         "name": "chem_mordred_n10FHRing",
         "rawType": "int64",
         "type": "integer"
        },
        {
         "name": "chem_mordred_n11FHRing",
         "rawType": "int64",
         "type": "integer"
        },
        {
         "name": "chem_mordred_n12FHRing",
         "rawType": "int64",
         "type": "integer"
        },
        {
         "name": "chem_mordred_nG12FHRing",
         "rawType": "int64",
         "type": "integer"
        },
        {
         "name": "chem_mordred_nFaRing",
         "rawType": "int64",
         "type": "integer"
        },
        {
         "name": "chem_mordred_n4FaRing",
         "rawType": "int64",
         "type": "integer"
        },
        {
         "name": "chem_mordred_n5FaRing",
         "rawType": "int64",
         "type": "integer"
        },
        {
         "name": "chem_mordred_n6FaRing",
         "rawType": "int64",
         "type": "integer"
        },
        {
         "name": "chem_mordred_n7FaRing",
         "rawType": "int64",
         "type": "integer"
        },
        {
         "name": "chem_mordred_n8FaRing",
         "rawType": "int64",
         "type": "integer"
        },
        {
         "name": "chem_mordred_n9FaRing",
         "rawType": "int64",
         "type": "integer"
        },
        {
         "name": "chem_mordred_n10FaRing",
         "rawType": "int64",
         "type": "integer"
        },
        {
         "name": "chem_mordred_n11FaRing",
         "rawType": "int64",
         "type": "integer"
        },
        {
         "name": "chem_mordred_n12FaRing",
         "rawType": "int64",
         "type": "integer"
        },
        {
         "name": "chem_mordred_nG12FaRing",
         "rawType": "int64",
         "type": "integer"
        },
        {
         "name": "chem_mordred_nFaHRing",
         "rawType": "int64",
         "type": "integer"
        },
        {
         "name": "chem_mordred_n4FaHRing",
         "rawType": "int64",
         "type": "integer"
        },
        {
         "name": "chem_mordred_n5FaHRing",
         "rawType": "int64",
         "type": "integer"
        },
        {
         "name": "chem_mordred_n6FaHRing",
         "rawType": "int64",
         "type": "integer"
        },
        {
         "name": "chem_mordred_n7FaHRing",
         "rawType": "int64",
         "type": "integer"
        },
        {
         "name": "chem_mordred_n8FaHRing",
         "rawType": "int64",
         "type": "integer"
        },
        {
         "name": "chem_mordred_n9FaHRing",
         "rawType": "int64",
         "type": "integer"
        },
        {
         "name": "chem_mordred_n10FaHRing",
         "rawType": "int64",
         "type": "integer"
        },
        {
         "name": "chem_mordred_n11FaHRing",
         "rawType": "int64",
         "type": "integer"
        },
        {
         "name": "chem_mordred_n12FaHRing",
         "rawType": "int64",
         "type": "integer"
        },
        {
         "name": "chem_mordred_nG12FaHRing",
         "rawType": "int64",
         "type": "integer"
        },
        {
         "name": "chem_mordred_nFARing",
         "rawType": "int64",
         "type": "integer"
        },
        {
         "name": "chem_mordred_n4FARing",
         "rawType": "int64",
         "type": "integer"
        },
        {
         "name": "chem_mordred_n5FARing",
         "rawType": "int64",
         "type": "integer"
        },
        {
         "name": "chem_mordred_n6FARing",
         "rawType": "int64",
         "type": "integer"
        },
        {
         "name": "chem_mordred_n7FARing",
         "rawType": "int64",
         "type": "integer"
        },
        {
         "name": "chem_mordred_n8FARing",
         "rawType": "int64",
         "type": "integer"
        },
        {
         "name": "chem_mordred_n9FARing",
         "rawType": "int64",
         "type": "integer"
        },
        {
         "name": "chem_mordred_n10FARing",
         "rawType": "int64",
         "type": "integer"
        },
        {
         "name": "chem_mordred_n11FARing",
         "rawType": "int64",
         "type": "integer"
        },
        {
         "name": "chem_mordred_n12FARing",
         "rawType": "int64",
         "type": "integer"
        },
        {
         "name": "chem_mordred_nG12FARing",
         "rawType": "int64",
         "type": "integer"
        },
        {
         "name": "chem_mordred_nFAHRing",
         "rawType": "int64",
         "type": "integer"
        },
        {
         "name": "chem_mordred_n4FAHRing",
         "rawType": "int64",
         "type": "integer"
        },
        {
         "name": "chem_mordred_n5FAHRing",
         "rawType": "int64",
         "type": "integer"
        },
        {
         "name": "chem_mordred_n6FAHRing",
         "rawType": "int64",
         "type": "integer"
        },
        {
         "name": "chem_mordred_n7FAHRing",
         "rawType": "int64",
         "type": "integer"
        },
        {
         "name": "chem_mordred_n8FAHRing",
         "rawType": "int64",
         "type": "integer"
        },
        {
         "name": "chem_mordred_n9FAHRing",
         "rawType": "int64",
         "type": "integer"
        },
        {
         "name": "chem_mordred_n10FAHRing",
         "rawType": "int64",
         "type": "integer"
        },
        {
         "name": "chem_mordred_n11FAHRing",
         "rawType": "int64",
         "type": "integer"
        },
        {
         "name": "chem_mordred_n12FAHRing",
         "rawType": "int64",
         "type": "integer"
        },
        {
         "name": "chem_mordred_nG12FAHRing",
         "rawType": "int64",
         "type": "integer"
        },
        {
         "name": "chem_mordred_nRot",
         "rawType": "int64",
         "type": "integer"
        },
        {
         "name": "chem_mordred_SLogP",
         "rawType": "float64",
         "type": "float"
        },
        {
         "name": "chem_mordred_SMR",
         "rawType": "float64",
         "type": "float"
        },
        {
         "name": "chem_mordred_TopoPSA(NO)",
         "rawType": "float64",
         "type": "float"
        },
        {
         "name": "chem_mordred_TopoPSA",
         "rawType": "float64",
         "type": "float"
        },
        {
         "name": "chem_mordred_GGI1",
         "rawType": "float64",
         "type": "float"
        },
        {
         "name": "chem_mordred_GGI2",
         "rawType": "float64",
         "type": "float"
        },
        {
         "name": "chem_mordred_GGI3",
         "rawType": "float64",
         "type": "float"
        },
        {
         "name": "chem_mordred_GGI4",
         "rawType": "float64",
         "type": "float"
        },
        {
         "name": "chem_mordred_GGI5",
         "rawType": "float64",
         "type": "float"
        },
        {
         "name": "chem_mordred_GGI6",
         "rawType": "float64",
         "type": "float"
        },
        {
         "name": "chem_mordred_GGI7",
         "rawType": "float64",
         "type": "float"
        },
        {
         "name": "chem_mordred_GGI8",
         "rawType": "float64",
         "type": "float"
        },
        {
         "name": "chem_mordred_GGI9",
         "rawType": "float64",
         "type": "float"
        },
        {
         "name": "chem_mordred_GGI10",
         "rawType": "float64",
         "type": "float"
        },
        {
         "name": "chem_mordred_JGI1",
         "rawType": "float64",
         "type": "float"
        },
        {
         "name": "chem_mordred_JGI2",
         "rawType": "float64",
         "type": "float"
        },
        {
         "name": "chem_mordred_JGI3",
         "rawType": "float64",
         "type": "float"
        },
        {
         "name": "chem_mordred_JGI4",
         "rawType": "float64",
         "type": "float"
        },
        {
         "name": "chem_mordred_JGI5",
         "rawType": "float64",
         "type": "float"
        },
        {
         "name": "chem_mordred_JGI6",
         "rawType": "float64",
         "type": "float"
        },
        {
         "name": "chem_mordred_JGI7",
         "rawType": "float64",
         "type": "float"
        },
        {
         "name": "chem_mordred_JGI8",
         "rawType": "float64",
         "type": "float"
        },
        {
         "name": "chem_mordred_JGI9",
         "rawType": "float64",
         "type": "float"
        },
        {
         "name": "chem_mordred_JGI10",
         "rawType": "float64",
         "type": "float"
        },
        {
         "name": "chem_mordred_JGT10",
         "rawType": "float64",
         "type": "float"
        },
        {
         "name": "chem_mordred_Diameter",
         "rawType": "int64",
         "type": "integer"
        },
        {
         "name": "chem_mordred_Radius",
         "rawType": "int64",
         "type": "integer"
        },
        {
         "name": "chem_mordred_MWC01",
         "rawType": "float64",
         "type": "float"
        },
        {
         "name": "chem_mordred_MWC02",
         "rawType": "float64",
         "type": "float"
        },
        {
         "name": "chem_mordred_MWC03",
         "rawType": "float64",
         "type": "float"
        },
        {
         "name": "chem_mordred_MWC04",
         "rawType": "float64",
         "type": "float"
        },
        {
         "name": "chem_mordred_MWC05",
         "rawType": "float64",
         "type": "float"
        },
        {
         "name": "chem_mordred_MWC06",
         "rawType": "float64",
         "type": "float"
        },
        {
         "name": "chem_mordred_MWC07",
         "rawType": "float64",
         "type": "float"
        },
        {
         "name": "chem_mordred_MWC08",
         "rawType": "float64",
         "type": "float"
        },
        {
         "name": "chem_mordred_MWC09",
         "rawType": "float64",
         "type": "float"
        },
        {
         "name": "chem_mordred_MWC10",
         "rawType": "float64",
         "type": "float"
        },
        {
         "name": "chem_mordred_TMWC10",
         "rawType": "float64",
         "type": "float"
        },
        {
         "name": "chem_mordred_SRW02",
         "rawType": "float64",
         "type": "float"
        },
        {
         "name": "chem_mordred_SRW03",
         "rawType": "float64",
         "type": "float"
        },
        {
         "name": "chem_mordred_SRW04",
         "rawType": "float64",
         "type": "float"
        },
        {
         "name": "chem_mordred_SRW05",
         "rawType": "float64",
         "type": "float"
        },
        {
         "name": "chem_mordred_SRW06",
         "rawType": "float64",
         "type": "float"
        },
        {
         "name": "chem_mordred_SRW07",
         "rawType": "float64",
         "type": "float"
        },
        {
         "name": "chem_mordred_SRW08",
         "rawType": "float64",
         "type": "float"
        },
        {
         "name": "chem_mordred_SRW09",
         "rawType": "float64",
         "type": "float"
        },
        {
         "name": "chem_mordred_SRW10",
         "rawType": "float64",
         "type": "float"
        },
        {
         "name": "chem_mordred_TSRW10",
         "rawType": "float64",
         "type": "float"
        },
        {
         "name": "chem_mordred_MW",
         "rawType": "float64",
         "type": "float"
        },
        {
         "name": "chem_mordred_AMW",
         "rawType": "float64",
         "type": "float"
        },
        {
         "name": "chem_mordred_WPath",
         "rawType": "int64",
         "type": "integer"
        },
        {
         "name": "chem_mordred_WPol",
         "rawType": "int64",
         "type": "integer"
        },
        {
         "name": "chem_mordred_Zagreb1",
         "rawType": "float64",
         "type": "float"
        },
        {
         "name": "chem_mordred_Zagreb2",
         "rawType": "float64",
         "type": "float"
        },
        {
         "name": "chem_mordred_mZagreb2",
         "rawType": "float64",
         "type": "float"
        },
        {
         "name": "split_totallyrandom",
         "rawType": "object",
         "type": "string"
        },
        {
         "name": "split_random",
         "rawType": "object",
         "type": "string"
        },
        {
         "name": "split_occurrence",
         "rawType": "object",
         "type": "string"
        },
        {
         "name": "split_scaffold-murcko",
         "rawType": "object",
         "type": "string"
        },
        {
         "name": "split_scaffold-murcko-loo-0",
         "rawType": "object",
         "type": "string"
        },
        {
         "name": "split_scaffold-murcko-loo-1",
         "rawType": "object",
         "type": "string"
        },
        {
         "name": "split_scaffold-murcko-llo",
         "rawType": "object",
         "type": "string"
        },
        {
         "name": "split_scaffold-generic",
         "rawType": "object",
         "type": "string"
        },
        {
         "name": "split_scaffold-generic-loo-0",
         "rawType": "object",
         "type": "string"
        },
        {
         "name": "split_scaffold-generic-loo-1",
         "rawType": "object",
         "type": "string"
        },
        {
         "name": "split_scaffold-generic-llo",
         "rawType": "object",
         "type": "string"
        }
       ],
       "ref": "de35be41-bcd7-4b1d-bb9c-b8dd59782826",
       "rows": [
        [
         "0",
         "1000130",
         "35",
         "2039-46-5",
         "LAB",
         "NR",
         "I",
         "FW",
         "NR",
         "NR",
         "124331",
         "MOR",
         "LC50",
         "48.0",
         "F",
         null,
         "1.44",
         "5.860805933600978e-06",
         null,
         null,
         "Actinopterygii Cypriniformes Cyprinidae Cyprinus carpio",
         "Common Carp",
         "Actinopterygii",
         "Cypriniformes",
         "Cyprinidae",
         "Cyprinus",
         "carpio",
         "Cyprinus_carpio",
         "21:1520:3020",
         "fish",
         "True",
         "C_D",
         "TH",
         "C_H_D",
         "potamodromous",
         "migration",
         "0.01498",
         "0.3392",
         "364.5",
         "13870.0",
         "0.7",
         "25.1",
         "130.0",
         null,
         "0",
         "0.1583624920952496",
         "-5.232042658990604",
         "DTXSID0034699",
         "MCPA dimethylamine salt",
         "2039-46-5\nMCPA dimethylamine salt",
         "C11H16ClNO3",
         "245.6999969482422",
         "121.478",
         "0.048626",
         "True",
         "DTXCID8014699",
         "InChI=1S/C9H9ClO3.C2H7N/c1-6-4-7(10)2-3-8(6)13-5-9(11)12;1-3-2/h2-4H,5H2,1H3,(H,11,12);3H,1-2H3",
         "PKAUICCNAWQPAU-UHFFFAOYSA-N",
         "62420.0",
         "PKAUICCNAWQPAU-UHFFFAOYSA-N",
         "InChI=1S/C9H9ClO3.C2H7N/c1-6-4-7(10)2-3-8(6)13-5-9(11)12;1-3-2/h2-4H,5H2,1H3,(H,11,12);3H,1-2H3",
         "2-(4-chloro-2-methylphenoxy)acetic acid;N-methylmethanamine",
         "CC1=C(C=CC(=C1)Cl)OCC(=O)O.CNC",
         "11100000011100100011000000000000000001000000000000000000000000000000000000000000000000000000000000000000000000000000000000000000000000000000000000000000000000000000000000000000001100000000000000000000000000000000000000000000000000000000000000000000000000010000000000000000000000000001111000000010000100000000100000000000000000000000110000000110101000001001100000100110001100100000111010000010110000000000011000000000100010000000001000100000110100100000100000000010000000100000100000000000001000000010010100000000000010001000100010000000010011100000101010001000000011010010011000100010100001010011001100011110100000100011100000100000101001001100000000010001000010111010100000000111100000001100000000100000000011100000000000100000000000000010000000000000000010000000000000000000000000000100000000000000010000000000000000010000000000000000000000000000000000000000000000000000000000000",
         "16.0",
         "1.94742",
         "31",
         "4",
         "0",
         "1.0",
         "1.0",
         "True",
         "CNC.Cc1cc(Cl)ccc1OCC(=O)O",
         null,
         "00000000000000000000000000000000000000000000000000000000000000000000000010100000000000110000010000000001100111000100000000010011000110100001010110100111111101111111111",
         "00000000000000000000000000000000000000000000000000000000000000000000000000000000100000000000001000000000000000000000000000000000000000000000000000000000000000000000010000000000000000001000000000000000000000000000000010000000000000000000000000000000000000000000000000000000000000000000000000000000000000000000000000000000000000000000000000000000000000000000000000000000000000000000000000000100000000000000000000000000000000000000000000000000000000000000000000000000000000000000000000000000000000000000000000000000000000000000000000000000000000000000000000000000010000000000000000000000000000000000000000000000000000000000000000000000000000000000000000100000000000000000000000000000000010000000000100000000000000000000000000000000000000000000000000000000000000000000000000000000000000000000000000000000000000010000000010000000000000000000000000000000000000000000000000000000000100000000000000000000000000000000000000000000000000000000000000000000000000000000000000000000000000000000000000000000000000000000000000000000000000000000000000000000000000000000000001000000000000000000000000000000000000000000000000000000000000000000000000000000000000000000000010000000000000000000000000000000000100000000000000000000000000000000000000000000000000000000000000000000000000000000000000000000000000000000000000000000000000000000000000000000000000000000000000000000000000000000000000000000000010000000000100000000000000000000000000000000000000100000000010000000000010000000000000000000000000000000000000000000000000000000000000000000000000000000000000000000000000000000000000010000000000000000000000000000000000000000000000000000000000000000000000000000000000000000000000000000000000000000000000010000000000000000000000000000000000000010100000000000010000000000001000000000000000000000000000000000000000000000000000000000000000000000000000000000000000000000000000000000000000000000000001000000000000000000000000000000000000000000010000000000000000000000000000000000000000000000000000100000000000000000000000000000000010000000100000000000000000000000000000000000",
         "000000000000000000000000000000000000000001010000000000000000000000000010000000000000000000000100000000100100000000100000000000000000000000000000000000000000000000000000000000000000000010001000000000000000000000000000000000000000000000000000000000000000000000000000000000000000000000000000000000000000010000000000000000000000000000000000000000000000000000000000000000000000000000000000000000000000000000000000000000000000000000000000000000000000000000000000000000000000000000111000000000000000000000000000000000000000000000000000000000000000000000000000000000000000000000000000000000000100000000000000000000000000000000000000000000000000000000000000000000000000000000000000000000000000000000000000000000000000000000000000000000000",
         "0.31984735",
         "-1.441703",
         "-1.8253992",
         "2.5730996",
         "1.1751075",
         "0.6465223",
         "-5.868057",
         "-0.7569635",
         "5.4180636",
         "1.6395037",
         "-1.7791924",
         "1.3560827",
         "-3.685557",
         "0.7727811",
         "-3.7639139",
         "0.22274081",
         "3.7667472",
         "-3.065978",
         "-2.1162548",
         "3.6346266",
         "0.8142402",
         "2.7923229",
         "10.011002",
         "3.4402122",
         "-4.807883",
         "1.0806704",
         "-1.5009985",
         "-6.0078716",
         "0.2400578",
         "-0.11136775",
         "6.6732864",
         "-5.6379013",
         "-1.9664478",
         "-3.7939875",
         "0.23546855",
         "0.6819501",
         "-1.2620329",
         "1.7118053",
         "5.841549",
         "2.3135448",
         "-1.777027",
         "1.1760405",
         "-2.4418175",
         "-0.14591223",
         "-5.653975",
         "2.4629147",
         "1.8645809",
         "4.877261",
         "-4.6732635",
         "4.1977515",
         "3.0891614",
         "-4.4351816",
         "-0.01733768",
         "-6.032929",
         "-5.5391603",
         "-3.8971372",
         "-2.1600304",
         "-1.3078972",
         "1.5362746",
         "2.9361794",
         "-1.1693851",
         "-3.5880582",
         "-1.6656972",
         "2.5981257",
         "-10.409388",
         "0.36639345",
         "4.9716916",
         "0.34634632",
         "-3.9040966",
         "-1.3457121",
         "-2.984029",
         "2.1845992",
         "5.126019",
         "-5.282665",
         "-0.8986298",
         "5.221205",
         "-5.487169",
         "2.80635",
         "-1.1085529",
         "0.73742926",
         "2.9809513",
         "-0.9140116",
         "-1.8554767",
         "-5.478448",
         "2.478688",
         "0.6744355",
         "-5.174915",
         "2.629722",
         "2.9680243",
         "0.033941567",
         "2.39318",
         "2.117824",
         "0.9049079",
         "3.6469328",
         "0.22143793",
         "-0.52366775",
         "3.1220589",
         "1.1834095",
         "5.353035",
         "3.142555",
         "-3.9371295",
         "-3.8380437",
         "-4.9716363",
         "-7.4567413",
         "2.7880316",
         "-3.969496",
         "-2.3377373",
         "4.520019",
         "0.74195945",
         "-3.4651473",
         "-5.3061204",
         "2.3411417",
         "3.3778749",
         "-2.8106177",
         "1.8802538",
         "-3.0427263",
         "4.831894",
         "4.465361",
         "-3.0163612",
         "4.2406516",
         "-5.575254",
         "0.5843501",
         "-1.8567419",
         "4.875961",
         "3.9195268",
         "-5.9360204",
         "-4.759387",
         "0.9893158",
         "-3.4429195",
         "0.04568415",
         "-0.7549366",
         "-1.183219",
         "3.818987",
         "8.486787",
         "-0.39342213",
         "9.287032",
         "4.9727564",
         "-1.5941489",
         "5.6637797",
         "-1.1318762",
         "6.395153",
         "0.15577185",
         "-2.8606205",
         "-1.5610884",
         "4.12047",
         "4.773084",
         "2.177227",
         "0.24543631",
         "1.0986772",
         "3.860012",
         "2.8541832",
         "1.442041",
         "4.4402018",
         "-2.4902365",
         "-0.15624979",
         "1.6626209",
         "-4.71663",
         "-2.8195975",
         "0.17264304",
         "-4.1229343",
         "-0.77397406",
         "-0.6151992",
         "-1.357408",
         "2.6358724",
         "1.4670957",
         "-6.6063795",
         "0.036638916",
         "-1.8410816",
         "-0.17936441",
         "4.202859",
         "-5.8657837",
         "-2.5159674",
         "7.032878",
         "-1.9513228",
         "0.16057293",
         "0.7755276",
         "4.54259",
         "-1.9102529",
         "-1.5235286",
         "6.573549",
         "-1.2958223",
         "4.5894427",
         "-0.52936536",
         "5.9564104",
         "3.2892063",
         "-2.8985524",
         "-2.6838531",
         "-0.90397555",
         "-2.6381733",
         "-2.347706",
         "-0.99262565",
         "-0.80000854",
         "-1.5495293",
         "0.8272303",
         "0.3525972",
         "1.5192977",
         "-1.5830044",
         "-5.292183",
         "-0.08076232",
         "-1.0555301",
         "2.240669",
         "1.0543591",
         "4.6840653",
         "1.4532018",
         "3.5441077",
         "-2.1236055",
         "5.994478",
         "2.2633991",
         "6.2180486",
         "-1.0914466",
         "8.228811",
         "-1.6413293",
         "4.042139",
         "-2.2117798",
         "2.3970532",
         "0.7513954",
         "2.021991",
         "2.7810047",
         "-6.3912497",
         "3.322459",
         "1.4814563",
         "-5.58117",
         "-1.1612993",
         "0.06086245",
         "3.160314",
         "-0.2911158",
         "-1.4536684",
         "0.7433665",
         "4.874875",
         "-4.229003",
         "1.9632494",
         "-0.54886675",
         "-4.196759",
         "-6.6621494",
         "-1.0608081",
         "-2.4505572",
         "-2.0711265",
         "-0.33678195",
         "-2.6163602",
         "5.8347573",
         "1.2364435",
         "-2.6778588",
         "2.8118725",
         "2.3464162",
         "-1.5274622",
         "2.2410846",
         "-7.11795",
         "-2.564306",
         "0.009182237",
         "-1.9929632",
         "-9.679471",
         "2.6207116",
         "0.5635004",
         "-0.53501827",
         "-7.645189",
         "1.7568636",
         "2.4452069",
         "-3.7884512",
         "2.3790703",
         "-5.548135",
         "-0.24641237",
         "2.8949413",
         "2.5240042",
         "5.443967",
         "1.675452",
         "-1.6528721",
         "-5.2200456",
         "1.5085012",
         "2.235594",
         "-2.6696374",
         "-0.9966996",
         "5.1654572",
         "-0.28040743",
         "1.6322478",
         "-0.77123296",
         "-1.5342109",
         "0.057512082",
         "-2.417511",
         "0.23973027",
         "1.3573482",
         "-4.594027",
         "-1.4292068",
         "-10.07069",
         "-3.5165653",
         "0.9729525",
         "2.5649145",
         "1.3474649",
         "-0.8019006",
         "-3.6904013",
         "0.4305146",
         "-0.7471632",
         "5.652516",
         "6.7224364",
         "0.87981784",
         "-5.3827844",
         "-1.5250398",
         "-2.9699643",
         "-3.234904",
         "-6.123464",
         "-2.8331926",
         "11.003720802243048",
         "10.186519328436008",
         "1",
         "1",
         "6",
         "6",
         "32",
         "16",
         "0",
         "0",
         "5",
         "16",
         "0",
         "11",
         "1",
         "3",
         "0",
         "0",
         "0",
         "1",
         "0",
         "0",
         "1",
         "211.6049382716049",
         "176.11111111111111",
         "211.66666666666669",
         "187.44444444444449",
         "116.88888888888889",
         "117.66666666666669",
         "94.55555555555556",
         "47.11111111111112",
         "8.555555555555555",
         "82.0",
         "91.0",
         "136.0",
         "124.0",
         "106.0",
         "75.0",
         "62.0",
         "27.0",
         "10.0",
         "942.0",
         "765.0",
         "1020.0",
         "985.0",
         "734.0",
         "631.0",
         "509.0",
         "331.0",
         "283.0",
         "3823.964907",
         "2884.7803079999994",
         "3807.637248",
         "3535.818373",
         "2622.999425",
         "2231.99467",
         "1877.464613",
         "1080.192376",
         "1151.516508",
         "6552.483292665356",
         "7478.362327134699",
         "9492.17350470663",
         "9137.29287290364",
         "7177.830042273343",
         "5747.728163537302",
         "4302.635308251267",
         "2513.2070399215854",
         "930.6238608893486",
         "203.6955",
         "203.466",
         "319.03860000000003",
         "334.7312",
         "290.557",
         "217.2344",
         "195.7385",
         "136.85600000000002",
         "51.55080000000001",
         "45.683718477584",
         "51.841020626",
         "68.01622316049",
         "68.622918549943",
         "56.06719487873499",
         "44.220076919094",
         "31.336942525037003",
         "18.359423174849",
         "6.833328834245",
         "5289.173697412383",
         "4627.60529401205",
         "8061.25782100869",
         "8264.230642578623",
         "7870.883163597226",
         "5538.752527206563",
         "5345.274689792637",
         "3301.5132778436287",
         "1430.8984752771448",
         "6.612654320987654",
         "2.5625",
         "29.4375",
         "119.49890334375",
         "204.7651028957924",
         "6.365484374999999",
         "1.4276162024245",
         "165.28667804413698",
         "127.82561728395063",
         "37.576340663580254",
         "9.971547067901232",
         "-1.8231095679012324",
         "-3.925925925925931",
         "27.89829282407408",
         "10.416666666666664",
         "-44.45510223765433",
         "2.712577160493828",
         "15.875",
         "5.55859375",
         "0.6953125",
         "1.453125",
         "-1.8125",
         "-2.17578125",
         "-1.25",
         "0.13671875",
         "0.65625",
         "413.875",
         "-7.12890625",
         "73.9453125",
         "-82.421875",
         "35.25",
         "-66.98828125",
         "119.0",
         "-167.92578125",
         "142.84375",
         "1937.40352546875",
         "-32.760219360351456",
         "353.9048703925781",
         "-390.3975143867186",
         "177.0682902031249",
         "-329.7074473876951",
         "562.70018178125",
         "-775.2786980908204",
         "655.7243255390626",
         "1608.3818129589977",
         "-80.46644783461414",
         "451.7902573992735",
         "-370.43173547581085",
         "321.9445156939346",
         "-510.9403673744099",
         "336.3667769018638",
         "-295.44576246324567",
         "224.7628033085635",
         "4.843846874999999",
         "-0.3284329101562515",
         "0.3839361328124983",
         "0.2362707031249991",
         "-0.5661078124999994",
         "0.5053862304687501",
         "0.775634374999999",
         "-2.982212207031252",
         "1.6758539062499995",
         "8.002344830792",
         "-0.5814806164622505",
         "2.477735764273499",
         "-0.6824302956980004",
         "2.044040152849",
         "-4.08765948031125",
         "0.2988737313725006",
         "0.0186052886652499",
         "0.0104148730235001",
         "41.319257235639455",
         "-6.632210328560717",
         "16.411458098169284",
         "-2.2658106763739045",
         "5.105347928292747",
         "-12.002593153531926",
         "-6.965683816431883",
         "0.8833017121326536",
         "2.176807443304736",
         "3.994550540123457",
         "0.49609375",
         "12.93359375",
         "60.54386017089844",
         "50.26193165496868",
         "0.1513702148437499",
         "0.25007327596225",
         "1.291226788613733",
         "6.730768392825554e-07",
         "342.0016018411731",
         "31",
         "15",
         "24",
         "1",
         "0",
         "6",
         "7",
         "27",
         "4",
         "0",
         "0",
         "1",
         "5",
         "1",
         "2",
         "0",
         "0",
         "0",
         "0.3636363636363636",
         "0.0",
         "0.0",
         "0.0",
         "0.0680413817439771",
         "0.1841952859204231",
         "0.0",
         "0.0",
         "0.0",
         "0.0240562612162344",
         "0.0611544250122132",
         "1.0992923521208584",
         "0.0",
         "0.1178511301977579",
         "0.0",
         "0.4567950913376893",
         "0.0",
         "0.0340206908719885",
         "0.0",
         "1.6491021005746391",
         "2.0155472026995165",
         "2.690547770882796",
         "0.6130136727954778",
         "0.746724552443636",
         "0.7825107564151909",
         "7.506437715248111",
         "6.333891685179763",
         "3.723956311216917",
         "2.704354596692111",
         "2.007352270541389",
         "1.3056241716973265",
         "0.4401410703213767",
         "5.079064194628355",
         "3.528668387826899",
         "1.723223158248626",
         "1.140910627159991",
         "0.6296202159032757",
         "0.3380864008623875",
         "0.0813190026819219",
         "21.666666666666664",
         "20.4564982099742",
         "19.32783920211684",
         "31.28235294117648",
         "20.793226347305392",
         "36.39283749100824",
         "0.6770833333333333",
         "0.6392655690616935",
         "0.6039949750661512",
         "0.9775735294117648",
         "0.6497883233532935",
         "1.1372761715940074",
         "0",
         "0",
         "0",
         "0",
         "0",
         "0",
         "3",
         "0",
         "1",
         "0",
         "0",
         "3",
         "0",
         "0",
         "0",
         "1",
         "3",
         "0",
         "0",
         "0",
         "0",
         "0",
         "0",
         "1",
         "0",
         "0",
         "0",
         "0",
         "0",
         "0",
         "0",
         "0",
         "0",
         "1",
         "1",
         "1",
         "0",
         "0",
         "0",
         "0",
         "0",
         "0",
         "0",
         "0",
         "0",
         "0",
         "0",
         "0",
         "0",
         "0",
         "0",
         "0",
         "0",
         "1",
         "0",
         "0",
         "0",
         "0",
         "0",
         "0",
         "0",
         "0",
         "0",
         "0",
         "0",
         "0",
         "0",
         "0",
         "0",
         "0",
         "0",
         "0",
         "0",
         "0",
         "0",
         "0",
         "0",
         "0",
         "0",
         "0",
         "0",
         "0",
         "0",
         "0.0",
         "0.0",
         "5.558595049130764",
         "0.0",
         "-0.3308805744520031",
         "0.0",
         "0.0",
         "5.03282281431091",
         "0.0",
         "0.0",
         "0.0",
         "-0.9913425925925924",
         "1.986782407407408",
         "0.0",
         "0.0",
         "0.0",
         "0.0",
         "0.0",
         "0.0",
         "2.75",
         "0.0",
         "0.0",
         "0.0",
         "0.0",
         "0.0",
         "0.0",
         "0.0",
         "0.0",
         "0.0",
         "8.369212945466252",
         "10.199797003163406",
         "4.995015432098765",
         "0.0",
         "0.0",
         "0",
         "0",
         "0.0",
         "0.0",
         "0",
         "0",
         "0.0",
         "0.0",
         "0",
         "0.0",
         "0.0",
         "0.0",
         "0.0",
         "0.0",
         "0.0",
         "5.707775293244869",
         "0",
         "0",
         "0",
         "0",
         "0",
         "0",
         "0.0",
         "0.0",
         "0",
         "0",
         "0",
         "0.0",
         "0",
         "0.0",
         "0.0",
         "0.0",
         "0",
         "0",
         "0",
         "0",
         "0.0",
         "0",
         "0",
         "0",
         "0",
         "3000000000",
         "15.05",
         "0.1875",
         "3",
         "2",
         "1.6622301466508205",
         "3.4511399122082125",
         "4.093139062229566",
         "4.241729296672174",
         "4.241729296672174",
         "4.241729296672174",
         "53.191364692826255",
         "110.4364771906628",
         "130.98044999134612",
         "135.73533749350958",
         "135.73533749350958",
         "135.73533749350958",
         "3.3377698533491795",
         "1.5488600877917875",
         "0.9068609377704338",
         "0.7582707033278258",
         "0.7582707033278258",
         "0.7582707033278258",
         "19.715030936465883",
         "34.507685681933864",
         "36.7897591747274",
         "36.93953813104555",
         "36.93953813104555",
         "36.93953813104555",
         "54.38547952554372",
         "28.986129268732945",
         "24.38787578003305",
         "23.89614648336088",
         "23.89614648336088",
         "23.89614648336088",
         "-3.304961990310532",
         "188.4799999999997",
         "100.1843743372456",
         "15.160178952647088",
         "0.0",
         "4.794537184071822",
         "0.0",
         "0.0",
         "11.600939890232516",
         "44.78163386212682",
         "5.022633313741326",
         "0.0",
         "5.749511833283905",
         "6.606881964512918",
         "0.0",
         "0.0",
         "14.637927532712576",
         "0.0",
         "5.316788604006331",
         "0.0",
         "6.923737199690624",
         "20.702225929867296",
         "28.78518601082316",
         "0.0",
         "5.749511833283905",
         "10.05365155780638",
         "31.77805861265985",
         "4.794537184071822",
         "6.923737199690624",
         "5.563451491696996",
         "18.19910120538483",
         "5.022633313741326",
         "0.0",
         "0.0",
         "0.0",
         "5.749511833283905",
         "5.969305287951849",
         "6.606881964512918",
         "10.772145147025231",
         "5.563451491696996",
         "0.0",
         "18.19910120538483",
         "21.019081165045005",
         "5.316788604006331",
         "21.44433023887327",
         "4.794537184071822",
         "4.995015432098765",
         "10.199797003163406",
         "11.7304860936144",
         "0.8275462962962965",
         "-0.4433796296296293",
         "5.03282281431091",
         "0.0",
         "1.4777144746787605",
         "3.75",
         "18",
         "18",
         "20",
         "23",
         "19",
         "11",
         "11",
         "5",
         "2",
         "158",
         "2.995732273553991",
         "3.449987545831587",
         "3.766997233377889",
         "4.187759006861526",
         "4.658118360306187",
         "4.535284058523925",
         "4.1093357967078346",
         "4.309539943687136",
         "3.9918733869158793",
         "3.168897455061959",
         "6.3622735085604445",
         "34.72468799999998",
         "19.735312",
         "1",
         "0",
         "0",
         "0",
         "1",
         "0",
         "0",
         "0",
         "0",
         "0",
         "0",
         "0",
         "0",
         "0",
         "0",
         "0",
         "0",
         "0",
         "0",
         "0",
         "0",
         "0",
         "0",
         "0",
         "1",
         "0",
         "0",
         "0",
         "1",
         "0",
         "0",
         "0",
         "0",
         "0",
         "0",
         "0",
         "0",
         "0",
         "0",
         "0",
         "0",
         "0",
         "0",
         "0",
         "0",
         "0",
         "0",
         "0",
         "0",
         "0",
         "0",
         "0",
         "0",
         "0",
         "0",
         "0",
         "0",
         "0",
         "0",
         "0",
         "0",
         "0",
         "0",
         "0",
         "0",
         "0",
         "0",
         "0",
         "0",
         "0",
         "0",
         "0",
         "0",
         "0",
         "0",
         "0",
         "0",
         "0",
         "0",
         "0",
         "0",
         "0",
         "0",
         "0",
         "0",
         "0",
         "0",
         "0",
         "0",
         "0",
         "0",
         "0",
         "0",
         "0",
         "0",
         "0",
         "0",
         "0",
         "0",
         "0",
         "0",
         "0",
         "0",
         "0",
         "0",
         "0",
         "0",
         "0",
         "0",
         "0",
         "0",
         "0",
         "0",
         "0",
         "0",
         "0",
         "0",
         "0",
         "0",
         "0",
         "0",
         "0",
         "0",
         "0",
         "0",
         "0",
         "0",
         "0",
         "0",
         "0",
         "0",
         "0",
         "0",
         "0",
         "0",
         "0",
         "0",
         "0",
         "3",
         "1.94742",
         "64.30350000000001",
         "58.56",
         "58.56",
         "4.0",
         "1.5555555555555562",
         "0.6875",
         "0.6133333333333333",
         "0.3680555555555556",
         "0.1216326530612245",
         "0.1180555555555555",
         "0.0",
         "0.0",
         "0.0",
         "0.2666666666666666",
         "0.0864197530864198",
         "0.0458333333333333",
         "0.0557575757575757",
         "0.040895061728395",
         "0.015204081632653",
         "0.0393518518518518",
         "0.0",
         "0.0",
         "0.0",
         "0.5501283240568956",
         "100000000",
         "100000000",
         "15.0",
         "4.204692619390966",
         "4.934473933130692",
         "5.739792912179234",
         "6.517671272912275",
         "7.337587743538596",
         "8.13593277200489",
         "8.962263554116761",
         "9.769556079890268",
         "10.598907149201738",
         "97.2008780363654",
         "3.4339872044851463",
         "0.0",
         "4.634728988229636",
         "0.0",
         "6.028278520230698",
         "0.0",
         "7.529943370601589",
         "0.0",
         "9.091669442258503",
         "46.71860752580557",
         "245.081871052",
         "7.658808470375",
         "3900000270",
         "15",
         "66.0",
         "69.0",
         "3.9444444444444446",
         "4",
         "3",
         "test",
         "4",
         "test",
         "trainvalid",
         "trainvalid",
         "4",
         "test",
         "trainvalid",
         "trainvalid"
        ],
        [
         "1",
         "1001265",
         "182",
         "94-09-7",
         "LAB",
         "S",
         "I",
         "FW",
         "X",
         "NR",
         "112643",
         "MOR",
         "LC50",
         "24.0",
         "A",
         null,
         "19.0",
         "0.0001150176754658",
         "7.8",
         "12.0",
         "Actinopterygii Cypriniformes Cyprinidae Cyprinus carpio",
         "Common Carp",
         "Actinopterygii",
         "Cypriniformes",
         "Cyprinidae",
         "Cyprinus",
         "carpio",
         "Cyprinus_carpio",
         "21:1520:3020",
         "fish",
         "True",
         "C_D",
         "TH",
         "C_H_D",
         "potamodromous",
         "migration",
         "0.01498",
         "0.3392",
         "364.5",
         "13870.0",
         "0.7",
         "25.1",
         "130.0",
         null,
         "0",
         "1.2787536009528289",
         "-3.9392354138427",
         "DTXSID8021804",
         "Benzocaine",
         "94-09-7\nBenzocaine",
         "C9H11NO2",
         "165.19200134277344",
         "73.5642",
         "0.0286551",
         "True",
         "DTXCID301804",
         "InChI=1S/C9H11NO2/c1-2-12-9(11)7-3-5-8(10)6-4-7/h3-6H,2,10H2,1H3",
         "BLFLLBZGZJTVJG-UHFFFAOYSA-N",
         "2337.0",
         "BLFLLBZGZJTVJG-UHFFFAOYSA-N",
         "InChI=1S/C9H11NO2/c1-2-12-9(11)7-3-5-8(10)6-4-7/h3-6H,2,10H2,1H3",
         "ethyl 4-aminobenzoate",
         "CCOC(=O)C1=CC=C(C=C1)N",
         "11000000011100100011000000000000000000000000000000000000000000000000000000000000000000000000000000000000000000000000000000000000000000000000000000000000000000000000000000000000001100000000000000000000000000000000000000000000000000000000000000000000000000010000000000000000000000000001111000000000000100000000000000000000000000000000110000001000101000011001100000000010001100101100100010000000010000000000010000000000100010000000001000100100110100100100100000000000100000100000000000000000001001000000001000000000000010001000100000000001000000000110110011001000000010000010011000110010100000001011010110011001100000100011000100000000011001001101000000000001000010001110100110000111100110001101100100100001100111100000100000000000000000000000000000000000000000000000000000000000000100000000000000000000000000000000000000000000000000000000000000000000000000000000000000000000000000000",
         "12.0",
         "1.4455",
         "23",
         "4",
         "0",
         "1.0",
         "0.0",
         "True",
         "CCOC(=O)c1ccc(N)cc1",
         "7.14",
         "00000000000000000000000000000000000000000000000000000000000000000000000000000000000010000000000000000000000001000010000000010010000001010000000000000001011111111111110",
         "00000000000000000000000000000000000000000000000000000000000000000000000000000000100000000000000000000000000000000000000000000000000000000000000001010000000000000000000000000000000000000000000000000000000000000000000000000000000000000000000000000000000000000000000000000000000000000000000000000010000000000000000000000000000000000000000000000000000000000000000000000000000000000000000000000000000000000000000000000000000000000000000000000000000000000000000000000000000000000000000000000000000000000000000000000000000000000000000000000000000000000000000000000000000000000000000000000000000000000000000000000010000000000000000000000000000000000000000000100000000000000000000000000000000000000000000100000000000000000000000000000000000000000000000000000000000000010000000000000000000000000000000000000000000000010000000000000000000000000000000000000000000000000000000000000000000000000000000010000000000000000000000000000000000000000000000000000000000000000000000000000000000000000000000000000000000000000000000000000000000000000000000000000000000000000000000001000000000000000000000000000000000000000000000000000000000000000000000000000000000000000000000000000000000000001001000000000000000000000000000000000000000000000000000000000000000000100000000000000000000000000000000000000000000000000000000000000000000000000000000000000000000000000000000000000000000000000000000000000000000010000100000000000000000000000000000000000000000000000000000000000000000000000100000000000000000000000000000000000000000000000000000000000000001000000000000000000000000000000000000000000000000000000000000000000000000000000000000000000000000000000000000000000000000000000000000000000000000000000000000000000000000000000100000000000000000000000010000000000000000000000000001000000000000000000000000000000000000000000000000000001000000000000000000000000000000000000000000000000000000000000000000001000000000000000000000000000000000000000000010000000000000000000000000000000000000000000000000000000000000000000000000000000000000000000000000000000000000000000000000000000000",
         "000000000000000000000000000000000000000000000000010000000000000000000010000000000000000000000000010011000000000000000000000000000000000000000000000000000000000000000000000000000000000000000000000000000000000000000000000000000000000000000000000000000000000000000000000000000000000000000000000000000000000000000000000000000000000000000000000000000000000000000000000000000000000000000000000000000000000000000000000000000000000000000000000010000000000000000000000000000000000000001000000000000000000000000000000000000000000000000000000000000000000000000000000000000000000000000000000000000100000000000000000000000000000000000000000000000000000000000000000000000000000000000000000000000000000000000000000000000000000000000000000000000",
         "0.5862471",
         "-0.3034242",
         "-2.985025",
         "2.2095256",
         "0.9546272",
         "-0.5085076",
         "-5.7340374",
         "-1.6503153",
         "3.7974262",
         "1.5688366",
         "-2.7179928",
         "0.5806993",
         "-4.2258387",
         "1.0536712",
         "-3.5430694",
         "-0.36880863",
         "3.01147",
         "-2.152699",
         "-1.4960028",
         "4.1191115",
         "0.19526237",
         "2.1329677",
         "8.078183",
         "3.1749115",
         "-4.253626",
         "0.2166718",
         "-1.060026",
         "-4.641761",
         "1.0703692",
         "0.56582123",
         "5.0497603",
         "-4.028867",
         "-1.7922636",
         "-2.9824162",
         "0.6379189",
         "0.99121404",
         "0.5273883",
         "0.10600339",
         "4.3134995",
         "2.325465",
         "-1.1090034",
         "0.70011795",
         "-2.196274",
         "0.19040903",
         "-4.5964613",
         "1.461037",
         "0.40496022",
         "4.9563227",
         "-1.9282348",
         "3.2422385",
         "0.8890721",
         "-2.3093936",
         "-0.764739",
         "-4.1133137",
         "-3.8407087",
         "-3.2009077",
         "-1.6167306",
         "-0.3847555",
         "1.204681",
         "2.2767947",
         "-0.74444216",
         "-2.8712976",
         "-1.428544",
         "1.0876544",
         "-7.8540125",
         "-0.58123076",
         "4.6729403",
         "0.29306412",
         "-0.03057",
         "0.49600017",
         "-1.180784",
         "1.8172958",
         "3.9951932",
         "-3.6492326",
         "-0.74432606",
         "3.2129695",
         "-4.6112423",
         "2.4688456",
         "-1.3641112",
         "1.3867592",
         "3.8098798",
         "-1.2094468",
         "-2.5657935",
         "-3.2005734",
         "0.38398665",
         "0.43405646",
         "-4.022957",
         "2.1590867",
         "1.1840261",
         "-0.0024849921",
         "2.879351",
         "0.73072916",
         "1.5812021",
         "3.9281569",
         "0.19989601",
         "0.055692647",
         "3.537124",
         "0.2989292",
         "2.6073494",
         "1.2346401",
         "-1.3459246",
         "-2.0177267",
         "-2.5700283",
         "-4.88212",
         "1.5777317",
         "-4.1812367",
         "-0.9074377",
         "1.4988592",
         "1.555656",
         "-3.3590775",
         "-4.7121706",
         "1.6810422",
         "3.0341568",
         "-1.449351",
         "2.153957",
         "-3.5587692",
         "4.2746778",
         "3.0615983",
         "0.015302181",
         "2.4169383",
         "-4.524012",
         "0.22961937",
         "-1.4345752",
         "2.5255613",
         "1.4436276",
         "-3.628138",
         "-3.644391",
         "-0.08731495",
         "-2.9586303",
         "0.1793908",
         "0.24939486",
         "-0.28980628",
         "4.2752414",
         "6.1008124",
         "-0.036266044",
         "4.919683",
         "4.7530427",
         "-1.4798046",
         "4.591622",
         "-0.3854184",
         "4.037599",
         "-0.28003362",
         "0.066493675",
         "-0.5100352",
         "4.560949",
         "2.1690214",
         "0.24318838",
         "2.4577043",
         "0.42706096",
         "3.2494538",
         "-0.002347052",
         "1.3563142",
         "4.4108424",
         "-2.1152549",
         "-0.904721",
         "1.8425629",
         "-4.6772723",
         "-1.7839146",
         "0.8140369",
         "-3.2598662",
         "-1.9897008",
         "0.13414672",
         "-1.9063128",
         "0.30436555",
         "0.5449356",
         "-3.866867",
         "0.34774634",
         "-0.4314943",
         "1.3846575",
         "3.161101",
         "-3.101789",
         "-1.7356565",
         "4.5789733",
         "-2.4270227",
         "-0.2625655",
         "1.1668953",
         "2.0921204",
         "-1.5245638",
         "-1.6360674",
         "4.364105",
         "-2.250335",
         "3.473413",
         "-0.8997385",
         "4.772759",
         "4.0733113",
         "-2.015838",
         "-0.56128573",
         "-0.55642724",
         "-1.9923161",
         "-0.73637146",
         "-0.3316872",
         "-0.76221776",
         "-1.6389058",
         "-0.672331",
         "0.23702936",
         "0.14378414",
         "-2.5545816",
         "-4.074749",
         "-0.23894402",
         "-0.032525957",
         "2.4310052",
         "1.9126322",
         "1.299779",
         "1.2496126",
         "1.7738259",
         "-0.6973421",
         "4.2492003",
         "3.8519456",
         "4.1569095",
         "-1.3363739",
         "7.2730994",
         "-2.7989917",
         "4.175112",
         "-1.3203181",
         "1.3598475",
         "1.63077",
         "-0.083398536",
         "1.6938026",
         "-4.0434713",
         "2.4481628",
         "0.8580862",
         "-3.6521897",
         "-0.9342957",
         "0.6722724",
         "2.0361245",
         "-2.3096635",
         "-0.5513231",
         "1.7426114",
         "3.4169745",
         "-4.7891464",
         "0.19838907",
         "-1.4166924",
         "-2.6840107",
         "-4.873905",
         "0.14482759",
         "-1.48133",
         "-1.9397889",
         "-1.1170897",
         "-1.7500241",
         "5.3110943",
         "0.17913365",
         "-0.80181444",
         "2.4967253",
         "-0.029701468",
         "-1.6975385",
         "2.5726893",
         "-6.554188",
         "-2.5873828",
         "1.7996225",
         "-2.0561104",
         "-6.74702",
         "0.45039028",
         "-0.36478207",
         "-1.7395695",
         "-5.6724453",
         "1.8384697",
         "2.833205",
         "-4.229486",
         "2.0207753",
         "-3.9520721",
         "-0.8424864",
         "2.4454398",
         "2.4718904",
         "4.3320923",
         "-0.033443928",
         "-2.6267617",
         "-5.5673733",
         "2.6710377",
         "-0.9447056",
         "-2.5842938",
         "-1.3988804",
         "2.0087872",
         "-0.06798868",
         "2.2390327",
         "-0.19351089",
         "-1.1964072",
         "-0.77086914",
         "-1.4743868",
         "0.6705233",
         "1.0159818",
         "-4.314581",
         "-1.37792",
         "-7.4169044",
         "-2.4168339",
         "0.1095749",
         "0.38637385",
         "-0.6409211",
         "-0.9677427",
         "-2.2527544",
         "0.09705427",
         "0.0139968395",
         "4.87559",
         "5.1919293",
         "0.8566148",
         "-3.4503515",
         "-1.7225482",
         "-2.1920393",
         "-2.368611",
         "-5.1221423",
         "-1.6006199",
         "8.663620859201048",
         "8.064699618448042",
         "0",
         "0",
         "6",
         "6",
         "23",
         "12",
         "0",
         "0",
         "3",
         "11",
         "0",
         "9",
         "1",
         "2",
         "0",
         "0",
         "0",
         "0",
         "0",
         "0",
         "0",
         "170.0",
         "156.0",
         "206.0",
         "172.0",
         "122.0",
         "78.0",
         "50.0",
         "10.0",
         "3.0",
         "65.0",
         "76.0",
         "110.0",
         "112.0",
         "89.0",
         "66.0",
         "49.0",
         "41.0",
         "22.0",
         "512.0",
         "542.0",
         "727.0",
         "718.0",
         "584.0",
         "410.0",
         "320.0",
         "180.0",
         "92.0",
         "2017.6858439999992",
         "2036.0449160000005",
         "2686.253835000001",
         "2585.605954",
         "2018.817274",
         "1381.7858349999997",
         "1078.7660130000002",
         "508.2416859999999",
         "263.1080129999999",
         "4829.669031634596",
         "5823.895998490074",
         "7618.747390163261",
         "7624.715643941914",
         "6102.29134420589",
         "4643.237653320571",
         "3689.5874107834175",
         "2530.7854133977407",
         "1255.1282793714777",
         "144.67130000000003",
         "149.954",
         "235.66210000000004",
         "269.4415",
         "249.596",
         "195.03200000000004",
         "149.54270000000005",
         "149.02650000000003",
         "78.21800000000002",
         "32.487249953339",
         "39.65506338999999",
         "53.43108914624501",
         "54.33786075679199",
         "43.735694595094",
         "34.331320741094004",
         "29.726260579396",
         "22.346544092489992",
         "11.539343579093998",
         "3757.3860114917393",
         "3411.4283504237005",
         "5705.742157524545",
         "6861.730857666443",
         "6350.284441493494",
         "5067.6662812804425",
         "3965.8666407833966",
         "4411.59178647609",
         "2434.059237752594",
         "7.391304347826087",
         "2.8260869565217392",
         "22.26086956521739",
         "87.72547147826083",
         "209.98561007106937",
         "6.290056521739132",
         "1.4124891284060432",
         "163.364609195293",
         "93.30434782608695",
         "30.0",
         "24.4234404536862",
         "-15.134215500945174",
         "-52.90737240075614",
         "-43.23629489603024",
         "-5.417769376181475",
         "-16.5179584120983",
         "2.206049149338373",
         "11.739130434782613",
         "4.478260869565217",
         "-0.6238185255198503",
         "-2.990548204158792",
         "-3.296786389413989",
         "-3.735349716446125",
         "-2.672967863894139",
         "-0.7485822306238172",
         "-0.3629489603024571",
         "175.3043478260869",
         "-1.304347826086964",
         "25.1625708884688",
         "4.517958412098303",
         "-61.77693761814746",
         "-58.27977315689981",
         "-25.678638941398862",
         "-17.12665406427221",
         "6.162570888468816",
         "831.233806434783",
         "-5.390637739130796",
         "115.74171838752336",
         "22.35916266540628",
         "-290.28552873724016",
         "-268.91255610775045",
         "-134.24227799432884",
         "-78.39976092627566",
         "28.338953778828184",
         "1133.6313923960015",
         "24.35933105958304",
         "42.07738739604982",
         "-15.59998206719048",
         "-314.11912518464345",
         "-110.7901036258803",
         "-496.9719808692336",
         "-29.136762809742724",
         "3.5625320156543623",
         "3.063260869565217",
         "-0.2145391304347866",
         "0.8023281663516034",
         "-0.3604311909262786",
         "-1.3609640831758076",
         "-1.4365994328922511",
         "1.092733837429115",
         "-0.4375644612476317",
         "0.1022238185255234",
         "5.163733742437738",
         "-0.0210955076521697",
         "0.0788897239490752",
         "-0.60594440132925",
         "-1.3683009878501666",
         "0.2449299212578723",
         "-2.207390568760716",
         "0.165731916312031",
         "-0.1555909730287559",
         "32.567944880107284",
         "2.257515881993456",
         "-2.913398808404159",
         "-5.681315303635399",
         "-7.383747734718117",
         "-0.7229733729271894",
         "-7.745119114405885",
         "-2.563085701783982",
         "-1.3206827227884776",
         "4.056710775047259",
         "0.510396975425331",
         "7.621928166351605",
         "36.14060027977317",
         "49.2883214085218",
         "0.1331852551984877",
         "0.2245101627146842",
         "1.4159976034829254",
         "2.236981996737214",
         "266.36195376207496",
         "23",
         "12",
         "16",
         "1",
         "0",
         "6",
         "7",
         "19",
         "4",
         "0",
         "0",
         "1",
         "5",
         "1",
         "2",
         "0",
         "0",
         "0",
         "0.2222222222222222",
         "0.0",
         "0.0",
         "0.0",
         "0.0833333333333333",
         "0.1314458557658021",
         "0.0",
         "0.0",
         "0.0",
         "0.0277777777777777",
         "0.0299263963663784",
         "0.6910440616569954",
         "0.0",
         "0.1178511301977579",
         "0.0",
         "0.2212250448649376",
         "0.0",
         "0.0138888888888888",
         "0.0",
         "1.4284683477238034",
         "1.723229372367424",
         "2.162151810905449",
         "0.3529528427019343",
         "0.3574058032680602",
         "0.3824692204501334",
         "5.736382105218448",
         "4.785910928075161",
         "3.609268306764676",
         "2.545942733834897",
         "1.7951368938933572",
         "1.08662408463393",
         "0.4247578980827672",
         "3.7640725458859534",
         "2.3424786483856304",
         "1.4218177789634634",
         "0.8336300246081271",
         "0.5179345045969391",
         "0.2105889965132988",
         "0.0745144995753379",
         "14.666666666666664",
         "13.753392723336946",
         "14.167614695705277",
         "22.380392156862747",
         "15.011211377245507",
         "25.993603456391035",
         "0.6376811594202897",
         "0.5979735966668237",
         "0.6159832476393597",
         "0.9730605285592498",
         "0.6526613642280655",
         "1.1301566720170015",
         "0",
         "0",
         "0",
         "0",
         "0",
         "0",
         "1",
         "0",
         "1",
         "0",
         "0",
         "4",
         "0",
         "0",
         "0",
         "1",
         "2",
         "0",
         "0",
         "0",
         "1",
         "0",
         "0",
         "0",
         "0",
         "0",
         "0",
         "0",
         "0",
         "0",
         "0",
         "0",
         "0",
         "0",
         "1",
         "1",
         "0",
         "0",
         "0",
         "0",
         "0",
         "0",
         "0",
         "0",
         "0",
         "0",
         "0",
         "0",
         "0",
         "0",
         "0",
         "0",
         "0",
         "0",
         "0",
         "0",
         "0",
         "0",
         "0",
         "0",
         "0",
         "0",
         "0",
         "0",
         "0",
         "0",
         "0",
         "0",
         "0",
         "0",
         "0",
         "0",
         "0",
         "0",
         "0",
         "0",
         "0",
         "0",
         "0",
         "0",
         "0",
         "0",
         "0",
         "0.0",
         "0.0",
         "1.773016975308642",
         "0.0",
         "0.3920731764928196",
         "0.0",
         "0.0",
         "6.638055555555557",
         "0.0",
         "0.0",
         "0.0",
         "-0.30787037037037",
         "1.1750911753590332",
         "0.0",
         "0.0",
         "0.0",
         "5.4486593757873525",
         "0.0",
         "0.0",
         "0.0",
         "0.0",
         "0.0",
         "0.0",
         "0.0",
         "0.0",
         "0.0",
         "0.0",
         "0.0",
         "0.0",
         "0.0",
         "11.092937452758882",
         "4.788036659108088",
         "0.0",
         "0.0",
         "0",
         "0",
         "0.0",
         "0.0",
         "0",
         "0",
         "0.0",
         "0.0",
         "0",
         "0.0",
         "0.0",
         "0.0",
         "0.0",
         "0.0",
         "0.0",
         "0.0",
         "0",
         "0",
         "0",
         "0",
         "0",
         "0",
         "0.0",
         "0.0",
         "0",
         "0",
         "0",
         "0.0",
         "0",
         "0.0",
         "0.0",
         "0.0",
         "0",
         "0",
         "0",
         "0",
         "0.0",
         "0",
         "0",
         "0",
         "0",
         "140",
         "12.03",
         "0.2608695652173913",
         "3",
         "1",
         "1.5416892248400094",
         "3.236186283255413",
         "3.795088586397732",
         "4.1429146733542535",
         "4.1429146733542535",
         "4.1429146733542535",
         "35.45885217132022",
         "74.4322845148745",
         "87.28703748714784",
         "95.28703748714784",
         "95.28703748714784",
         "95.28703748714784",
         "2.9818727312170035",
         "1.2873756728016",
         "0.7284733696592811",
         "0.3806472827027596",
         "0.3806472827027596",
         "0.3806472827027596",
         "14.531928092461182",
         "27.364596915075552",
         "31.75510087142562",
         "32.105709567077795",
         "32.105709567077795",
         "32.105709567077795",
         "40.4802716111632",
         "25.71838335229898",
         "19.27509359390352",
         "18.30627866030856",
         "18.30627866030856",
         "18.30627866030856",
         "-1.9054168773097653",
         "131.32999999999998",
         "71.14118748925014",
         "10.470530430962237",
         "0.0",
         "4.794537184071822",
         "0.0",
         "0.0",
         "0.0",
         "31.18920547353706",
         "5.687386274683562",
         "12.170333456209914",
         "0.0",
         "0.0",
         "0.0",
         "0.0",
         "9.53140013787187",
         "0.0",
         "0.0",
         "0.0",
         "6.923737199690624",
         "12.340549441675105",
         "29.82891976554344",
         "0.0",
         "0.0",
         "5.733667477162185",
         "12.576187252464766",
         "4.736862953800049",
         "0.0",
         "17.28172587545944",
         "24.26546827384644",
         "0.0",
         "0.0",
         "0.0",
         "5.687386274683562",
         "0.0",
         "0.0",
         "5.969305287951849",
         "17.857719730893475",
         "0.0",
         "0.0",
         "31.18920547353706",
         "0.0",
         "0.0",
         "10.470530430962237",
         "4.794537184071822",
         "4.788036659108088",
         "11.092937452758882",
         "0.0",
         "6.623750551146386",
         "-0.30787037037037",
         "6.638055555555557",
         "0.0",
         "2.1650901518014614",
         "0.0",
         "15",
         "17",
         "18",
         "20",
         "16",
         "10",
         "6",
         "2",
         "0",
         "128",
         "2.833213344056216",
         "3.3141860046725258",
         "3.766997233377889",
         "4.1647253589839",
         "4.618209799495895",
         "4.535284058523925",
         "4.251170232498662",
         "3.498399709618518",
         "2.7842393394597567",
         "0.0",
         "6.152998616790501",
         "25.068722999999984",
         "13.069276999999996",
         "1",
         "0",
         "0",
         "0",
         "1",
         "0",
         "0",
         "0",
         "0",
         "0",
         "0",
         "0",
         "0",
         "0",
         "0",
         "0",
         "0",
         "0",
         "0",
         "0",
         "0",
         "0",
         "0",
         "0",
         "1",
         "0",
         "0",
         "0",
         "1",
         "0",
         "0",
         "0",
         "0",
         "0",
         "0",
         "0",
         "0",
         "0",
         "0",
         "0",
         "0",
         "0",
         "0",
         "0",
         "0",
         "0",
         "0",
         "0",
         "0",
         "0",
         "0",
         "0",
         "0",
         "0",
         "0",
         "0",
         "0",
         "0",
         "0",
         "0",
         "0",
         "0",
         "0",
         "0",
         "0",
         "0",
         "0",
         "0",
         "0",
         "0",
         "0",
         "0",
         "0",
         "0",
         "0",
         "0",
         "0",
         "0",
         "0",
         "0",
         "0",
         "0",
         "0",
         "0",
         "0",
         "0",
         "0",
         "0",
         "0",
         "0",
         "0",
         "0",
         "0",
         "0",
         "0",
         "0",
         "0",
         "0",
         "0",
         "0",
         "0",
         "0",
         "0",
         "0",
         "0",
         "0",
         "0",
         "0",
         "0",
         "0",
         "0",
         "0",
         "0",
         "0",
         "0",
         "0",
         "0",
         "0",
         "0",
         "0",
         "0",
         "0",
         "0",
         "0",
         "0",
         "0",
         "0",
         "0",
         "0",
         "0",
         "0",
         "0",
         "0",
         "0",
         "0",
         "0",
         "0",
         "0",
         "2",
         "1.4455",
         "46.81090000000002",
         "52.32",
         "52.32",
         "2.5",
         "1.5555555555555562",
         "0.625",
         "0.3822222222222222",
         "0.2638888888888889",
         "0.1012244897959183",
         "0.0590277777777777",
         "0.0",
         "0.0",
         "0.0",
         "0.2083333333333333",
         "0.1037037037037037",
         "0.0446428571428571",
         "0.0382222222222222",
         "0.0376984126984127",
         "0.0202448979591836",
         "0.0295138888888888",
         "0.0",
         "0.0",
         "0.0",
         "0.4823593159486017",
         "8",
         "4",
         "12.0",
         "4.007333185232471",
         "4.77912349311153",
         "5.58724865840025",
         "6.385194398997726",
         "7.199678345691172",
         "8.005367067316664",
         "8.821879862683842",
         "9.630037062331072",
         "10.4472352484443",
         "88.86309732220901",
         "3.218875824868201",
         "0.0",
         "4.442651256490317",
         "0.0",
         "5.872117789475416",
         "0.0",
         "7.390798521735676",
         "0.0",
         "8.952217101765946",
         "41.87666049433555",
         "165.078978592",
         "7.177346895304348",
         "211",
         "14",
         "54.0",
         "59.0",
         "2.861111111111111",
         "0",
         "3",
         "2",
         "4",
         "test",
         "trainvalid",
         "trainvalid",
         "4",
         "test",
         "trainvalid",
         "trainvalid"
        ],
        [
         "2",
         "1001266",
         "182",
         "94-09-7",
         "LAB",
         "S",
         "I",
         "FW",
         "X",
         "NR",
         "112644",
         "MOR",
         "LC50",
         "96.0",
         "A",
         null,
         "19.0",
         "0.0001150176754658",
         "7.8",
         "12.0",
         "Actinopterygii Cypriniformes Cyprinidae Cyprinus carpio",
         "Common Carp",
         "Actinopterygii",
         "Cypriniformes",
         "Cyprinidae",
         "Cyprinus",
         "carpio",
         "Cyprinus_carpio",
         "21:1520:3020",
         "fish",
         "True",
         "C_D",
         "TH",
         "C_H_D",
         "potamodromous",
         "migration",
         "0.01498",
         "0.3392",
         "364.5",
         "13870.0",
         "0.7",
         "25.1",
         "130.0",
         null,
         "0",
         "1.2787536009528289",
         "-3.9392354138427",
         "DTXSID8021804",
         "Benzocaine",
         "94-09-7\nBenzocaine",
         "C9H11NO2",
         "165.19200134277344",
         "73.5642",
         "0.0286551",
         "True",
         "DTXCID301804",
         "InChI=1S/C9H11NO2/c1-2-12-9(11)7-3-5-8(10)6-4-7/h3-6H,2,10H2,1H3",
         "BLFLLBZGZJTVJG-UHFFFAOYSA-N",
         "2337.0",
         "BLFLLBZGZJTVJG-UHFFFAOYSA-N",
         "InChI=1S/C9H11NO2/c1-2-12-9(11)7-3-5-8(10)6-4-7/h3-6H,2,10H2,1H3",
         "ethyl 4-aminobenzoate",
         "CCOC(=O)C1=CC=C(C=C1)N",
         "11000000011100100011000000000000000000000000000000000000000000000000000000000000000000000000000000000000000000000000000000000000000000000000000000000000000000000000000000000000001100000000000000000000000000000000000000000000000000000000000000000000000000010000000000000000000000000001111000000000000100000000000000000000000000000000110000001000101000011001100000000010001100101100100010000000010000000000010000000000100010000000001000100100110100100100100000000000100000100000000000000000001001000000001000000000000010001000100000000001000000000110110011001000000010000010011000110010100000001011010110011001100000100011000100000000011001001101000000000001000010001110100110000111100110001101100100100001100111100000100000000000000000000000000000000000000000000000000000000000000100000000000000000000000000000000000000000000000000000000000000000000000000000000000000000000000000000",
         "12.0",
         "1.4455",
         "23",
         "4",
         "0",
         "1.0",
         "0.0",
         "True",
         "CCOC(=O)c1ccc(N)cc1",
         "7.14",
         "00000000000000000000000000000000000000000000000000000000000000000000000000000000000010000000000000000000000001000010000000010010000001010000000000000001011111111111110",
         "00000000000000000000000000000000000000000000000000000000000000000000000000000000100000000000000000000000000000000000000000000000000000000000000001010000000000000000000000000000000000000000000000000000000000000000000000000000000000000000000000000000000000000000000000000000000000000000000000000010000000000000000000000000000000000000000000000000000000000000000000000000000000000000000000000000000000000000000000000000000000000000000000000000000000000000000000000000000000000000000000000000000000000000000000000000000000000000000000000000000000000000000000000000000000000000000000000000000000000000000000000010000000000000000000000000000000000000000000100000000000000000000000000000000000000000000100000000000000000000000000000000000000000000000000000000000000010000000000000000000000000000000000000000000000010000000000000000000000000000000000000000000000000000000000000000000000000000000010000000000000000000000000000000000000000000000000000000000000000000000000000000000000000000000000000000000000000000000000000000000000000000000000000000000000000000000001000000000000000000000000000000000000000000000000000000000000000000000000000000000000000000000000000000000000001001000000000000000000000000000000000000000000000000000000000000000000100000000000000000000000000000000000000000000000000000000000000000000000000000000000000000000000000000000000000000000000000000000000000000000010000100000000000000000000000000000000000000000000000000000000000000000000000100000000000000000000000000000000000000000000000000000000000000001000000000000000000000000000000000000000000000000000000000000000000000000000000000000000000000000000000000000000000000000000000000000000000000000000000000000000000000000000000100000000000000000000000010000000000000000000000000001000000000000000000000000000000000000000000000000000001000000000000000000000000000000000000000000000000000000000000000000001000000000000000000000000000000000000000000010000000000000000000000000000000000000000000000000000000000000000000000000000000000000000000000000000000000000000000000000000000000",
         "000000000000000000000000000000000000000000000000010000000000000000000010000000000000000000000000010011000000000000000000000000000000000000000000000000000000000000000000000000000000000000000000000000000000000000000000000000000000000000000000000000000000000000000000000000000000000000000000000000000000000000000000000000000000000000000000000000000000000000000000000000000000000000000000000000000000000000000000000000000000000000000000000010000000000000000000000000000000000000001000000000000000000000000000000000000000000000000000000000000000000000000000000000000000000000000000000000000100000000000000000000000000000000000000000000000000000000000000000000000000000000000000000000000000000000000000000000000000000000000000000000000",
         "0.5862471",
         "-0.3034242",
         "-2.985025",
         "2.2095256",
         "0.9546272",
         "-0.5085076",
         "-5.7340374",
         "-1.6503153",
         "3.7974262",
         "1.5688366",
         "-2.7179928",
         "0.5806993",
         "-4.2258387",
         "1.0536712",
         "-3.5430694",
         "-0.36880863",
         "3.01147",
         "-2.152699",
         "-1.4960028",
         "4.1191115",
         "0.19526237",
         "2.1329677",
         "8.078183",
         "3.1749115",
         "-4.253626",
         "0.2166718",
         "-1.060026",
         "-4.641761",
         "1.0703692",
         "0.56582123",
         "5.0497603",
         "-4.028867",
         "-1.7922636",
         "-2.9824162",
         "0.6379189",
         "0.99121404",
         "0.5273883",
         "0.10600339",
         "4.3134995",
         "2.325465",
         "-1.1090034",
         "0.70011795",
         "-2.196274",
         "0.19040903",
         "-4.5964613",
         "1.461037",
         "0.40496022",
         "4.9563227",
         "-1.9282348",
         "3.2422385",
         "0.8890721",
         "-2.3093936",
         "-0.764739",
         "-4.1133137",
         "-3.8407087",
         "-3.2009077",
         "-1.6167306",
         "-0.3847555",
         "1.204681",
         "2.2767947",
         "-0.74444216",
         "-2.8712976",
         "-1.428544",
         "1.0876544",
         "-7.8540125",
         "-0.58123076",
         "4.6729403",
         "0.29306412",
         "-0.03057",
         "0.49600017",
         "-1.180784",
         "1.8172958",
         "3.9951932",
         "-3.6492326",
         "-0.74432606",
         "3.2129695",
         "-4.6112423",
         "2.4688456",
         "-1.3641112",
         "1.3867592",
         "3.8098798",
         "-1.2094468",
         "-2.5657935",
         "-3.2005734",
         "0.38398665",
         "0.43405646",
         "-4.022957",
         "2.1590867",
         "1.1840261",
         "-0.0024849921",
         "2.879351",
         "0.73072916",
         "1.5812021",
         "3.9281569",
         "0.19989601",
         "0.055692647",
         "3.537124",
         "0.2989292",
         "2.6073494",
         "1.2346401",
         "-1.3459246",
         "-2.0177267",
         "-2.5700283",
         "-4.88212",
         "1.5777317",
         "-4.1812367",
         "-0.9074377",
         "1.4988592",
         "1.555656",
         "-3.3590775",
         "-4.7121706",
         "1.6810422",
         "3.0341568",
         "-1.449351",
         "2.153957",
         "-3.5587692",
         "4.2746778",
         "3.0615983",
         "0.015302181",
         "2.4169383",
         "-4.524012",
         "0.22961937",
         "-1.4345752",
         "2.5255613",
         "1.4436276",
         "-3.628138",
         "-3.644391",
         "-0.08731495",
         "-2.9586303",
         "0.1793908",
         "0.24939486",
         "-0.28980628",
         "4.2752414",
         "6.1008124",
         "-0.036266044",
         "4.919683",
         "4.7530427",
         "-1.4798046",
         "4.591622",
         "-0.3854184",
         "4.037599",
         "-0.28003362",
         "0.066493675",
         "-0.5100352",
         "4.560949",
         "2.1690214",
         "0.24318838",
         "2.4577043",
         "0.42706096",
         "3.2494538",
         "-0.002347052",
         "1.3563142",
         "4.4108424",
         "-2.1152549",
         "-0.904721",
         "1.8425629",
         "-4.6772723",
         "-1.7839146",
         "0.8140369",
         "-3.2598662",
         "-1.9897008",
         "0.13414672",
         "-1.9063128",
         "0.30436555",
         "0.5449356",
         "-3.866867",
         "0.34774634",
         "-0.4314943",
         "1.3846575",
         "3.161101",
         "-3.101789",
         "-1.7356565",
         "4.5789733",
         "-2.4270227",
         "-0.2625655",
         "1.1668953",
         "2.0921204",
         "-1.5245638",
         "-1.6360674",
         "4.364105",
         "-2.250335",
         "3.473413",
         "-0.8997385",
         "4.772759",
         "4.0733113",
         "-2.015838",
         "-0.56128573",
         "-0.55642724",
         "-1.9923161",
         "-0.73637146",
         "-0.3316872",
         "-0.76221776",
         "-1.6389058",
         "-0.672331",
         "0.23702936",
         "0.14378414",
         "-2.5545816",
         "-4.074749",
         "-0.23894402",
         "-0.032525957",
         "2.4310052",
         "1.9126322",
         "1.299779",
         "1.2496126",
         "1.7738259",
         "-0.6973421",
         "4.2492003",
         "3.8519456",
         "4.1569095",
         "-1.3363739",
         "7.2730994",
         "-2.7989917",
         "4.175112",
         "-1.3203181",
         "1.3598475",
         "1.63077",
         "-0.083398536",
         "1.6938026",
         "-4.0434713",
         "2.4481628",
         "0.8580862",
         "-3.6521897",
         "-0.9342957",
         "0.6722724",
         "2.0361245",
         "-2.3096635",
         "-0.5513231",
         "1.7426114",
         "3.4169745",
         "-4.7891464",
         "0.19838907",
         "-1.4166924",
         "-2.6840107",
         "-4.873905",
         "0.14482759",
         "-1.48133",
         "-1.9397889",
         "-1.1170897",
         "-1.7500241",
         "5.3110943",
         "0.17913365",
         "-0.80181444",
         "2.4967253",
         "-0.029701468",
         "-1.6975385",
         "2.5726893",
         "-6.554188",
         "-2.5873828",
         "1.7996225",
         "-2.0561104",
         "-6.74702",
         "0.45039028",
         "-0.36478207",
         "-1.7395695",
         "-5.6724453",
         "1.8384697",
         "2.833205",
         "-4.229486",
         "2.0207753",
         "-3.9520721",
         "-0.8424864",
         "2.4454398",
         "2.4718904",
         "4.3320923",
         "-0.033443928",
         "-2.6267617",
         "-5.5673733",
         "2.6710377",
         "-0.9447056",
         "-2.5842938",
         "-1.3988804",
         "2.0087872",
         "-0.06798868",
         "2.2390327",
         "-0.19351089",
         "-1.1964072",
         "-0.77086914",
         "-1.4743868",
         "0.6705233",
         "1.0159818",
         "-4.314581",
         "-1.37792",
         "-7.4169044",
         "-2.4168339",
         "0.1095749",
         "0.38637385",
         "-0.6409211",
         "-0.9677427",
         "-2.2527544",
         "0.09705427",
         "0.0139968395",
         "4.87559",
         "5.1919293",
         "0.8566148",
         "-3.4503515",
         "-1.7225482",
         "-2.1920393",
         "-2.368611",
         "-5.1221423",
         "-1.6006199",
         "8.663620859201048",
         "8.064699618448042",
         "0",
         "0",
         "6",
         "6",
         "23",
         "12",
         "0",
         "0",
         "3",
         "11",
         "0",
         "9",
         "1",
         "2",
         "0",
         "0",
         "0",
         "0",
         "0",
         "0",
         "0",
         "170.0",
         "156.0",
         "206.0",
         "172.0",
         "122.0",
         "78.0",
         "50.0",
         "10.0",
         "3.0",
         "65.0",
         "76.0",
         "110.0",
         "112.0",
         "89.0",
         "66.0",
         "49.0",
         "41.0",
         "22.0",
         "512.0",
         "542.0",
         "727.0",
         "718.0",
         "584.0",
         "410.0",
         "320.0",
         "180.0",
         "92.0",
         "2017.6858439999992",
         "2036.0449160000005",
         "2686.253835000001",
         "2585.605954",
         "2018.817274",
         "1381.7858349999997",
         "1078.7660130000002",
         "508.2416859999999",
         "263.1080129999999",
         "4829.669031634596",
         "5823.895998490074",
         "7618.747390163261",
         "7624.715643941914",
         "6102.29134420589",
         "4643.237653320571",
         "3689.5874107834175",
         "2530.7854133977407",
         "1255.1282793714777",
         "144.67130000000003",
         "149.954",
         "235.66210000000004",
         "269.4415",
         "249.596",
         "195.03200000000004",
         "149.54270000000005",
         "149.02650000000003",
         "78.21800000000002",
         "32.487249953339",
         "39.65506338999999",
         "53.43108914624501",
         "54.33786075679199",
         "43.735694595094",
         "34.331320741094004",
         "29.726260579396",
         "22.346544092489992",
         "11.539343579093998",
         "3757.3860114917393",
         "3411.4283504237005",
         "5705.742157524545",
         "6861.730857666443",
         "6350.284441493494",
         "5067.6662812804425",
         "3965.8666407833966",
         "4411.59178647609",
         "2434.059237752594",
         "7.391304347826087",
         "2.8260869565217392",
         "22.26086956521739",
         "87.72547147826083",
         "209.98561007106937",
         "6.290056521739132",
         "1.4124891284060432",
         "163.364609195293",
         "93.30434782608695",
         "30.0",
         "24.4234404536862",
         "-15.134215500945174",
         "-52.90737240075614",
         "-43.23629489603024",
         "-5.417769376181475",
         "-16.5179584120983",
         "2.206049149338373",
         "11.739130434782613",
         "4.478260869565217",
         "-0.6238185255198503",
         "-2.990548204158792",
         "-3.296786389413989",
         "-3.735349716446125",
         "-2.672967863894139",
         "-0.7485822306238172",
         "-0.3629489603024571",
         "175.3043478260869",
         "-1.304347826086964",
         "25.1625708884688",
         "4.517958412098303",
         "-61.77693761814746",
         "-58.27977315689981",
         "-25.678638941398862",
         "-17.12665406427221",
         "6.162570888468816",
         "831.233806434783",
         "-5.390637739130796",
         "115.74171838752336",
         "22.35916266540628",
         "-290.28552873724016",
         "-268.91255610775045",
         "-134.24227799432884",
         "-78.39976092627566",
         "28.338953778828184",
         "1133.6313923960015",
         "24.35933105958304",
         "42.07738739604982",
         "-15.59998206719048",
         "-314.11912518464345",
         "-110.7901036258803",
         "-496.9719808692336",
         "-29.136762809742724",
         "3.5625320156543623",
         "3.063260869565217",
         "-0.2145391304347866",
         "0.8023281663516034",
         "-0.3604311909262786",
         "-1.3609640831758076",
         "-1.4365994328922511",
         "1.092733837429115",
         "-0.4375644612476317",
         "0.1022238185255234",
         "5.163733742437738",
         "-0.0210955076521697",
         "0.0788897239490752",
         "-0.60594440132925",
         "-1.3683009878501666",
         "0.2449299212578723",
         "-2.207390568760716",
         "0.165731916312031",
         "-0.1555909730287559",
         "32.567944880107284",
         "2.257515881993456",
         "-2.913398808404159",
         "-5.681315303635399",
         "-7.383747734718117",
         "-0.7229733729271894",
         "-7.745119114405885",
         "-2.563085701783982",
         "-1.3206827227884776",
         "4.056710775047259",
         "0.510396975425331",
         "7.621928166351605",
         "36.14060027977317",
         "49.2883214085218",
         "0.1331852551984877",
         "0.2245101627146842",
         "1.4159976034829254",
         "2.236981996737214",
         "266.36195376207496",
         "23",
         "12",
         "16",
         "1",
         "0",
         "6",
         "7",
         "19",
         "4",
         "0",
         "0",
         "1",
         "5",
         "1",
         "2",
         "0",
         "0",
         "0",
         "0.2222222222222222",
         "0.0",
         "0.0",
         "0.0",
         "0.0833333333333333",
         "0.1314458557658021",
         "0.0",
         "0.0",
         "0.0",
         "0.0277777777777777",
         "0.0299263963663784",
         "0.6910440616569954",
         "0.0",
         "0.1178511301977579",
         "0.0",
         "0.2212250448649376",
         "0.0",
         "0.0138888888888888",
         "0.0",
         "1.4284683477238034",
         "1.723229372367424",
         "2.162151810905449",
         "0.3529528427019343",
         "0.3574058032680602",
         "0.3824692204501334",
         "5.736382105218448",
         "4.785910928075161",
         "3.609268306764676",
         "2.545942733834897",
         "1.7951368938933572",
         "1.08662408463393",
         "0.4247578980827672",
         "3.7640725458859534",
         "2.3424786483856304",
         "1.4218177789634634",
         "0.8336300246081271",
         "0.5179345045969391",
         "0.2105889965132988",
         "0.0745144995753379",
         "14.666666666666664",
         "13.753392723336946",
         "14.167614695705277",
         "22.380392156862747",
         "15.011211377245507",
         "25.993603456391035",
         "0.6376811594202897",
         "0.5979735966668237",
         "0.6159832476393597",
         "0.9730605285592498",
         "0.6526613642280655",
         "1.1301566720170015",
         "0",
         "0",
         "0",
         "0",
         "0",
         "0",
         "1",
         "0",
         "1",
         "0",
         "0",
         "4",
         "0",
         "0",
         "0",
         "1",
         "2",
         "0",
         "0",
         "0",
         "1",
         "0",
         "0",
         "0",
         "0",
         "0",
         "0",
         "0",
         "0",
         "0",
         "0",
         "0",
         "0",
         "0",
         "1",
         "1",
         "0",
         "0",
         "0",
         "0",
         "0",
         "0",
         "0",
         "0",
         "0",
         "0",
         "0",
         "0",
         "0",
         "0",
         "0",
         "0",
         "0",
         "0",
         "0",
         "0",
         "0",
         "0",
         "0",
         "0",
         "0",
         "0",
         "0",
         "0",
         "0",
         "0",
         "0",
         "0",
         "0",
         "0",
         "0",
         "0",
         "0",
         "0",
         "0",
         "0",
         "0",
         "0",
         "0",
         "0",
         "0",
         "0",
         "0",
         "0.0",
         "0.0",
         "1.773016975308642",
         "0.0",
         "0.3920731764928196",
         "0.0",
         "0.0",
         "6.638055555555557",
         "0.0",
         "0.0",
         "0.0",
         "-0.30787037037037",
         "1.1750911753590332",
         "0.0",
         "0.0",
         "0.0",
         "5.4486593757873525",
         "0.0",
         "0.0",
         "0.0",
         "0.0",
         "0.0",
         "0.0",
         "0.0",
         "0.0",
         "0.0",
         "0.0",
         "0.0",
         "0.0",
         "0.0",
         "11.092937452758882",
         "4.788036659108088",
         "0.0",
         "0.0",
         "0",
         "0",
         "0.0",
         "0.0",
         "0",
         "0",
         "0.0",
         "0.0",
         "0",
         "0.0",
         "0.0",
         "0.0",
         "0.0",
         "0.0",
         "0.0",
         "0.0",
         "0",
         "0",
         "0",
         "0",
         "0",
         "0",
         "0.0",
         "0.0",
         "0",
         "0",
         "0",
         "0.0",
         "0",
         "0.0",
         "0.0",
         "0.0",
         "0",
         "0",
         "0",
         "0",
         "0.0",
         "0",
         "0",
         "0",
         "0",
         "140",
         "12.03",
         "0.2608695652173913",
         "3",
         "1",
         "1.5416892248400094",
         "3.236186283255413",
         "3.795088586397732",
         "4.1429146733542535",
         "4.1429146733542535",
         "4.1429146733542535",
         "35.45885217132022",
         "74.4322845148745",
         "87.28703748714784",
         "95.28703748714784",
         "95.28703748714784",
         "95.28703748714784",
         "2.9818727312170035",
         "1.2873756728016",
         "0.7284733696592811",
         "0.3806472827027596",
         "0.3806472827027596",
         "0.3806472827027596",
         "14.531928092461182",
         "27.364596915075552",
         "31.75510087142562",
         "32.105709567077795",
         "32.105709567077795",
         "32.105709567077795",
         "40.4802716111632",
         "25.71838335229898",
         "19.27509359390352",
         "18.30627866030856",
         "18.30627866030856",
         "18.30627866030856",
         "-1.9054168773097653",
         "131.32999999999998",
         "71.14118748925014",
         "10.470530430962237",
         "0.0",
         "4.794537184071822",
         "0.0",
         "0.0",
         "0.0",
         "31.18920547353706",
         "5.687386274683562",
         "12.170333456209914",
         "0.0",
         "0.0",
         "0.0",
         "0.0",
         "9.53140013787187",
         "0.0",
         "0.0",
         "0.0",
         "6.923737199690624",
         "12.340549441675105",
         "29.82891976554344",
         "0.0",
         "0.0",
         "5.733667477162185",
         "12.576187252464766",
         "4.736862953800049",
         "0.0",
         "17.28172587545944",
         "24.26546827384644",
         "0.0",
         "0.0",
         "0.0",
         "5.687386274683562",
         "0.0",
         "0.0",
         "5.969305287951849",
         "17.857719730893475",
         "0.0",
         "0.0",
         "31.18920547353706",
         "0.0",
         "0.0",
         "10.470530430962237",
         "4.794537184071822",
         "4.788036659108088",
         "11.092937452758882",
         "0.0",
         "6.623750551146386",
         "-0.30787037037037",
         "6.638055555555557",
         "0.0",
         "2.1650901518014614",
         "0.0",
         "15",
         "17",
         "18",
         "20",
         "16",
         "10",
         "6",
         "2",
         "0",
         "128",
         "2.833213344056216",
         "3.3141860046725258",
         "3.766997233377889",
         "4.1647253589839",
         "4.618209799495895",
         "4.535284058523925",
         "4.251170232498662",
         "3.498399709618518",
         "2.7842393394597567",
         "0.0",
         "6.152998616790501",
         "25.068722999999984",
         "13.069276999999996",
         "1",
         "0",
         "0",
         "0",
         "1",
         "0",
         "0",
         "0",
         "0",
         "0",
         "0",
         "0",
         "0",
         "0",
         "0",
         "0",
         "0",
         "0",
         "0",
         "0",
         "0",
         "0",
         "0",
         "0",
         "1",
         "0",
         "0",
         "0",
         "1",
         "0",
         "0",
         "0",
         "0",
         "0",
         "0",
         "0",
         "0",
         "0",
         "0",
         "0",
         "0",
         "0",
         "0",
         "0",
         "0",
         "0",
         "0",
         "0",
         "0",
         "0",
         "0",
         "0",
         "0",
         "0",
         "0",
         "0",
         "0",
         "0",
         "0",
         "0",
         "0",
         "0",
         "0",
         "0",
         "0",
         "0",
         "0",
         "0",
         "0",
         "0",
         "0",
         "0",
         "0",
         "0",
         "0",
         "0",
         "0",
         "0",
         "0",
         "0",
         "0",
         "0",
         "0",
         "0",
         "0",
         "0",
         "0",
         "0",
         "0",
         "0",
         "0",
         "0",
         "0",
         "0",
         "0",
         "0",
         "0",
         "0",
         "0",
         "0",
         "0",
         "0",
         "0",
         "0",
         "0",
         "0",
         "0",
         "0",
         "0",
         "0",
         "0",
         "0",
         "0",
         "0",
         "0",
         "0",
         "0",
         "0",
         "0",
         "0",
         "0",
         "0",
         "0",
         "0",
         "0",
         "0",
         "0",
         "0",
         "0",
         "0",
         "0",
         "0",
         "0",
         "0",
         "0",
         "0",
         "0",
         "0",
         "2",
         "1.4455",
         "46.81090000000002",
         "52.32",
         "52.32",
         "2.5",
         "1.5555555555555562",
         "0.625",
         "0.3822222222222222",
         "0.2638888888888889",
         "0.1012244897959183",
         "0.0590277777777777",
         "0.0",
         "0.0",
         "0.0",
         "0.2083333333333333",
         "0.1037037037037037",
         "0.0446428571428571",
         "0.0382222222222222",
         "0.0376984126984127",
         "0.0202448979591836",
         "0.0295138888888888",
         "0.0",
         "0.0",
         "0.0",
         "0.4823593159486017",
         "8",
         "4",
         "12.0",
         "4.007333185232471",
         "4.77912349311153",
         "5.58724865840025",
         "6.385194398997726",
         "7.199678345691172",
         "8.005367067316664",
         "8.821879862683842",
         "9.630037062331072",
         "10.4472352484443",
         "88.86309732220901",
         "3.218875824868201",
         "0.0",
         "4.442651256490317",
         "0.0",
         "5.872117789475416",
         "0.0",
         "7.390798521735676",
         "0.0",
         "8.952217101765946",
         "41.87666049433555",
         "165.078978592",
         "7.177346895304348",
         "211",
         "14",
         "54.0",
         "59.0",
         "2.861111111111111",
         "4",
         "3",
         "2",
         "4",
         "test",
         "trainvalid",
         "trainvalid",
         "4",
         "test",
         "trainvalid",
         "trainvalid"
        ],
        [
         "3",
         "1001636",
         "219",
         "151-21-3",
         "LAB",
         "NR",
         "I",
         "FW",
         "NR",
         "NR",
         "131358",
         "MOR",
         "LC50",
         "24.0",
         "F",
         null,
         "60.0",
         "0.0002080588112906",
         null,
         "23.0",
         "Actinopterygii Cypriniformes Cyprinidae Cyprinus carpio",
         "Common Carp",
         "Actinopterygii",
         "Cypriniformes",
         "Cyprinidae",
         "Cyprinus",
         "carpio",
         "Cyprinus_carpio",
         "21:1520:3020",
         "fish",
         "True",
         "C_D",
         "TH",
         "C_H_D",
         "potamodromous",
         "migration",
         "0.01498",
         "0.3392",
         "364.5",
         "13870.0",
         "0.7",
         "25.1",
         "130.0",
         null,
         "0",
         "1.7781512503836436",
         "-3.681813887110256",
         "DTXSID1026031",
         "Sodium dodecyl sulfate",
         "151-21-3\nSodium dodecyl sulfate",
         "C12H25NaO4S",
         "288.38",
         "178.597",
         "0.146841",
         "True",
         "DTXCID906031",
         "InChI=1S/C12H26O4S.Na/c1-2-3-4-5-6-7-8-9-10-11-12-16-17(13,14)15;/h2-12H2,1H3,(H,13,14,15);/q;+1/p-1",
         "DBMJMQXJHONAFJ-UHFFFAOYSA-M",
         "3423265.0",
         "DBMJMQXJHONAFJ-UHFFFAOYSA-M",
         "InChI=1S/C12H26O4S.Na/c1-2-3-4-5-6-7-8-9-10-11-12-16-17(13,14)15;/h2-12H2,1H3,(H,13,14,15);/q;+1/p-1",
         "sodium;dodecyl sulfate",
         "CCCCCCCCCCCCOS(=O)(=O)[O-].[Na+]",
         "11100000011100000011100000100000010000000000000000000000000000000000000000000000000000000000000000000000000000000000000000000000000000000000000000000000000000000000000000000000000000000000000000000000000000000000000000000000000000000000000000000000000000000000000000000000000000000001101000000000000000000000000000000000000000000000100000000000101000001000000000000010000000100000000000000000000000000000000000000000000000000000000000000000000000000000000000110000000000000000000000000000000000000000000000000000000000000000000000000000000000000000000000000000000000000000000000000010000000000000000000000000000000000000000000000000000001000000000000000000000000000000000000000001100000001100000010100000000000000000000000000000000000000000000000000000000000000000000000000000000000000000000000000000000000000000000000000000000000000000000000000000000000000000000000000000000000000",
         "18.0",
         "0.3881000000000005",
         "42",
         "2",
         "0",
         "0.0",
         "0.0",
         "True",
         "CCCCCCCCCCCCOS(=O)(=O)[O-].[Na+]",
         null,
         "00000000000000000000000000000000000100011000100011000001001011000001000001000000000000001000000000000010001011001011101000001010111010001000100000111000010101011000101",
         "00000000000001000000000000000000000000000000000000000000000000000000000000000000100000000001000000000000000000000000000000000000000000000000000000000000000000000000000000000000000000000000000000000000000000000000000000000000000000000000000000000000000000000000000000000000000000000000000000000010000000000000000000000000000000000000000000000000000000100000000000000000000000000000000000000000000000000000000000000000000000000000000000000000000000000000000000000000000000000000000000000000000000000000000000000000000000000000000000000000000000000000000000000000000000000000000000000000000000010000000000000000000000000000000000000000000000000000000000100000000000000000000000000000000000000000000100010000000000000001000000000000000000000000000000000000000000000000000000000000000000000000000000100000000000000000000000000000000000000000000000000000000000000000000000000000000000000000000000000000000000000000000000000000000000000000000000000000000000000000000000000000000000000000000000000000000000000000000000000000000100000000000000000000000000000000000001000000000000000000000000000000000000000000000000000000000000000000000000000000000000010000000000000000000000000000000000000000000000000000000000000000000001000000000000000000000000000000000001000000000000000000000000000000000000000000000000000000000001000000000000000000000000000000000000000000000000000000000000000000000000000000000000000000000000000000000000000000000000000000000000001000000000000000000000000000000010000000000000000000000000000000000000000000000000000000000000000000000000100000000000000000000000000000000000000000000000000000000000000000000000000000000000000000000000000000000000000000000000000000000000000000000000000000000000000000100000000000000000000000000000000000000000000000000000000000000000000000000000000000000000000000000000000000000000000000000000000000000000000000000000000000000000000000000000000000000000000000000000010000000000000000000000000000000000000000000000000000000000000000000000000000000000000000000000000000000000000000000000000000000000000000",
         "010000000000000000000000000000000000000000000000000000000000000000000000000000000000000000000000000000000000000000000000000000000000000000000000000000000000000000000000000000000000000000000000000000000000000000000000000000000000000000000000000000000000000000000010000000000000000101000010000010000000000000000000000000000000000000000000000000000000000000000000000000000000000000000000000000000000000000000000000000000000000000000000000011111111000000000000000000000000000000000000000000000000000000000000000000000000000000000000000000000000000000000000000000000000000000000000000000000000000000000000000000000000000000000000000000000000000000000000000000000000000000000000000000000000000000000000000000000000000000000000000000000",
         "-1.5011643",
         "-3.0052137",
         "-2.6635733",
         "-0.93819827",
         "6.185954",
         "3.0448709",
         "-10.274638",
         "-0.90172523",
         "5.279641",
         "-3.2752419",
         "-0.8575833",
         "3.3136528",
         "-1.9877722",
         "5.609087",
         "-6.8973722",
         "0.21339308",
         "3.7236123",
         "-8.151061",
         "-4.2888775",
         "4.7256546",
         "-2.1750813",
         "1.6649629",
         "14.323961",
         "9.204189",
         "-7.535429",
         "-3.8686936",
         "-6.8039403",
         "-7.0535674",
         "2.1238375",
         "-0.9743698",
         "-0.06592384",
         "-3.5587032",
         "-5.300609",
         "-4.7255697",
         "0.7800305",
         "-4.009297",
         "-4.0385313",
         "4.3195944",
         "6.491806",
         "3.8615575",
         "1.5101392",
         "-0.22634983",
         "0.933788",
         "-3.218923",
         "-6.788931",
         "0.4072402",
         "5.6372213",
         "9.807096",
         "-2.216979",
         "1.4432346",
         "-3.993145",
         "-8.3116255",
         "-1.4979832",
         "-3.9813728",
         "-5.2491655",
         "-7.3857975",
         "0.5555404",
         "5.945581",
         "-2.1528141",
         "0.48230758",
         "-0.84654725",
         "-3.0395906",
         "1.1599764",
         "0.2660855",
         "-5.8687673",
         "-0.31258377",
         "0.6586908",
         "0.15593776",
         "-6.6258216",
         "-4.373589",
         "-1.0437809",
         "1.0993998",
         "2.5498257",
         "-8.207058",
         "-3.6142242",
         "3.3467793",
         "-6.248929",
         "3.439404",
         "3.693754",
         "2.7843075",
         "10.108133",
         "-3.523013",
         "-2.9558086",
         "-13.10967",
         "-2.14855",
         "3.3446736",
         "-2.7808013",
         "6.896425",
         "0.8100072",
         "-1.6904833",
         "4.307263",
         "3.575594",
         "3.3920953",
         "6.709467",
         "1.4374423",
         "-5.6907673",
         "4.5657682",
         "-1.6166158",
         "5.3450418",
         "-0.30182076",
         "1.0159502",
         "-1.8266892",
         "-6.0669527",
         "-2.2672997",
         "1.5851249",
         "-6.4373603",
         "-5.931461",
         "-1.2128873",
         "-2.7377224",
         "-7.328999",
         "-3.9283907",
         "5.8534923",
         "0.53321224",
         "-4.5290647",
         "4.5329356",
         "-4.0796347",
         "2.1517012",
         "5.4120817",
         "5.2841954",
         "1.5233905",
         "-6.564488",
         "3.3113253",
         "-2.3706734",
         "0.85171336",
         "5.5813127",
         "-6.039268",
         "-9.308298",
         "-1.5739952",
         "-2.8410072",
         "-0.31876016",
         "-3.4730303",
         "5.0897965",
         "6.269789",
         "10.321659",
         "4.5532656",
         "8.687895",
         "-0.088260904",
         "-0.98087454",
         "4.789779",
         "-2.1352868",
         "6.028055",
         "-2.3071282",
         "1.8972213",
         "3.7980156",
         "5.1336184",
         "2.8921232",
         "4.341581",
         "-1.143296",
         "1.7123787",
         "7.2157035",
         "1.0917935",
         "5.7914863",
         "0.7766038",
         "-4.9284678",
         "-2.2016819",
         "7.7929406",
         "-4.038597",
         "-4.774433",
         "0.645345",
         "-6.9301205",
         "-0.32482442",
         "5.1670704",
         "-4.4758396",
         "0.159376",
         "2.1154652",
         "0.23802865",
         "3.6871972",
         "-5.040703",
         "2.783918",
         "9.871679",
         "-4.571022",
         "-1.4064367",
         "6.9726453",
         "-7.361277",
         "-2.6971412",
         "3.727318",
         "2.2748413",
         "-0.1881777",
         "-5.6562624",
         "5.94444",
         "-3.5266483",
         "8.49726",
         "1.1484311",
         "8.235003",
         "2.7531266",
         "-7.53847",
         "-1.6180453",
         "3.0656428",
         "-7.327755",
         "1.937257",
         "4.0642343",
         "-2.2970216",
         "-3.4877257",
         "-4.5013733",
         "0.539509",
         "7.657877",
         "-3.7536104",
         "-5.589009",
         "1.5649852",
         "-1.5294468",
         "4.587951",
         "0.22557579",
         "4.491125",
         "-0.71132547",
         "-8.003355",
         "2.716332",
         "8.574725",
         "5.0520425",
         "2.088439",
         "-7.58614",
         "11.151704",
         "-8.0601225",
         "9.437772",
         "-0.73663664",
         "5.6566186",
         "-0.9543443",
         "7.35725",
         "-1.1294082",
         "-4.181153",
         "4.2872076",
         "-3.1361773",
         "-5.387871",
         "-8.852434",
         "0.8438815",
         "4.8476725",
         "-4.218024",
         "1.4912174",
         "1.2099721",
         "7.7907004",
         "-4.838149",
         "-1.2127749",
         "2.1586444",
         "-6.2812014",
         "-3.8518782",
         "0.8853884",
         "-1.978733",
         "-3.6152954",
         "-1.3713243",
         "-0.85851765",
         "6.3122997",
         "2.101503",
         "-8.209792",
         "0.09585559",
         "1.8802867",
         "-0.8176002",
         "2.4990377",
         "-10.330675",
         "-4.495029",
         "-2.782357",
         "2.2770312",
         "-12.461658",
         "1.9680785",
         "2.5030413",
         "-4.835189",
         "-8.2265415",
         "0.05705948",
         "0.7678417",
         "-6.688442",
         "7.327375",
         "-3.4086618",
         "-8.041282",
         "4.3989677",
         "4.117909",
         "12.331956",
         "1.2377334",
         "-6.1795316",
         "-6.2893634",
         "-1.5608349",
         "5.849004",
         "-5.9262114",
         "-1.8678755",
         "-1.064662",
         "-1.0274775",
         "2.1102953",
         "-5.0246854",
         "-6.700459",
         "3.1861365",
         "-2.1334686",
         "-3.6618297",
         "2.2770712",
         "-7.4678717",
         "-0.26999062",
         "-14.179387",
         "-6.3253784",
         "-1.880323",
         "-3.099564",
         "1.7687696",
         "4.4538264",
         "-2.8896976",
         "-3.2940643",
         "0.2014488",
         "5.9608264",
         "6.964816",
         "-1.1296399",
         "-5.5702095",
         "-3.0858405",
         "-1.9322658",
         "-6.3529453",
         "-8.076655",
         "-4.88806",
         "11.79046436677844",
         "10.044030361313732",
         "1",
         "1",
         "0",
         "0",
         "43",
         "18",
         "0",
         "0",
         "6",
         "25",
         "0",
         "12",
         "0",
         "4",
         "1",
         "0",
         "0",
         "0",
         "0",
         "0",
         "0",
         "202.44444444444449",
         "70.66666666666666",
         "285.3333333333333",
         "85.33333333333333",
         "81.33333333333333",
         "77.33333333333334",
         "73.33333333333334",
         "69.33333333333334",
         "65.33333333333334",
         "93.0",
         "113.0",
         "165.0",
         "190.0",
         "180.0",
         "164.0",
         "148.0",
         "132.0",
         "116.0",
         "1090.0",
         "1106.0",
         "1188.0",
         "952.0",
         "936.0",
         "872.0",
         "808.0",
         "744.0",
         "680.0",
         "4336.816147547634",
         "4133.458280000001",
         "4146.983705",
         "3092.122201",
         "2992.127424",
         "2795.370694999999",
         "2598.613965999999",
         "2401.8572369999983",
         "2205.1005079999977",
         "9722.306203875867",
         "9267.25680746413",
         "12101.328352381575",
         "12095.78594292324",
         "11581.069381720912",
         "10574.271036765786",
         "9567.472691810664",
         "8560.67434685554",
         "7553.876001900412",
         "253.8857",
         "256.05030000000005",
         "486.7235999999998",
         "579.3275",
         "576.4329999999999",
         "528.1305000000001",
         "479.828",
         "431.5255",
         "383.2229999999999",
         "636.8570386212251",
         "69.15904775000004",
         "95.334174589886",
         "106.344905705054",
         "100.531984761658",
         "91.510455902262",
         "82.48892704286601",
         "73.46739818347",
         "64.445869324074",
         "7020.018626230101",
         "5940.477474949496",
         "12500.381753545284",
         "17307.54435273851",
         "16939.694857876817",
         "15460.739702838224",
         "13981.784547799632",
         "12502.829392761038",
         "11023.87423772244",
         "4.708010335917313",
         "2.1627906976744184",
         "25.348837209302324",
         "100.85618947785194",
         "226.10014427618296",
         "5.904318604651163",
         "14.81062880514477",
         "163.25624712163025",
         "147.36434108527135",
         "-19.042485427558447",
         "132.25310978907518",
         "34.218857039841346",
         "-3.050297458085449",
         "-4.997295835586801",
         "-6.944294213088156",
         "-8.891292590589508",
         "-10.83829096809086",
         "17.44186046511628",
         "-0.537587885343426",
         "-2.3931855056787428",
         "-0.637101135749053",
         "-0.0016224986479177",
         "-0.0021633315305568",
         "-0.0027041644131962",
         "-0.0032449972958357",
         "-0.0037858301784747",
         "524.046511627907",
         "132.79286100594908",
         "3.868036776636036",
         "95.56084369929684",
         "18.308274743104327",
         "9.99242833964301",
         "1.6765819361816785",
         "-6.639264467279647",
         "-14.95511087074098",
         "2402.822244875332",
         "545.5147188425047",
         "-28.26820679798201",
         "444.4405536482043",
         "89.6044691425463",
         "52.48738419121278",
         "15.370299239879284",
         "-21.74678571145422",
         "-58.86387066278772",
         "3467.6798070419445",
         "-429.22604957028574",
         "-1035.9033173318774",
         "323.5538620905807",
         "200.6342790223582",
         "180.8183407227692",
         "161.00240242318017",
         "141.18646412359118",
         "121.3705258240022",
         "7.787167441860463",
         "0.4670310438074652",
         "5.77936679286101",
         "0.897112060573281",
         "-0.3633739318550572",
         "-0.414892374256355",
         "-0.4664108166576528",
         "-0.5179292590589507",
         "-0.5694477014602486",
         "532.6864860809777",
         "-6.52374937745336",
         "11.489093032621916",
         "31.14568698040557",
         "32.398126182837686",
         "29.62324607275509",
         "26.848365962672503",
         "24.07348585258991",
         "21.29860574250732",
         "111.04186758746091",
         "-20.67590677252142",
         "-17.80699649615868",
         "-0.9436924466994936",
         "4.088442379928167",
         "3.903520079255793",
         "3.718597778583418",
         "3.5336754779110446",
         "3.348753177238671",
         "3.427077699657473",
         "0.4056246619794484",
         "12.187128177393186",
         "55.879587090123984",
         "80.64371644283592",
         "0.1810969172525689",
         "12.38805781583669",
         "2.5823690136618818",
         "0.0",
         "254.80302513413508",
         "41",
         "16",
         "39",
         "2",
         "0",
         "0",
         "2",
         "39",
         "2",
         "0",
         "0",
         "0",
         "0",
         "0",
         "2",
         "10",
         "0",
         "0",
         "1.0",
         "0.0",
         "0.0",
         "0.0",
         "0.0",
         "0.0",
         "0.0",
         "0.0",
         "0.0",
         "0.0",
         "0.0",
         "1.5606601717798214",
         "0.3535533905932738",
         "0.0",
         "0.0",
         "0.3147883582764712",
         "0.0314970394174356",
         "0.0",
         "0.0",
         "0.75",
         "0.7803300858899107",
         "0.5517766952966369",
         "0.1680345102168751",
         "0.1410901118070813",
         "0.0997657748171553",
         "8.060660171779823",
         "6.8461940777125605",
         "3.530330085889911",
         "2.3195436482630063",
         "1.5151650429449557",
         "0.9829951288348662",
         "0.6325825214724776",
         "7.958691965667636",
         "5.418977196374305",
         "3.170196713441706",
         "2.0648908984732994",
         "1.3350983567208528",
         "0.8556687539400127",
         "0.5425491783604263",
         "26.0",
         "24.009472090583632",
         "25.19994199063709",
         "40.34117647058823",
         "40.07654191616767",
         "48.40510119623811",
         "0.6046511627906976",
         "0.5583598160600844",
         "0.5860451625729556",
         "0.9381668946648426",
         "0.9320126027015736",
         "1.1257000278194909",
         "0",
         "0",
         "0",
         "0",
         "0",
         "0",
         "1",
         "0",
         "11",
         "0",
         "0",
         "0",
         "0",
         "0",
         "0",
         "0",
         "0",
         "0",
         "0",
         "0",
         "0",
         "0",
         "0",
         "0",
         "0",
         "0",
         "0",
         "0",
         "0",
         "0",
         "0",
         "0",
         "0",
         "0",
         "2",
         "1",
         "0",
         "0",
         "0",
         "0",
         "0",
         "0",
         "0",
         "0",
         "0",
         "0",
         "0",
         "0",
         "0",
         "0",
         "0",
         "0",
         "1",
         "0",
         "0",
         "0",
         "0",
         "0",
         "0",
         "0",
         "0",
         "0",
         "0",
         "0",
         "0",
         "0",
         "0",
         "0",
         "0",
         "0",
         "0",
         "0",
         "0",
         "0",
         "0",
         "0",
         "0",
         "0",
         "0",
         "0",
         "0",
         "0",
         "0",
         "0.0",
         "0.0",
         "2.212473123783168",
         "0.0",
         "11.729148442712916",
         "0.0",
         "0.0",
         "0.0",
         "0.0",
         "0.0",
         "0.0",
         "0.0",
         "0.0",
         "0.0",
         "0.0",
         "0.0",
         "0.0",
         "0.0",
         "0.0",
         "0.0",
         "0.0",
         "0.0",
         "0.0",
         "0.0",
         "0.0",
         "0.0",
         "0.0",
         "0.0",
         "0.0",
         "0.0",
         "20.22762089567264",
         "4.117995683153442",
         "0.0",
         "0.0",
         "0",
         "0",
         "0.0",
         "0.0",
         "0",
         "0",
         "0.0",
         "0.0",
         "0",
         "0.0",
         "0.0",
         "0.0",
         "0.0",
         "0.0",
         "-4.484381926491812",
         "0.0",
         "0",
         "0",
         "0",
         "0",
         "0",
         "0",
         "0.0",
         "0.0",
         "0",
         "0",
         "0",
         "0.0",
         "0",
         "0.0",
         "0.0",
         "0.0",
         "0",
         "0",
         "0",
         "0",
         "0.0",
         "0",
         "0",
         "0",
         "0",
         "3200000000",
         "50.06",
         "0.0",
         "4",
         "0",
         "1.5398472023062375",
         "1.907295319975546",
         "2.654324070983244",
         "3.280574928969763",
         "3.850115045148207",
         "4.338941789535506",
         "66.21342969916822",
         "82.01369875894848",
         "114.13593505227948",
         "141.0647219456998",
         "165.5549469413729",
         "186.5744969500268",
         "3.886417552395861",
         "3.518969434726552",
         "2.771940683718854",
         "2.145689825732335",
         "1.5761497095538912",
         "1.0873229651665923",
         "18.677403956941856",
         "23.64728841454698",
         "26.75935730906173",
         "29.563128537339832",
         "32.05885414590374",
         "34.08689382982753",
         "61.97584970925505",
         "50.96959029366354",
         "44.90458883143359",
         "38.0662174227397",
         "31.455733051927567",
         "26.05963194688501",
         "-4.5108634320034975",
         "250.3299999999996",
         "134.11819902450972",
         "4.552749873690364",
         "4.183085432649707",
         "8.417796984328938",
         "0.0",
         "0.0",
         "64.71113180602472",
         "6.4208216229260096",
         "0.0",
         "6.606881964512918",
         "0.0",
         "0.0",
         "10.399000581649606",
         "0.0",
         "46.71091832327694",
         "0.0",
         "0.0",
         "0.0",
         "71.13195342895074",
         "6.606881964512918",
         "0.0",
         "0.0",
         "0.0",
         "29.557286032607934",
         "19.57742882253222",
         "14.582086014299314",
         "0.0",
         "71.13195342895074",
         "0.0",
         "0.0",
         "0.0",
         "0.0",
         "0.0",
         "0.0",
         "10.399000581649606",
         "36.16416799712085",
         "6.4208216229260096",
         "12.84164324585202",
         "44.94575136048208",
         "0.0",
         "0.0",
         "11.106822632340332",
         "0.0",
         "12.9705468580193",
         "34.4594270266624",
         "0.0",
         "0.0",
         "0.0",
         "0.0",
         "0.0",
         "11.699055850120324",
         "2.2425657163757604",
         "-4.484381926491812",
         "18",
         "14",
         "13",
         "12",
         "11",
         "10",
         "9",
         "8",
         "7",
         "136",
         "2.9444389791664403",
         "3.258096538021482",
         "2.833213344056216",
         "2.772588722239781",
         "2.70805020110221",
         "2.6390573296152584",
         "2.5649493574615367",
         "2.4849066497880004",
         "2.3978952727983707",
         "2.302585092994046",
         "5.087596335232384",
         "66.92782499999996",
         "34.340175",
         "0",
         "0",
         "0",
         "0",
         "0",
         "0",
         "0",
         "0",
         "0",
         "0",
         "0",
         "0",
         "0",
         "0",
         "0",
         "0",
         "0",
         "0",
         "0",
         "0",
         "0",
         "0",
         "0",
         "0",
         "0",
         "0",
         "0",
         "0",
         "0",
         "0",
         "0",
         "0",
         "0",
         "0",
         "0",
         "0",
         "0",
         "0",
         "0",
         "0",
         "0",
         "0",
         "0",
         "0",
         "0",
         "0",
         "0",
         "0",
         "0",
         "0",
         "0",
         "0",
         "0",
         "0",
         "0",
         "0",
         "0",
         "0",
         "0",
         "0",
         "0",
         "0",
         "0",
         "0",
         "0",
         "0",
         "0",
         "0",
         "0",
         "0",
         "0",
         "0",
         "0",
         "0",
         "0",
         "0",
         "0",
         "0",
         "0",
         "0",
         "0",
         "0",
         "0",
         "0",
         "0",
         "0",
         "0",
         "0",
         "0",
         "0",
         "0",
         "0",
         "0",
         "0",
         "0",
         "0",
         "0",
         "0",
         "0",
         "0",
         "0",
         "0",
         "0",
         "0",
         "0",
         "0",
         "0",
         "0",
         "0",
         "0",
         "0",
         "0",
         "0",
         "0",
         "0",
         "0",
         "0",
         "0",
         "0",
         "0",
         "0",
         "0",
         "0",
         "0",
         "0",
         "0",
         "0",
         "0",
         "0",
         "0",
         "0",
         "0",
         "0",
         "0",
         "0",
         "0",
         "0",
         "0",
         "12",
         "0.3881000000000005",
         "67.49320000000006",
         "66.43",
         "74.81",
         "3.0",
         "0.666666666666667",
         "0.375",
         "0.24",
         "0.1666666666666666",
         "0.1224489795918367",
         "0.09375",
         "0.074074074074074",
         "0.06",
         "0.0495867768595041",
         "0.1875",
         "0.037037037037037",
         "0.0267857142857142",
         "0.0184615384615384",
         "0.0138888888888888",
         "0.0111317254174397",
         "0.009375",
         "0.0082304526748971",
         "0.0075",
         "0.0070838252656434",
         "0.326994182031159",
         "100000000",
         "100000000",
         "16.0",
         "4.23410650459726",
         "4.890349128221754",
         "5.645446897643238",
         "6.315358001522335",
         "7.079184394609668",
         "7.75491027202143",
         "8.524962928680598",
         "9.204020443231364",
         "9.979383211539384",
         "97.627721782067",
         "3.49650756146648",
         "0.0",
         "4.653960350157523",
         "0.0",
         "5.942799375126701",
         "0.0",
         "7.29505641646263",
         "0.0",
         "8.68490859582083",
         "48.07323229903416",
         "288.1371245600007",
         "6.700863361860481",
         "1700000776",
         "14",
         "68.0",
         "66.0",
         "4.125",
         "test",
         "4",
         "test",
         "3",
         "trainvalid",
         "test",
         "trainvalid",
         "3",
         "trainvalid",
         "test",
         "trainvalid"
        ],
        [
         "4",
         "1001694",
         "225",
         "52918-63-5",
         "LAB",
         "S",
         "I",
         "FW",
         "X",
         "NR",
         "111395",
         "MOR",
         "LC50",
         "24.0",
         "F",
         null,
         "0.0035",
         "6.9278671353382955e-09",
         null,
         null,
         "Actinopterygii Cypriniformes Cyprinidae Cyprinus carpio",
         "Common Carp",
         "Actinopterygii",
         "Cypriniformes",
         "Cyprinidae",
         "Cyprinus",
         "carpio",
         "Cyprinus_carpio",
         "21:1520:3020",
         "fish",
         "True",
         "C_D",
         "TH",
         "C_H_D",
         "potamodromous",
         "migration",
         "0.01498",
         "0.3392",
         "364.5",
         "13870.0",
         "0.7",
         "25.1",
         "130.0",
         null,
         "1",
         "-2.4559319556497243",
         "-8.159400449937408",
         "DTXSID8020381",
         "Deltamethrin",
         "52918-63-5\nDeltamethrin",
         "C22H19Br2NO3",
         "505.20599365234375",
         "94.4701",
         "2.74993e-05",
         "True",
         "DTXCID20381",
         "InChI=1S/C22H19Br2NO3/c1-22(2)17(12-19(23)24)20(22)21(26)28-18(13-25)14-7-6-10-16(11-14)27-15-8-4-3-5-9-15/h3-12,17-18,20H,1-2H3/t17-,18+,20-/m0/s1",
         "OWZREIFADZCYQD-NSHGMRRFSA-N",
         "40585.0",
         "OWZREIFADZCYQD-NSHGMRRFSA-N",
         "InChI=1S/C22H19Br2NO3/c1-22(2)17(12-19(23)24)20(22)21(26)28-18(13-25)14-7-6-10-16(11-14)27-15-8-4-3-5-9-15/h3-12,17-18,20H,1-2H3/t17-,18+,20-/m0/s1",
         "[(S)-cyano-(3-phenoxyphenyl)methyl] (1R,3R)-3-(2,2-dibromoethenyl)-2,2-dimethylcyclopropane-1-carboxylate",
         "CC1(C(C1C(=O)OC(C#N)C2=CC(=CC=C2)OC3=CC=CC=C3)C=C(Br)Br)C",
         "11100000011110100011000000000000000000000001100000000000000000000000000000000000000000000000000000000000000000000001100000000000000000000000000000000000000000000000000000000000001100000110000000000000000000000000000000000000000000000000000000000000000000010100000000000000000000000001111000000000010000000000000000000000000000010000111100010100101000011001100000000010001100100000111010000000000000000000010000000000100110000000011000100000110100100000100000000000000000100000100000000000001000000010000000000000000010001000100000000001000001100000100010001000000011001010011000110010100001000011000100011010100000100011100000100000101001001100000000010001000010001010100000001111110010001100000010110000000011111000000000000000000000010000000000000000000000000000000000000000000000000000000000000010000000000000000000000000000000000000000000000000000000000000000000000000000000000",
         "28.0",
         "6.490180000000004",
         "49",
         "8",
         "1",
         "3.0",
         "0.0",
         "True",
         "CC1(C)C(C=C(Br)Br)C1C(=O)OC(C#N)c1cccc(Oc2ccccc2)c1",
         "9.83",
         "00000000000000000000011000000000000000000100001000000000000000000010000000101000000000000000000100010000000100001100000000010111000000100000000101100110101001011111110",
         "01000000000000000000000000000000000000000000000000001000000000000000010000000000000000000001000000000000000000000000000000000001000000000000000000000000000000000000000000000000000000000000000001000000000000000000000000000000000000000000000000000000000000001000000000000000000000000000000000000000000000000000000000000000001000000000000000000000000001000000000000000000000000000000000000000100000000000000000000000000000000000000000000000000000000000000000000000000000000000000000000000000000000000000000000000000000000000000000000000010000000000000010000000000001000000000010000000000000000000000000000000000000000000000000000000000000000000000000000100000000000000000000000100000000000000000001100000000000000000000000000000000100000000000000000000000000000000000000000000000000000000000001000000000000000010000000000000000000000000000000000000000000000000000001000000000000100000000000000000000000000000000000000000000000000000000000000000000000000000000000000000000000000000000000000000000000000000000000000000000000100000000000001000001000000000000000001001000000000000000000000000000100000000000000000000000000000000000000000000000000000000000000000000000000000000000000000000000000000000100000100000000000000000000000100000000000000000000000000001000000000000000000000100000000000000000000000000000000000000000000000000000000000000001000000000000000000000000010001100000000010001000000000000000000000000000000000000000000000000000000000000000000000000000000000000000000000000000000000000000000000000000000000000000000000000000000000000000000000010000000000000000000000000000010000000000000000000000000000000000010000000000000000000000000000000000000000000000000000000000000000000000000000000000000000000000000000000000000000000000000000000000001000000000000010000000000000000000000000000000000000000000000000000000000000000000000000000000000000000000000000000000000001000000000000000000000000000000000000000000010000000000000000000000010000000000000000000000000000000000000000000000010000000100000000000000000000000000000000000000100000000000",
         "000000000000101000000000000000000000000000000000100000000000000000000010000000000000000000000000000000000000000000101000000000000000000000110100000000000000000000000000000000000000001000000000000000000000000000000000000000000000000000000000000000000000000000000000000000000000000000000000000000000000010000000000000000000000000000000000000000000000000000000000000000000000000000000000000000000000000000000000000000000000000100000001100000000000000000000000000000000010000000011000000000000000000000000000000000000000000000000000000000000000000000000000000000000000000000000000000000000101000000000000000000000000000000000000000000000000000000000000000000000000000000000000000000000000000000000000000000000000000000000000000000000",
         "-1.8140237",
         "-4.915386",
         "-4.792039",
         "3.2340288",
         "-1.055699",
         "-3.183837",
         "-14.715834",
         "1.9167521",
         "6.065426",
         "5.667616",
         "-2.1333094",
         "-1.4451463",
         "-10.769998",
         "1.00755",
         "-5.9535875",
         "2.0646653",
         "5.525996",
         "-3.0646582",
         "-6.7665763",
         "9.590982",
         "4.7513766",
         "6.460143",
         "16.044716",
         "6.596736",
         "-11.607368",
         "-0.40617466",
         "-3.8930488",
         "-9.036777",
         "-0.87104213",
         "-3.2275429",
         "11.795999",
         "-6.6631064",
         "-0.75062543",
         "-3.3099453",
         "-5.455703",
         "0.32673132",
         "2.4658365",
         "0.6072373",
         "14.995777",
         "6.921268",
         "-1.9218993",
         "2.541547",
         "-3.8821995",
         "-0.4646931",
         "-10.93876",
         "6.4452043",
         "1.3889832",
         "7.6047854",
         "-8.051319",
         "5.5857906",
         "0.120071754",
         "-8.432904",
         "-1.939948",
         "-9.094449",
         "-9.020379",
         "-11.669752",
         "-9.367674",
         "2.9668527",
         "3.8420393",
         "3.6238265",
         "-0.14060847",
         "-10.195136",
         "-6.7782016",
         "1.280877",
         "-14.977743",
         "1.1119535",
         "12.358954",
         "2.167728",
         "-2.4463675",
         "-1.6697438",
         "-5.350339",
         "6.5898585",
         "5.3282204",
         "-4.523954",
         "-4.0829535",
         "6.8837714",
         "-11.342825",
         "1.9354293",
         "-4.665924",
         "3.629493",
         "6.925696",
         "-6.14154",
         "-0.4191528",
         "-9.76149",
         "3.304391",
         "0.34562698",
         "-6.8914313",
         "4.053193",
         "2.2392914",
         "-1.2622839",
         "3.0093064",
         "-0.7925125",
         "0.375641",
         "6.5378504",
         "2.1355352",
         "0.9061169",
         "4.8494945",
         "5.3368297",
         "4.7224226",
         "-0.6553725",
         "-5.5872493",
         "-6.783364",
         "-5.3566446",
         "-10.193525",
         "6.261308",
         "-8.040071",
         "-1.8157667",
         "8.376331",
         "2.4128208",
         "-5.8950257",
         "-14.743565",
         "4.4208803",
         "5.8130302",
         "-0.834372",
         "3.9013643",
         "-4.14313",
         "10.048465",
         "8.867583",
         "-4.804642",
         "4.08134",
         "-11.664503",
         "0.9367794",
         "-0.037563413",
         "4.2259054",
         "5.2447643",
         "-5.9029846",
         "-8.628749",
         "1.3644716",
         "-10.402857",
         "2.3421745",
         "-1.664568",
         "1.5696349",
         "8.568189",
         "10.804276",
         "-0.4707691",
         "17.876596",
         "14.996397",
         "-1.115099",
         "11.185686",
         "-3.0993772",
         "2.9161181",
         "-4.7444777",
         "-5.3046784",
         "-2.6741846",
         "12.207523",
         "6.144215",
         "-1.4897829",
         "2.334987",
         "-2.6408265",
         "6.476063",
         "3.4906936",
         "2.294351",
         "7.9839234",
         "-6.5410204",
         "1.4113822",
         "1.7903743",
         "-8.432411",
         "1.7945294",
         "2.1929352",
         "-5.091939",
         "-4.1485276",
         "-2.2591047",
         "-3.3265076",
         "3.875301",
         "2.974121",
         "-5.25858",
         "0.93310153",
         "-5.5009346",
         "-0.07680322",
         "2.1888824",
         "-4.322861",
         "-4.0692754",
         "12.058453",
         "-3.9284313",
         "3.6525276",
         "2.477791",
         "4.7151465",
         "1.8370818",
         "-0.4068651",
         "11.695058",
         "-1.2036663",
         "7.8143415",
         "-2.5940971",
         "10.023269",
         "8.7766",
         "-3.7133036",
         "-3.9274287",
         "-1.7733803",
         "-2.2523816",
         "-0.5867417",
         "-0.616832",
         "-6.393017",
         "1.0575116",
         "-1.5735854",
         "2.5780406",
         "-0.42934293",
         "-3.8350348",
         "-9.839515",
         "-2.529876",
         "2.660721",
         "2.1061413",
         "2.134892",
         "7.7590084",
         "5.5496483",
         "6.502327",
         "3.6671858",
         "12.727694",
         "7.401801",
         "10.928588",
         "-0.94398457",
         "11.149888",
         "-4.519449",
         "6.392105",
         "-8.580278",
         "3.501245",
         "-0.89246625",
         "3.1983426",
         "5.3923516",
         "-8.669779",
         "2.036222",
         "-0.3705487",
         "-11.784403",
         "-7.4116745",
         "-1.90009",
         "2.6153078",
         "-12.647222",
         "-1.3033497",
         "-2.223687",
         "6.1154222",
         "-6.830804",
         "-1.9082241",
         "-2.457149",
         "-3.3989398",
         "-11.797334",
         "-4.033013",
         "-2.4151444",
         "-0.22484648",
         "-3.111802",
         "-2.8209214",
         "9.918895",
         "5.716319",
         "-8.243743",
         "0.9316657",
         "-0.47063845",
         "-5.7903147",
         "3.3284206",
         "-13.641709",
         "-6.1869507",
         "-2.2619276",
         "-1.893634",
         "-15.082161",
         "5.3367934",
         "-1.4552035",
         "1.5734406",
         "-13.309015",
         "4.7507677",
         "6.7050185",
         "-7.0071497",
         "3.7745972",
         "-6.9285145",
         "1.4539784",
         "5.951102",
         "3.1913824",
         "6.394548",
         "1.1021672",
         "-5.7333174",
         "-9.58028",
         "4.0714874",
         "0.5023738",
         "-8.386309",
         "-0.8015329",
         "10.926543",
         "4.0163183",
         "0.5341305",
         "2.274455",
         "-2.3145132",
         "-9.150298",
         "-3.0029175",
         "1.7642335",
         "1.4871929",
         "-8.436364",
         "-5.9147053",
         "-14.475228",
         "0.23750515",
         "4.8236475",
         "7.9842157",
         "-0.043126963",
         "-2.169317",
         "-0.714451",
         "0.70848733",
         "-5.2973423",
         "10.940241",
         "10.744929",
         "0.70116156",
         "-7.9979672",
         "-7.48917",
         "-7.96581",
         "-5.8034544",
         "-10.517405",
         "3.1091263",
         "21.614670622818814",
         "17.998621076476944",
         "0",
         "0",
         "12",
         "12",
         "47",
         "28",
         "0",
         "0",
         "6",
         "19",
         "0",
         "22",
         "1",
         "3",
         "0",
         "0",
         "0",
         "0",
         "2",
         "0",
         "2",
         "364.1344307270233",
         "360.0740740740741",
         "471.6227709190672",
         "518.5555555555555",
         "475.6296296296296",
         "488.1111111111111",
         "415.22222222222223",
         "371.55555555555554",
         "314.1481481481481",
         "165.0",
         "207.0",
         "303.0",
         "335.0",
         "320.0",
         "294.0",
         "274.0",
         "275.0",
         "236.0",
         "3502.0",
         "1608.0",
         "3325.0",
         "2343.0",
         "2691.0",
         "3023.0",
         "3068.0",
         "1931.0",
         "2214.0",
         "16926.514361999994",
         "6452.357244000004",
         "14594.616729000005",
         "8773.383124999997",
         "10484.491836",
         "12031.879118",
         "11690.589925000004",
         "7371.051663000002",
         "8564.712969000006",
         "12207.26641224644",
         "14423.639608770283",
         "20358.777206206963",
         "21996.79483279494",
         "21598.037806080138",
         "21626.70909454009",
         "20948.557289790417",
         "18776.2129668381",
         "17908.894746521033",
         "297.2805999999998",
         "316.35300000000007",
         "516.5347000000002",
         "670.1976",
         "723.1020000000003",
         "660.3586999999999",
         "611.7077",
         "570.8545999999999",
         "569.9924999999998",
         "91.54805719213095",
         "101.23384189000006",
         "149.04767595509412",
         "161.81617625479197",
         "161.290596398319",
         "159.89478797133907",
         "160.37506063709398",
         "141.44467548873507",
         "139.65278538733895",
         "7349.636883538231",
         "6895.233073110095",
         "11905.780399582738",
         "16122.993413988988",
         "18600.064814257115",
         "15727.14489208264",
         "14463.078575423842",
         "14447.488472169684",
         "14396.700527380335",
         "7.747541079298368",
         "3.5106382978723403",
         "74.51063829787235",
         "360.1386034468084",
         "259.7290726009881",
         "6.3251191489361664",
         "1.9478310040878928",
         "156.37525284123896",
         "182.0136590491201",
         "50.89875624161287",
         "11.805284032586489",
         "15.848802225091138",
         "32.24250587290676",
         "-73.35063318100724",
         "-0.4076396534690074",
         "-25.05653328663574",
         "-52.885564168531154",
         "32.2127659574468",
         "9.2675418741512",
         "-11.068809416025358",
         "-7.60751471253961",
         "1.7469443186962434",
         "-0.0058850158442741",
         "-2.1960162969669543",
         "-5.702127659574469",
         "-1.6079674060660911",
         "2150.8510638297867",
         "3.368039837030324",
         "956.7247623358986",
         "-250.2385694884564",
         "247.77501131733823",
         "-198.4703485740153",
         "-1246.2308736985062",
         "204.53191489361703",
         "-159.75101856043457",
         "11496.022820808505",
         "13.250168688999764",
         "5184.855834840646",
         "-1234.5352694617477",
         "1221.985569093706",
         "-962.4128006989584",
         "-6613.527974889539",
         "1060.2117941489344",
         "-788.0273433911274",
         "2614.737331519638",
         "5.336678843403309",
         "-9.458633841335695",
         "-1238.0384513608392",
         "1295.629465999099",
         "466.4841011736978",
         "-1729.489365131154",
         "-176.41639652635465",
         "-591.854857612771",
         "5.12842127659574",
         "0.1075735626980505",
         "1.387761204164777",
         "-0.9737926663648726",
         "0.5337300135808042",
         "-3.0318133544590387",
         "-0.1883302399275719",
         "1.3348680851063863",
         "-1.6872905839746477",
         "17.446394787567403",
         "-0.3759405625292055",
         "2.031785267636434",
         "-6.298493538145957",
         "5.759782115463521",
         "7.469755478553008",
         "-17.992301714881364",
         "-0.3799995254985746",
         "-1.3452937685300046",
         "65.44396590079074",
         "-2.7792911313623168",
         "-9.338090435745569",
         "-28.64855333652752",
         "6.830764323844738",
         "30.219808741490485",
         "-18.0292608667",
         "-14.305360250215612",
         "-5.407234605464063",
         "3.872631043598301",
         "0.6853779990946127",
         "45.76278859212312",
         "244.59623022996817",
         "55.632709181268886",
         "0.1091153463105476",
         "0.3711998890971787",
         "1.392424806399803",
         "1.5071547666586167",
         "930.2980937199306",
         "49",
         "30",
         "34",
         "2",
         "1",
         "12",
         "15",
         "40",
         "8",
         "1",
         "0",
         "2",
         "12",
         "1",
         "2",
         "1",
         "2",
         "1",
         "0.2727272727272727",
         "0.1666666666666666",
         "0.5474095083960289",
         "0.8951682068889271",
         "1.3990154307459486",
         "1.656549538712134",
         "0.1666666666666666",
         "0.5128917115316043",
         "0.6900498496721235",
         "0.8537969758574734",
         "1.1231740761421731",
         "2.51029195224223",
         "0.1666666666666666",
         "0.365450890140006",
         "0.0",
         "2.543049110042605",
         "0.1666666666666666",
         "0.2130891221201195",
         "0.0",
         "4.289476834763565",
         "6.539183591267967",
         "9.290106827065692",
         "2.8322529801890948",
         "3.181164805765792",
         "4.769150811448186",
         "13.323735633975271",
         "12.496955985852146",
         "9.39123267870383",
         "7.769935550874525",
         "6.0852834733053305",
         "3.5699956114560045",
         "2.449675623319172",
         "10.370534933001574",
         "9.987583559122662",
         "5.323171289816332",
         "3.5980056722635507",
         "2.7988693972361736",
         "1.3422647246278143",
         "0.5714517189670143",
         "41.99999999999998",
         "42.0619432187162",
         "32.62722348870344",
         "45.952941176470574",
         "35.3383634730539",
         "51.96245810502384",
         "0.8936170212765953",
         "0.8949349621003446",
         "0.6941962444404988",
         "0.9777221526908632",
         "0.7518800738947639",
         "1.1055842150005073",
         "0",
         "0",
         "0",
         "0",
         "0",
         "0",
         "2",
         "0",
         "0",
         "0",
         "1",
         "9",
         "3",
         "0",
         "1",
         "2",
         "3",
         "0",
         "1",
         "0",
         "0",
         "0",
         "0",
         "0",
         "0",
         "1",
         "0",
         "0",
         "0",
         "0",
         "0",
         "0",
         "0",
         "0",
         "1",
         "2",
         "0",
         "0",
         "0",
         "0",
         "0",
         "0",
         "0",
         "0",
         "0",
         "0",
         "0",
         "0",
         "0",
         "0",
         "0",
         "0",
         "0",
         "0",
         "0",
         "0",
         "0",
         "0",
         "0",
         "0",
         "0",
         "0",
         "0",
         "0",
         "0",
         "0",
         "0",
         "0",
         "0",
         "2",
         "0",
         "0",
         "0",
         "0",
         "0",
         "0",
         "0",
         "0",
         "0",
         "0",
         "0",
         "0",
         "0",
         "0.0",
         "0.0",
         "4.025270706793073",
         "0.0",
         "0.0",
         "0.0",
         "1.9460612793224623",
         "16.41253483076692",
         "-1.209901414070857",
         "0.0",
         "2.073409942680776",
         "0.4346304696065005",
         "1.853835609945144",
         "0.0",
         "-0.2062027140751539",
         "0.0",
         "0.0",
         "0.0",
         "0.0",
         "0.0",
         "0.0",
         "9.557628009549909",
         "0.0",
         "0.0",
         "0.0",
         "0.0",
         "0.0",
         "0.0",
         "0.0",
         "0.0",
         "12.666973935439394",
         "11.351090773570933",
         "0.0",
         "0.0",
         "0",
         "0",
         "0.0",
         "0.0",
         "0",
         "0",
         "0.0",
         "0.0",
         "0",
         "0.0",
         "0.0",
         "0.0",
         "0.0",
         "0.0",
         "0.0",
         "0.0",
         "0",
         "0",
         "0",
         "0",
         "0",
         "0",
         "0.0",
         "0.0",
         "0",
         "0",
         "0",
         "0.0",
         "0",
         "0.0",
         "0.0",
         "6.678001903804235",
         "0",
         "0",
         "0",
         "0",
         "0.0",
         "0",
         "0",
         "0",
         "0",
         "680",
         "144.06",
         "0.4042553191489361",
         "4",
         "0",
         "1.6062270247071662",
         "3.463569043702419",
         "4.234608000245558",
         "4.884168106904724",
         "5.096934064351535",
         "5.139487255840894",
         "75.49267016123682",
         "162.7877450540137",
         "199.02657601154124",
         "229.55590102452203",
         "239.5559010245221",
         "241.55590102452203",
         "3.948361826970472",
         "2.0910198079752185",
         "1.3199808514320797",
         "0.6704207447729136",
         "0.4576547873261027",
         "0.4151015958367434",
         "27.88520707966193",
         "46.158070167238094",
         "51.74132345921716",
         "54.737143876516825",
         "55.41982472758066",
         "55.46271834460193",
         "98.1782767301515",
         "62.68996386150178",
         "46.98569939687381",
         "39.34534047081525",
         "37.70044403591604",
         "37.54918493584464",
         "-5.858008150494971",
         "307.85000000000053",
         "180.95877173562263",
         "9.473725907600098",
         "4.794537184071822",
         "0.0",
         "5.261891554738487",
         "0.0",
         "50.255329848523175",
         "67.45825258530331",
         "5.563451491696996",
         "9.309546624501497",
         "17.568244979360085",
         "0.0",
         "6.103966387748303",
         "0.0",
         "14.26826309167192",
         "5.261891554738487",
         "0.0",
         "17.250802561719567",
         "19.95144078712955",
         "0.0",
         "69.62841579302547",
         "0.0",
         "17.568244979360085",
         "4.736862953800049",
         "5.969305287951849",
         "9.53140013787187",
         "28.581915429250326",
         "25.514892278826547",
         "64.06496430132847",
         "0.0",
         "0.0",
         "0.0",
         "0.0",
         "11.49902366656781",
         "6.103966387748303",
         "23.22010784967141",
         "17.062475158264807",
         "3.391640578340104",
         "0.0",
         "24.26546827384644",
         "50.255329848523175",
         "37.92910910869097",
         "9.473725907600098",
         "10.056428738810308",
         "12.15291494460454",
         "12.666973935439394",
         "9.557628009549909",
         "0.3738911907707356",
         "0.6825133329035491",
         "18.48594477344769",
         "0.9601945360202032",
         "4.025270706793073",
         "0.0",
         "43",
         "53",
         "66",
         "77",
         "73",
         "79",
         "82",
         "86",
         "87",
         "704",
         "3.713572066704308",
         "4.23410650459726",
         "4.653960350157523",
         "5.148946909893768",
         "5.595640316036498",
         "5.600734098756754",
         "5.901437263203245",
         "6.256109861847204",
         "6.490249218694156",
         "6.741645350735721",
         "8.11328156353259",
         "59.01506699999999",
         "26.730933",
         "3",
         "1",
         "0",
         "0",
         "2",
         "0",
         "0",
         "0",
         "0",
         "0",
         "0",
         "0",
         "0",
         "0",
         "0",
         "0",
         "0",
         "0",
         "0",
         "0",
         "0",
         "0",
         "0",
         "0",
         "2",
         "0",
         "0",
         "0",
         "2",
         "0",
         "0",
         "0",
         "0",
         "0",
         "0",
         "0",
         "0",
         "0",
         "0",
         "0",
         "0",
         "0",
         "0",
         "0",
         "0",
         "0",
         "0",
         "0",
         "1",
         "1",
         "0",
         "0",
         "0",
         "0",
         "0",
         "0",
         "0",
         "0",
         "0",
         "0",
         "0",
         "0",
         "0",
         "0",
         "0",
         "0",
         "0",
         "0",
         "0",
         "0",
         "0",
         "0",
         "0",
         "0",
         "0",
         "0",
         "0",
         "0",
         "0",
         "0",
         "0",
         "0",
         "0",
         "0",
         "0",
         "0",
         "0",
         "0",
         "0",
         "0",
         "0",
         "0",
         "0",
         "0",
         "0",
         "0",
         "0",
         "0",
         "0",
         "0",
         "0",
         "0",
         "0",
         "0",
         "0",
         "0",
         "0",
         "0",
         "0",
         "0",
         "0",
         "0",
         "0",
         "0",
         "0",
         "0",
         "0",
         "0",
         "0",
         "0",
         "0",
         "0",
         "0",
         "0",
         "0",
         "0",
         "0",
         "0",
         "0",
         "0",
         "0",
         "0",
         "0",
         "0",
         "0",
         "0",
         "0",
         "0",
         "6",
         "6.490180000000004",
         "114.10200000000006",
         "59.32000000000001",
         "59.32000000000001",
         "7.0",
         "4.222222222222223",
         "2.4791666666666665",
         "1.6683333333333334",
         "0.91",
         "0.8164625850340136",
         "0.40281320861678",
         "0.3593002015621063",
         "0.2128163580246914",
         "0.2094725028058361",
         "0.2333333333333333",
         "0.1055555555555555",
         "0.063568376068376",
         "0.0417083333333333",
         "0.02275",
         "0.0220665563522706",
         "0.0122064608671751",
         "0.0123896621228312",
         "0.0081852445394112",
         "0.0110248685687282",
         "0.5327883907410147",
         "15",
         "8",
         "30.0",
         "4.990432586778736",
         "5.84354441703136",
         "6.75110146893676",
         "7.636752112435779",
         "8.55429627936774",
         "9.457903327831136",
         "10.382358005060569",
         "11.29838232387519",
         "12.22869971171343",
         "135.14347023303068",
         "4.110873864173311",
         "1.9459101490553128",
         "5.4510384535657",
         "4.262679877041316",
         "6.99117688712121",
         "6.401917196727186",
         "8.63497622707262",
         "8.444837529224097",
         "10.344673667218704",
         "84.58808385119947",
         "502.9731676680005",
         "10.701556758893627",
         "2244",
         "39",
         "146.0",
         "172.0",
         "6.166666666666666",
         "3",
         "3",
         "2",
         "2",
         "trainvalid",
         "trainvalid",
         "trainvalid",
         "2",
         "trainvalid",
         "trainvalid",
         "trainvalid"
        ]
       ],
       "shape": {
        "columns": 1106,
        "rows": 5
       }
      },
      "text/html": [
       "<div>\n",
       "<style scoped>\n",
       "    .dataframe tbody tr th:only-of-type {\n",
       "        vertical-align: middle;\n",
       "    }\n",
       "\n",
       "    .dataframe tbody tr th {\n",
       "        vertical-align: top;\n",
       "    }\n",
       "\n",
       "    .dataframe thead th {\n",
       "        text-align: right;\n",
       "    }\n",
       "</style>\n",
       "<table border=\"1\" class=\"dataframe\">\n",
       "  <thead>\n",
       "    <tr style=\"text-align: right;\">\n",
       "      <th></th>\n",
       "      <th>test_id</th>\n",
       "      <th>reference_number</th>\n",
       "      <th>test_cas</th>\n",
       "      <th>test_location</th>\n",
       "      <th>test_exposure_type</th>\n",
       "      <th>test_control_type</th>\n",
       "      <th>test_media_type</th>\n",
       "      <th>test_application_freq_unit</th>\n",
       "      <th>test_organism_lifestage</th>\n",
       "      <th>result_id</th>\n",
       "      <th>...</th>\n",
       "      <th>split_random</th>\n",
       "      <th>split_occurrence</th>\n",
       "      <th>split_scaffold-murcko</th>\n",
       "      <th>split_scaffold-murcko-loo-0</th>\n",
       "      <th>split_scaffold-murcko-loo-1</th>\n",
       "      <th>split_scaffold-murcko-llo</th>\n",
       "      <th>split_scaffold-generic</th>\n",
       "      <th>split_scaffold-generic-loo-0</th>\n",
       "      <th>split_scaffold-generic-loo-1</th>\n",
       "      <th>split_scaffold-generic-llo</th>\n",
       "    </tr>\n",
       "  </thead>\n",
       "  <tbody>\n",
       "    <tr>\n",
       "      <th>0</th>\n",
       "      <td>1000130</td>\n",
       "      <td>35</td>\n",
       "      <td>2039-46-5</td>\n",
       "      <td>LAB</td>\n",
       "      <td>NR</td>\n",
       "      <td>I</td>\n",
       "      <td>FW</td>\n",
       "      <td>NR</td>\n",
       "      <td>NR</td>\n",
       "      <td>124331</td>\n",
       "      <td>...</td>\n",
       "      <td>3</td>\n",
       "      <td>test</td>\n",
       "      <td>4</td>\n",
       "      <td>test</td>\n",
       "      <td>trainvalid</td>\n",
       "      <td>trainvalid</td>\n",
       "      <td>4</td>\n",
       "      <td>test</td>\n",
       "      <td>trainvalid</td>\n",
       "      <td>trainvalid</td>\n",
       "    </tr>\n",
       "    <tr>\n",
       "      <th>1</th>\n",
       "      <td>1001265</td>\n",
       "      <td>182</td>\n",
       "      <td>94-09-7</td>\n",
       "      <td>LAB</td>\n",
       "      <td>S</td>\n",
       "      <td>I</td>\n",
       "      <td>FW</td>\n",
       "      <td>X</td>\n",
       "      <td>NR</td>\n",
       "      <td>112643</td>\n",
       "      <td>...</td>\n",
       "      <td>3</td>\n",
       "      <td>2</td>\n",
       "      <td>4</td>\n",
       "      <td>test</td>\n",
       "      <td>trainvalid</td>\n",
       "      <td>trainvalid</td>\n",
       "      <td>4</td>\n",
       "      <td>test</td>\n",
       "      <td>trainvalid</td>\n",
       "      <td>trainvalid</td>\n",
       "    </tr>\n",
       "    <tr>\n",
       "      <th>2</th>\n",
       "      <td>1001266</td>\n",
       "      <td>182</td>\n",
       "      <td>94-09-7</td>\n",
       "      <td>LAB</td>\n",
       "      <td>S</td>\n",
       "      <td>I</td>\n",
       "      <td>FW</td>\n",
       "      <td>X</td>\n",
       "      <td>NR</td>\n",
       "      <td>112644</td>\n",
       "      <td>...</td>\n",
       "      <td>3</td>\n",
       "      <td>2</td>\n",
       "      <td>4</td>\n",
       "      <td>test</td>\n",
       "      <td>trainvalid</td>\n",
       "      <td>trainvalid</td>\n",
       "      <td>4</td>\n",
       "      <td>test</td>\n",
       "      <td>trainvalid</td>\n",
       "      <td>trainvalid</td>\n",
       "    </tr>\n",
       "    <tr>\n",
       "      <th>3</th>\n",
       "      <td>1001636</td>\n",
       "      <td>219</td>\n",
       "      <td>151-21-3</td>\n",
       "      <td>LAB</td>\n",
       "      <td>NR</td>\n",
       "      <td>I</td>\n",
       "      <td>FW</td>\n",
       "      <td>NR</td>\n",
       "      <td>NR</td>\n",
       "      <td>131358</td>\n",
       "      <td>...</td>\n",
       "      <td>4</td>\n",
       "      <td>test</td>\n",
       "      <td>3</td>\n",
       "      <td>trainvalid</td>\n",
       "      <td>test</td>\n",
       "      <td>trainvalid</td>\n",
       "      <td>3</td>\n",
       "      <td>trainvalid</td>\n",
       "      <td>test</td>\n",
       "      <td>trainvalid</td>\n",
       "    </tr>\n",
       "    <tr>\n",
       "      <th>4</th>\n",
       "      <td>1001694</td>\n",
       "      <td>225</td>\n",
       "      <td>52918-63-5</td>\n",
       "      <td>LAB</td>\n",
       "      <td>S</td>\n",
       "      <td>I</td>\n",
       "      <td>FW</td>\n",
       "      <td>X</td>\n",
       "      <td>NR</td>\n",
       "      <td>111395</td>\n",
       "      <td>...</td>\n",
       "      <td>3</td>\n",
       "      <td>2</td>\n",
       "      <td>2</td>\n",
       "      <td>trainvalid</td>\n",
       "      <td>trainvalid</td>\n",
       "      <td>trainvalid</td>\n",
       "      <td>2</td>\n",
       "      <td>trainvalid</td>\n",
       "      <td>trainvalid</td>\n",
       "      <td>trainvalid</td>\n",
       "    </tr>\n",
       "  </tbody>\n",
       "</table>\n",
       "<p>5 rows × 1106 columns</p>\n",
       "</div>"
      ],
      "text/plain": [
       "   test_id  reference_number    test_cas test_location test_exposure_type  \\\n",
       "0  1000130                35   2039-46-5           LAB                 NR   \n",
       "1  1001265               182     94-09-7           LAB                  S   \n",
       "2  1001266               182     94-09-7           LAB                  S   \n",
       "3  1001636               219    151-21-3           LAB                 NR   \n",
       "4  1001694               225  52918-63-5           LAB                  S   \n",
       "\n",
       "  test_control_type test_media_type test_application_freq_unit  \\\n",
       "0                 I              FW                         NR   \n",
       "1                 I              FW                          X   \n",
       "2                 I              FW                          X   \n",
       "3                 I              FW                         NR   \n",
       "4                 I              FW                          X   \n",
       "\n",
       "  test_organism_lifestage  result_id  ... split_random split_occurrence  \\\n",
       "0                      NR     124331  ...            3             test   \n",
       "1                      NR     112643  ...            3                2   \n",
       "2                      NR     112644  ...            3                2   \n",
       "3                      NR     131358  ...            4             test   \n",
       "4                      NR     111395  ...            3                2   \n",
       "\n",
       "   split_scaffold-murcko split_scaffold-murcko-loo-0  \\\n",
       "0                      4                        test   \n",
       "1                      4                        test   \n",
       "2                      4                        test   \n",
       "3                      3                  trainvalid   \n",
       "4                      2                  trainvalid   \n",
       "\n",
       "  split_scaffold-murcko-loo-1  split_scaffold-murcko-llo  \\\n",
       "0                  trainvalid                 trainvalid   \n",
       "1                  trainvalid                 trainvalid   \n",
       "2                  trainvalid                 trainvalid   \n",
       "3                        test                 trainvalid   \n",
       "4                  trainvalid                 trainvalid   \n",
       "\n",
       "   split_scaffold-generic  split_scaffold-generic-loo-0  \\\n",
       "0                       4                          test   \n",
       "1                       4                          test   \n",
       "2                       4                          test   \n",
       "3                       3                    trainvalid   \n",
       "4                       2                    trainvalid   \n",
       "\n",
       "   split_scaffold-generic-loo-1 split_scaffold-generic-llo  \n",
       "0                    trainvalid                 trainvalid  \n",
       "1                    trainvalid                 trainvalid  \n",
       "2                    trainvalid                 trainvalid  \n",
       "3                          test                 trainvalid  \n",
       "4                    trainvalid                 trainvalid  \n",
       "\n",
       "[5 rows x 1106 columns]"
      ]
     },
     "execution_count": 2,
     "metadata": {},
     "output_type": "execute_result"
    }
   ],
   "source": [
    "# Ruta local al archivo\n",
    "file_path = '../../data/raw/t-F2F_mortality.csv'\n",
    "\n",
    "# Cargar el dataset\n",
    "df = pd.read_csv(file_path, low_memory= False)\n",
    "\n",
    "# Primer vistazo\n",
    "df.head()"
   ]
  },
  {
   "cell_type": "code",
   "execution_count": 3,
   "id": "d5613fb8",
   "metadata": {},
   "outputs": [
    {
     "name": "stdout",
     "output_type": "stream",
     "text": [
      "<class 'pandas.core.frame.DataFrame'>\n",
      "RangeIndex: 26114 entries, 0 to 26113\n",
      "Columns: 1106 entries, test_id to split_scaffold-generic-llo\n",
      "dtypes: bool(3), float64(742), int64(308), object(53)\n",
      "memory usage: 219.8+ MB\n"
     ]
    }
   ],
   "source": [
    "# Información general del dataset\n",
    "df.info()"
   ]
  },
  {
   "cell_type": "code",
   "execution_count": 4,
   "id": "ae0d6e32",
   "metadata": {},
   "outputs": [
    {
     "name": "stdout",
     "output_type": "stream",
     "text": [
      "El dataset tiene 26,114 filas y 1106 columnas\n"
     ]
    }
   ],
   "source": [
    "# Dimensión\n",
    "print(f\"El dataset tiene {df.shape[0]:,} filas y {df.shape[1]} columnas\")"
   ]
  },
  {
   "cell_type": "code",
   "execution_count": 5,
   "id": "662d9548",
   "metadata": {},
   "outputs": [
    {
     "name": "stdout",
     "output_type": "stream",
     "text": [
      "valores nulos: 74740\n",
      "Duplicados: 0\n"
     ]
    }
   ],
   "source": [
    "# Nulos y duplicados\n",
    "print(\"valores nulos:\", df.isnull().sum().sum())\n",
    "print(\"Duplicados:\", df.duplicated().sum())"
   ]
  },
  {
   "cell_type": "markdown",
   "id": "29a89d89",
   "metadata": {},
   "source": [
    "# Train/test split (según benchmark ADORE)\n",
    "\n",
    "El benchmark ADORE propone una estrategia de partición basada en la **ocurrencia química**, es decir, asegura que un mismo compuesto no aparece en ambos conjuntos (train y test). Esto evita fugas de información y garantiza que la evaluación del modelo refleje su verdadera capacidad de generalización frente a compuestos nuevos y estructuralmente distintos.\n",
    "\n",
    "Para ello, ADORE proporciona un split predefinido en la columna `split_occurrence`:\n",
    "\n",
    "- Grupos `0` a `4`: conforman el conjunto de entrenamiento + validación (`trainval`)\n",
    "- Grupo `\"test\"`: reservado como conjunto de evaluación final (`test`)\n",
    "\n",
    "Además, los grupos `0–4` están pensados para facilitar **validación cruzada estratificada**, como parte del Challenge 2."
   ]
  },
  {
   "cell_type": "code",
   "execution_count": 6,
   "id": "4a863e63",
   "metadata": {},
   "outputs": [
    {
     "data": {
      "application/vnd.microsoft.datawrangler.viewer.v0+json": {
       "columns": [
        {
         "name": "split_occurrence",
         "rawType": "object",
         "type": "string"
        },
        {
         "name": "proportion",
         "rawType": "float64",
         "type": "float"
        }
       ],
       "ref": "144173c0-555d-4a5c-95d6-6ab27a26576f",
       "rows": [
        [
         "0",
         "0.17756758826683006"
        ],
        [
         "1",
         "0.17044497204564601"
        ],
        [
         "2",
         "0.16711342574864058"
        ],
        [
         "3",
         "0.1643562839856016"
        ],
        [
         "4",
         "0.1622501340277246"
        ],
        [
         "test",
         "0.15826759592555717"
        ]
       ],
       "shape": {
        "columns": 1,
        "rows": 6
       }
      },
      "text/plain": [
       "split_occurrence\n",
       "0       0.177568\n",
       "1       0.170445\n",
       "2       0.167113\n",
       "3       0.164356\n",
       "4       0.162250\n",
       "test    0.158268\n",
       "Name: proportion, dtype: float64"
      ]
     },
     "execution_count": 6,
     "metadata": {},
     "output_type": "execute_result"
    }
   ],
   "source": [
    "# Visualización del split\n",
    "df['split_occurrence'].value_counts()\n",
    "df['split_occurrence'].value_counts(normalize=True)"
   ]
  },
  {
   "cell_type": "code",
   "execution_count": 7,
   "id": "382094c9",
   "metadata": {},
   "outputs": [
    {
     "name": "stdout",
     "output_type": "stream",
     "text": [
      "Tamaño conjunto train+val: (21981, 1106)\n",
      "Tamaño conjunto test: (4133, 1106)\n"
     ]
    }
   ],
   "source": [
    "# División según los grupos definidos por el benchmark\n",
    "df_test = df[df['split_occurrence'] == 'test'].copy()\n",
    "df_trainval = df[df['split_occurrence'].isin(['0', '1', '2', '3', '4'])].copy()\n",
    "\n",
    "print(f\"Tamaño conjunto train+val: {df_trainval.shape}\")\n",
    "print(f\"Tamaño conjunto test: {df_test.shape}\")"
   ]
  },
  {
   "cell_type": "markdown",
   "id": "85f8f4f7",
   "metadata": {},
   "source": [
    "A partir de este punto:\n",
    "\n",
    "- Todos los análisis (EDA, transformaciones, modelado) se realizarán **solo sobre `df_trainval`**\n",
    "- El conjunto `df_test` se mantendrá **intacto** hasta la evaluación final, siguiendo las recomendaciones del benchmark ADORE."
   ]
  },
  {
   "cell_type": "markdown",
   "id": "fe3bf292",
   "metadata": {},
   "source": [
    "# Identificación del target"
   ]
  },
  {
   "cell_type": "markdown",
   "id": "1e3b4307",
   "metadata": {},
   "source": [
    "### Exploración y agrupación funcional de columnas\n",
    "\n",
    "Para facilitar la navegación por un dataset tan extenso, se realiza una agrupación funcional de columnas basada en sus prefijos. Esta categorización preliminar permite reducir la complejidad, entender mejor su estructura."
   ]
  },
  {
   "cell_type": "code",
   "execution_count": 8,
   "id": "3ec34a94",
   "metadata": {},
   "outputs": [
    {
     "data": {
      "application/vnd.microsoft.datawrangler.viewer.v0+json": {
       "columns": [
        {
         "name": "index",
         "rawType": "object",
         "type": "unknown"
        },
        {
         "name": "count",
         "rawType": "int64",
         "type": "integer"
        }
       ],
       "ref": "ca6cb6cb-2b17-4153-a51c-5c837194203c",
       "rows": [
        [
         "float64",
         "742"
        ],
        [
         "int64",
         "308"
        ],
        [
         "object",
         "53"
        ],
        [
         "bool",
         "3"
        ]
       ],
       "shape": {
        "columns": 1,
        "rows": 4
       }
      },
      "text/plain": [
       "float64    742\n",
       "int64      308\n",
       "object      53\n",
       "bool         3\n",
       "Name: count, dtype: int64"
      ]
     },
     "execution_count": 8,
     "metadata": {},
     "output_type": "execute_result"
    }
   ],
   "source": [
    "# Conteo por tipo de dato\n",
    "df_trainval.dtypes.value_counts()"
   ]
  },
  {
   "cell_type": "code",
   "execution_count": 9,
   "id": "a4ec1ee5",
   "metadata": {},
   "outputs": [
    {
     "data": {
      "text/plain": [
       "['test_id',\n",
       " 'reference_number',\n",
       " 'test_cas',\n",
       " 'test_location',\n",
       " 'test_exposure_type',\n",
       " 'test_control_type',\n",
       " 'test_media_type',\n",
       " 'test_application_freq_unit',\n",
       " 'test_organism_lifestage',\n",
       " 'result_id',\n",
       " 'result_effect',\n",
       " 'result_endpoint',\n",
       " 'result_obs_duration_mean',\n",
       " 'result_conc1_type',\n",
       " 'result_conc1_mean_op',\n",
       " 'result_conc1_mean',\n",
       " 'result_conc1_mean_mol',\n",
       " 'media_ph_mean',\n",
       " 'media_temperature_mean',\n",
       " 'tax_all',\n",
       " 'tax_name',\n",
       " 'tax_class',\n",
       " 'tax_order',\n",
       " 'tax_family',\n",
       " 'tax_genus',\n",
       " 'tax_species',\n",
       " 'tax_gs',\n",
       " 'species_number',\n",
       " 'tax_group',\n",
       " 'tax_pdm_available',\n",
       " 'tax_eco_climate',\n",
       " 'tax_eco_ecozone',\n",
       " 'tax_eco_food',\n",
       " 'tax_eco_migrate5',\n",
       " 'tax_eco_migrate2',\n",
       " 'tax_ps_ampv',\n",
       " 'tax_ps_ampkap',\n",
       " 'tax_ps_amppm',\n",
       " 'tax_lh_amd',\n",
       " 'tax_lh_lbcm',\n",
       " 'tax_lh_lpcm',\n",
       " 'tax_lh_licm',\n",
       " 'tax_lh_ri#/d',\n",
       " 'result_conc1_mean_binary',\n",
       " 'result_conc1_mean_log',\n",
       " 'result_conc1_mean_mol_log',\n",
       " 'chem_dtxsid',\n",
       " 'chem_name',\n",
       " 'test_cas_name',\n",
       " 'chem_sf',\n",
       " 'chem_mw',\n",
       " 'chem_mp',\n",
       " 'chem_ws',\n",
       " 'chem_ws_binary',\n",
       " 'chem_dtxcid',\n",
       " 'chem_inchi',\n",
       " 'chem_inchikey',\n",
       " 'chem_pcp_cid',\n",
       " 'chem_pcp_inchikey',\n",
       " 'chem_pcp_inchi',\n",
       " 'chem_pcp_iupac_name',\n",
       " 'chem_pcp_can_smiles',\n",
       " 'chem_pcp_fp',\n",
       " 'chem_pcp_heavy_atom_count',\n",
       " 'chem_rdkit_clogp',\n",
       " 'chem_pcp_bonds_count',\n",
       " 'chem_pcp_doublebonds_count',\n",
       " 'chem_pcp_triplebonds_count',\n",
       " 'chem_rings_count',\n",
       " 'chem_OH_count',\n",
       " 'chem_mol2vec_allowed',\n",
       " 'chem_rdkit_can_smiles',\n",
       " 'chem_pka_median',\n",
       " 'chem_MACCS_fp',\n",
       " 'chem_Morgan_fp',\n",
       " 'chem_ToxPrint_fp',\n",
       " 'chem_mol2vec000',\n",
       " 'chem_mol2vec001',\n",
       " 'chem_mol2vec002',\n",
       " 'chem_mol2vec003',\n",
       " 'chem_mol2vec004',\n",
       " 'chem_mol2vec005',\n",
       " 'chem_mol2vec006',\n",
       " 'chem_mol2vec007',\n",
       " 'chem_mol2vec008',\n",
       " 'chem_mol2vec009',\n",
       " 'chem_mol2vec010',\n",
       " 'chem_mol2vec011',\n",
       " 'chem_mol2vec012',\n",
       " 'chem_mol2vec013',\n",
       " 'chem_mol2vec014',\n",
       " 'chem_mol2vec015',\n",
       " 'chem_mol2vec016',\n",
       " 'chem_mol2vec017',\n",
       " 'chem_mol2vec018',\n",
       " 'chem_mol2vec019',\n",
       " 'chem_mol2vec020',\n",
       " 'chem_mol2vec021',\n",
       " 'chem_mol2vec022',\n",
       " 'chem_mol2vec023']"
      ]
     },
     "execution_count": 9,
     "metadata": {},
     "output_type": "execute_result"
    }
   ],
   "source": [
    "# Ver muestra de nombres de columnas\n",
    "columns = df.columns.tolist()\n",
    "columns[:100]"
   ]
  },
  {
   "cell_type": "code",
   "execution_count": 10,
   "id": "27b2aa0b",
   "metadata": {},
   "outputs": [
    {
     "data": {
      "text/plain": [
       "[('chem', 1048),\n",
       " ('tax', 23),\n",
       " ('result', 11),\n",
       " ('split', 11),\n",
       " ('test', 9),\n",
       " ('media', 2),\n",
       " ('reference', 1),\n",
       " ('species', 1)]"
      ]
     },
     "execution_count": 10,
     "metadata": {},
     "output_type": "execute_result"
    }
   ],
   "source": [
    "# Cuántas columnas empiezan por cada prefijo?\n",
    "prefijos = [col.split('_')[0] for col in columns]\n",
    "Counter(prefijos).most_common()"
   ]
  },
  {
   "cell_type": "code",
   "execution_count": 11,
   "id": "94339d83",
   "metadata": {},
   "outputs": [
    {
     "name": "stdout",
     "output_type": "stream",
     "text": [
      "\n",
      " TEST_ → 9 columnas\n",
      "test_id, test_cas, test_location, test_exposure_type, test_control_type, test_media_type, test_application_freq_unit, test_organism_lifestage...\n",
      "\n",
      " REFERENCE_ → 1 columnas\n",
      "reference_number\n",
      "\n",
      " RESULT_ → 11 columnas\n",
      "result_id, result_effect, result_endpoint, result_obs_duration_mean, result_conc1_type, result_conc1_mean_op, result_conc1_mean, result_conc1_mean_mol...\n",
      "\n",
      " MEDIA_ → 2 columnas\n",
      "media_ph_mean, media_temperature_mean\n",
      "\n",
      " TAX_ → 23 columnas\n",
      "tax_all, tax_name, tax_class, tax_order, tax_family, tax_genus, tax_species, tax_gs...\n",
      "\n",
      " SPECIES_ → 1 columnas\n",
      "species_number\n",
      "\n",
      " CHEM_ → 1048 columnas\n",
      "chem_dtxsid, chem_name, chem_sf, chem_mw, chem_mp, chem_ws, chem_ws_binary, chem_dtxcid...\n",
      "\n",
      " SPLIT_ → 11 columnas\n",
      "split_totallyrandom, split_random, split_occurrence, split_scaffold-murcko, split_scaffold-murcko-loo-0, split_scaffold-murcko-loo-1, split_scaffold-murcko-llo, split_scaffold-generic...\n"
     ]
    }
   ],
   "source": [
    "# Agrupación de nombres de columnas por su prefijo\n",
    "grouped_cols = defaultdict(list)\n",
    "\n",
    "for col in df_trainval.columns:\n",
    "    prefijo = col.split('_')[0]\n",
    "    grouped_cols[prefijo].append(col)\n",
    "\n",
    "# Mostrar un resumen del contenido por grupo\n",
    "for group, cols in grouped_cols.items():\n",
    "    print(f\"\\n {group.upper()}_ → {len(cols)} columnas\")\n",
    "    print(\", \".join(cols[:8]) + (\"...\" if len(cols) > 8 else \"\"))"
   ]
  },
  {
   "cell_type": "markdown",
   "id": "d47fbfe2",
   "metadata": {},
   "source": [
    "| Prefijo   | Significado general (según paper)                                                                    |\n",
    "| --------- | ---------------------------------------------------------------------------------------------------- |\n",
    "| `chem_`   | Descriptores químicos de la sustancia, incluyendo propiedades moleculares, fingerprints, SMILES y mol2vec. Incluye también categorías químicas y clasificaciones          |\n",
    "| `tax_`    | Información taxonómica del organismo expuesto (familia, género, especie, taxonomic group, etc.), que permite distinguir entre diferentes niveles taxonómicos              |\n",
    "| `test_`   | Condiciones del experimento, como tipo de exposición (static, flow-through, renewal), duración, frecuencia de aplicación, tipo de medio, etc                              |\n",
    "| `result_` | Resultados de toxicidad, incluyendo valores numéricos como EC50 o LC50, unidades, efectos observados, endpoints medicados, etc.                                           |\n",
    "| `media_`  | Condiciones físicas y químicas del medio de prueba tales como temperatura, pH, tipo de agua (agua dulce o salada), concentración media, etc.                              |\n",
    "| `split_`  | Variables relacionadas con la estrategia de partición de datos en conjuntos de entrenamiento y prueba, incluyendo los grupos 0-4 y test, para evaluación del modelo       |"
   ]
  },
  {
   "cell_type": "markdown",
   "id": "1e6f3554",
   "metadata": {},
   "source": [
    "## Elección del target\n",
    "\n",
    "La variable objetivo (`target`) representa la toxicidad medida en cada experimento, y puede adoptar diferentes formas dentro del dataset. A continuación se describen las principales:\n",
    "\n",
    "1. `result_conc1_mean_log`\n",
    "- Es el **logaritmo base 10** de la variable anterior.\n",
    "- Se utiliza para estabilizar la varianza y reducir la escala de los valores (algunos rangos varían en varios órdenes de magnitud).\n",
    "\n",
    "2. `result_conc1_mean_mol_log`\n",
    "- Es la versión logarítmica en **unidades molares**.\n",
    "- Puede ser útil cuando se pretende modelar la toxicidad desde un punto de vista molecular o farmacológico.\n",
    "3. `result_conc1_mean_binary`\n",
    "- Es una variable categórica binaria derivada de `result_conc1_mean_log` o su equivalente.\n",
    "- Clasifica cada observación como:\n",
    "    - 0 → sustancia menos tóxica\n",
    "    - 1 → sustancia más tóxica\n",
    "- Aunque el umbral exacto no está documentado explícitamente, probablemente corresponde a un valor de corte basado en criterios regulatorios (por ejemplo, log(LC50) ≈ –0.3).\n",
    "- Esta variable está alineada con el enfoque de clasificación binaria propuesto en el Challenge 2 del benchmark ADORE.\n",
    "\n",
    "\n",
    "### Otras variables relevantes del dataset\n",
    "\n",
    "- **Descriptores químicos**: fingerprints, descriptores moleculares, propiedades físico-químicas.\n",
    "- **Información del organismo**: especie, clase taxonómica, tasa reproductiva, tamaño.\n",
    "- **Condiciones experimentales**: tipo de medio, duración, endpoint toxicológico.\n",
    "- **Metadatos e identificadores**: códigos químicos (`CAS`), nombres comunes, IDs internos.\n",
    "\n",
    "### Target\n",
    "\n",
    "- Las variables `result_conc1_mean*` son medidas **intrínsecas de toxicidad**, por lo tanto **son candidatas naturales como objetivo de un modelo de regresión**.\n",
    "- En paralelo, existe una variable derivada `result_conc1_mean_binary`, que clasifica las observaciones como más o menos tóxicas, posiblemente en base a un umbral (e.g., log(LC50) ≈ -0.3).\n",
    "  - Esta variable puede ser empleada como objetivo en un modelo de **clasificación binaria**, como el propuesto en el Challenge 2 del benchmark ADORE."
   ]
  },
  {
   "cell_type": "code",
   "execution_count": 12,
   "id": "1c8a2a9f",
   "metadata": {},
   "outputs": [
    {
     "data": {
      "application/vnd.microsoft.datawrangler.viewer.v0+json": {
       "columns": [
        {
         "name": "result_conc1_mean_binary",
         "rawType": "int64",
         "type": "integer"
        },
        {
         "name": "count",
         "rawType": "float64",
         "type": "float"
        },
        {
         "name": "mean",
         "rawType": "float64",
         "type": "float"
        },
        {
         "name": "std",
         "rawType": "float64",
         "type": "float"
        },
        {
         "name": "min",
         "rawType": "float64",
         "type": "float"
        },
        {
         "name": "25%",
         "rawType": "float64",
         "type": "float"
        },
        {
         "name": "50%",
         "rawType": "float64",
         "type": "float"
        },
        {
         "name": "75%",
         "rawType": "float64",
         "type": "float"
        },
        {
         "name": "max",
         "rawType": "float64",
         "type": "float"
        }
       ],
       "ref": "f39cfbb1-c6f5-4a7e-8bc5-90dd2a5b2adb",
       "rows": [
        [
         "0",
         "12962.0",
         "1.2151350305565352",
         "0.8701214397040345",
         "0.0021660617565076",
         "0.5440680443502757",
         "1.0780927864204877",
         "1.6611256051164494",
         "4.977723605288848"
        ],
        [
         "1",
         "9019.0",
         "-1.2380511818149242",
         "0.8985056308171512",
         "-5.698970004336019",
         "-1.853871964321762",
         "-1.080921907623926",
         "-0.5023798990685923",
         "0.0"
        ]
       ],
       "shape": {
        "columns": 8,
        "rows": 2
       }
      },
      "text/html": [
       "<div>\n",
       "<style scoped>\n",
       "    .dataframe tbody tr th:only-of-type {\n",
       "        vertical-align: middle;\n",
       "    }\n",
       "\n",
       "    .dataframe tbody tr th {\n",
       "        vertical-align: top;\n",
       "    }\n",
       "\n",
       "    .dataframe thead th {\n",
       "        text-align: right;\n",
       "    }\n",
       "</style>\n",
       "<table border=\"1\" class=\"dataframe\">\n",
       "  <thead>\n",
       "    <tr style=\"text-align: right;\">\n",
       "      <th></th>\n",
       "      <th>count</th>\n",
       "      <th>mean</th>\n",
       "      <th>std</th>\n",
       "      <th>min</th>\n",
       "      <th>25%</th>\n",
       "      <th>50%</th>\n",
       "      <th>75%</th>\n",
       "      <th>max</th>\n",
       "    </tr>\n",
       "    <tr>\n",
       "      <th>result_conc1_mean_binary</th>\n",
       "      <th></th>\n",
       "      <th></th>\n",
       "      <th></th>\n",
       "      <th></th>\n",
       "      <th></th>\n",
       "      <th></th>\n",
       "      <th></th>\n",
       "      <th></th>\n",
       "    </tr>\n",
       "  </thead>\n",
       "  <tbody>\n",
       "    <tr>\n",
       "      <th>0</th>\n",
       "      <td>12962.0</td>\n",
       "      <td>1.215135</td>\n",
       "      <td>0.870121</td>\n",
       "      <td>0.002166</td>\n",
       "      <td>0.544068</td>\n",
       "      <td>1.078093</td>\n",
       "      <td>1.661126</td>\n",
       "      <td>4.977724</td>\n",
       "    </tr>\n",
       "    <tr>\n",
       "      <th>1</th>\n",
       "      <td>9019.0</td>\n",
       "      <td>-1.238051</td>\n",
       "      <td>0.898506</td>\n",
       "      <td>-5.698970</td>\n",
       "      <td>-1.853872</td>\n",
       "      <td>-1.080922</td>\n",
       "      <td>-0.502380</td>\n",
       "      <td>0.000000</td>\n",
       "    </tr>\n",
       "  </tbody>\n",
       "</table>\n",
       "</div>"
      ],
      "text/plain": [
       "                            count      mean       std       min       25%  \\\n",
       "result_conc1_mean_binary                                                    \n",
       "0                         12962.0  1.215135  0.870121  0.002166  0.544068   \n",
       "1                          9019.0 -1.238051  0.898506 -5.698970 -1.853872   \n",
       "\n",
       "                               50%       75%       max  \n",
       "result_conc1_mean_binary                                \n",
       "0                         1.078093  1.661126  4.977724  \n",
       "1                        -1.080922 -0.502380  0.000000  "
      ]
     },
     "execution_count": 12,
     "metadata": {},
     "output_type": "execute_result"
    }
   ],
   "source": [
    "df_trainval[\"result_conc1_mean_binary\"].value_counts()\n",
    "df_trainval.groupby(\"result_conc1_mean_binary\")[\"result_conc1_mean_log\"].describe()"
   ]
  },
  {
   "cell_type": "markdown",
   "id": "ed9368aa",
   "metadata": {},
   "source": [
    "Su distribución es aproximadamente 58 % / 42 %, lo que sugiere un cierto desbalance, pero no extremo.\n",
    "\n",
    "Al analizar su relación con `result_conc1_mean_log`, se observa que las sustancias marcadas como `1` (más tóxicas) tienen valores medios notablemente más bajos en log10(mg/L), lo que **confirma su sentido ecotoxicológico**.\n",
    "\n",
    "Aunque el umbral de corte no está documentado explícitamente, todo indica que se ha aplicado una transformación coherente con los criterios estándar en toxicología.\n",
    "\n",
    "> Esta variable se considera **una candidata válida como target binario** para el caso de clasificación, y será evaluada más adelante."
   ]
  },
  {
   "cell_type": "code",
   "execution_count": 13,
   "id": "885dba33",
   "metadata": {},
   "outputs": [],
   "source": [
    "# Nombre de la variable objetivo\n",
    "target = \"result_conc1_mean_binary\"\n",
    "\n",
    "# Separación\n",
    "X_train = df_trainval.drop(columns=target).copy()\n",
    "y_train = df_trainval[target].copy()"
   ]
  },
  {
   "cell_type": "code",
   "execution_count": 14,
   "id": "0b8d7186",
   "metadata": {},
   "outputs": [
    {
     "name": "stdout",
     "output_type": "stream",
     "text": [
      "Shape de X_train: (21981, 1105)\n",
      "Shape de y_train: (21981,)\n",
      "Distribución del target:\n",
      "result_conc1_mean_binary\n",
      "0    0.589691\n",
      "1    0.410309\n",
      "Name: proportion, dtype: float64\n"
     ]
    }
   ],
   "source": [
    "# Validación básica\n",
    "print(f\"Shape de X_train: {X_train.shape}\")\n",
    "print(f\"Shape de y_train: {y_train.shape}\")\n",
    "print(f\"Distribución del target:\\n{y_train.value_counts(normalize=True)}\")"
   ]
  },
  {
   "cell_type": "code",
   "execution_count": 15,
   "id": "dcc0e36e",
   "metadata": {},
   "outputs": [
    {
     "data": {
      "image/png": "[encoded data removed]",
      "text/plain": [
       "<Figure size 640x480 with 1 Axes>"
      ]
     },
     "metadata": {},
     "output_type": "display_data"
    }
   ],
   "source": [
    "# Visualización de frecuencias\n",
    "sns.countplot(x=df_trainval[target])\n",
    "plt.title(\"Distribución del target (Toxicidad aguda)\")\n",
    "plt.xlabel(\"Toxicidad (0 = baja, 1 = alta)\")\n",
    "plt.ylabel(\"Número de muestras\")\n",
    "plt.show()"
   ]
  },
  {
   "cell_type": "code",
   "execution_count": 22,
   "id": "153dd5af",
   "metadata": {},
   "outputs": [
    {
     "name": "stderr",
     "output_type": "stream",
     "text": [
      "C:\\Users\\javie\\AppData\\Local\\Temp\\ipykernel_27432\\3288394185.py:11: FutureWarning: \n",
      "\n",
      "Passing `palette` without assigning `hue` is deprecated and will be removed in v0.14.0. Assign the `x` variable to `hue` and set `legend=False` for the same effect.\n",
      "\n",
      "  ax = sns.barplot(x=conteo.index, y=conteo.values, palette=colores_space)\n"
     ]
    },
    {
     "data": {
      "image/png": "[encoded data removed]",
      "text/plain": [
       "<Figure size 600x500 with 1 Axes>"
      ]
     },
     "metadata": {},
     "output_type": "display_data"
    }
   ],
   "source": [
    "# Gráfico Presentación\n",
    "# Definir serie y colores\n",
    "serie = df_trainval[target]\n",
    "colores_space = ['#002A32', '#B0E0C6']  # azul marino y verde menta\n",
    "\n",
    "# Calcular recuento\n",
    "conteo = serie.value_counts().sort_index()\n",
    "\n",
    "# Crear figura\n",
    "plt.figure(figsize=(6, 5))\n",
    "ax = sns.barplot(x=conteo.index, y=conteo.values, palette=colores_space)\n",
    "\n",
    "# Etiquetas numéricas más pequeñas, sin negrita, con margen superior\n",
    "for i, valor in enumerate(conteo.values):\n",
    "    ax.text(i, valor + 100, str(valor), ha='center', va='bottom',\n",
    "            fontsize=9)  \n",
    "\n",
    "# Estilo general\n",
    "plt.title(\"Distribución del target (Toxicidad aguda)\", fontsize=13)\n",
    "plt.xlabel(\"Toxicidad (0 = baja, 1 = alta)\", fontsize=11)\n",
    "plt.ylabel(\"Número de muestras\", fontsize=11)\n",
    "plt.grid(axis='y', linestyle='--', alpha=0.3)\n",
    "plt.tight_layout()\n",
    "plt.show()"
   ]
  }
 ],
 "metadata": {
  "kernelspec": {
   "display_name": "Python 3",
   "language": "python",
   "name": "python3"
  },
  "language_info": {
   "codemirror_mode": {
    "name": "ipython",
    "version": 3
   },
   "file_extension": ".py",
   "mimetype": "text/x-python",
   "name": "python",
   "nbconvert_exporter": "python",
   "pygments_lexer": "ipython3",
   "version": "3.13.2"
  }
 },
 "nbformat": 4,
 "nbformat_minor": 5
}
